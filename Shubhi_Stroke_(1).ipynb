{
  "nbformat": 4,
  "nbformat_minor": 0,
  "metadata": {
    "colab": {
      "name": "Shubhi_Stroke (1).ipynb",
      "version": "0.3.2",
      "provenance": [],
      "collapsed_sections": [
        "IdWY2wL5qcYM",
        "uxCX-6Ycpf10",
        "XVHpJA9gq5EN",
        "V8AhA1BnpmRk",
        "WNvz84ZdwUGq",
        "mfZDcd3eU_8o",
        "iRRr1Xvtww6C",
        "Ay2nc1XHqMId",
        "2hP9T3d4fmcZ",
        "2aP8u8E9ab8x",
        "0gpz_wrCe8Yj"
      ]
    },
    "kernelspec": {
      "display_name": "Python 3",
      "language": "python",
      "name": "python3"
    }
  },
  "cells": [
    {
      "cell_type": "markdown",
      "metadata": {
        "id": "IdWY2wL5qcYM",
        "colab_type": "text"
      },
      "source": [
        "# ** Importing Libraries**"
      ]
    },
    {
      "cell_type": "code",
      "metadata": {
        "_uuid": "4a6e56c8be3ba785d7434891069135af56434e6d",
        "id": "YWHTbBaRVtGc",
        "colab_type": "code",
        "colab": {}
      },
      "source": [
        "import pandas as pd\n",
        "import numpy as np\n",
        "import warnings\n",
        "warnings.filterwarnings('ignore')"
      ],
      "execution_count": 0,
      "outputs": []
    },
    {
      "cell_type": "code",
      "metadata": {
        "id": "Qh_DFzTVp02b",
        "colab_type": "code",
        "colab": {}
      },
      "source": [
        "from sklearn.model_selection import cross_val_score\n",
        "from sklearn.model_selection import GridSearchCV\n",
        "from sklearn.tree import DecisionTreeClassifier\n",
        "from sklearn.ensemble import AdaBoostClassifier,BaggingClassifier,RandomForestClassifier,GradientBoostingClassifier\n",
        "from sklearn.metrics import f1_score,confusion_matrix,classification_report\n",
        "from sklearn.metrics import roc_auc_score,cohen_kappa_score,matthews_corrcoef,SCORERS\n",
        "from sklearn.svm import LinearSVC\n",
        "from sklearn.neighbors import KNeighborsClassifier\n",
        "from sklearn.linear_model import LogisticRegression\n",
        "from sklearn.naive_bayes import GaussianNB,BernoulliNB\n",
        "\n",
        "from xgboost import XGBClassifier \n",
        "import xgboost as xgb\n",
        "from imblearn.over_sampling import SMOTE\n",
        "from sklearn.model_selection import train_test_split"
      ],
      "execution_count": 0,
      "outputs": []
    },
    {
      "cell_type": "markdown",
      "metadata": {
        "id": "uxCX-6Ycpf10",
        "colab_type": "text"
      },
      "source": [
        "# Data Preprocessing"
      ]
    },
    {
      "cell_type": "code",
      "metadata": {
        "id": "bRH5u4uiV3fL",
        "colab_type": "code",
        "outputId": "b61a16d1-2b0d-47b4-c0be-d0a1727a7076",
        "colab": {
          "resources": {
            "http://localhost:8080/nbextensions/google.colab/files.js": {
              "data": "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",
              "ok": true,
              "headers": [
                [
                  "content-type",
                  "application/javascript"
                ]
              ],
              "status": 200,
              "status_text": ""
            }
          },
          "base_uri": "https://localhost:8080/",
          "height": 74
        }
      },
      "source": [
        "from google.colab import files\n",
        "file=files.upload()"
      ],
      "execution_count": 0,
      "outputs": [
        {
          "output_type": "display_data",
          "data": {
            "text/html": [
              "\n",
              "     <input type=\"file\" id=\"files-1a8f5aeb-5619-4880-983c-7e6bcb60a574\" name=\"files[]\" multiple disabled />\n",
              "     <output id=\"result-1a8f5aeb-5619-4880-983c-7e6bcb60a574\">\n",
              "      Upload widget is only available when the cell has been executed in the\n",
              "      current browser session. Please rerun this cell to enable.\n",
              "      </output>\n",
              "      <script src=\"/nbextensions/google.colab/files.js\"></script> "
            ],
            "text/plain": [
              "<IPython.core.display.HTML object>"
            ]
          },
          "metadata": {
            "tags": []
          }
        },
        {
          "output_type": "stream",
          "text": [
            "Saving PatientData.csv to PatientData (1).csv\n"
          ],
          "name": "stdout"
        }
      ]
    },
    {
      "cell_type": "code",
      "metadata": {
        "_uuid": "1ebdb5836d943735ee1ea5ba1e95bef758cc3b26",
        "id": "ilF3yBS-VtGx",
        "colab_type": "code",
        "outputId": "6368fb1e-280a-43f4-be85-c2e308849e2f",
        "colab": {
          "base_uri": "https://localhost:8080/",
          "height": 204
        }
      },
      "source": [
        "data=pd.read_csv('PatientData.csv')\n",
        "data.head()"
      ],
      "execution_count": 0,
      "outputs": [
        {
          "output_type": "execute_result",
          "data": {
            "text/html": [
              "<div>\n",
              "<style scoped>\n",
              "    .dataframe tbody tr th:only-of-type {\n",
              "        vertical-align: middle;\n",
              "    }\n",
              "\n",
              "    .dataframe tbody tr th {\n",
              "        vertical-align: top;\n",
              "    }\n",
              "\n",
              "    .dataframe thead th {\n",
              "        text-align: right;\n",
              "    }\n",
              "</style>\n",
              "<table border=\"1\" class=\"dataframe\">\n",
              "  <thead>\n",
              "    <tr style=\"text-align: right;\">\n",
              "      <th></th>\n",
              "      <th>gender</th>\n",
              "      <th>age</th>\n",
              "      <th>diabetes</th>\n",
              "      <th>hypertension</th>\n",
              "      <th>stroke</th>\n",
              "      <th>heart disease</th>\n",
              "      <th>smoking history</th>\n",
              "      <th>BMI</th>\n",
              "    </tr>\n",
              "  </thead>\n",
              "  <tbody>\n",
              "    <tr>\n",
              "      <th>0</th>\n",
              "      <td>Female</td>\n",
              "      <td>80.0</td>\n",
              "      <td>0</td>\n",
              "      <td>0</td>\n",
              "      <td>0</td>\n",
              "      <td>1</td>\n",
              "      <td>never</td>\n",
              "      <td>25.19</td>\n",
              "    </tr>\n",
              "    <tr>\n",
              "      <th>1</th>\n",
              "      <td>Female</td>\n",
              "      <td>54.0</td>\n",
              "      <td>0</td>\n",
              "      <td>0</td>\n",
              "      <td>0</td>\n",
              "      <td>0</td>\n",
              "      <td>NaN</td>\n",
              "      <td>NaN</td>\n",
              "    </tr>\n",
              "    <tr>\n",
              "      <th>2</th>\n",
              "      <td>Male</td>\n",
              "      <td>28.0</td>\n",
              "      <td>0</td>\n",
              "      <td>0</td>\n",
              "      <td>0</td>\n",
              "      <td>0</td>\n",
              "      <td>never</td>\n",
              "      <td>NaN</td>\n",
              "    </tr>\n",
              "    <tr>\n",
              "      <th>3</th>\n",
              "      <td>Female</td>\n",
              "      <td>36.0</td>\n",
              "      <td>0</td>\n",
              "      <td>0</td>\n",
              "      <td>0</td>\n",
              "      <td>0</td>\n",
              "      <td>current</td>\n",
              "      <td>23.45</td>\n",
              "    </tr>\n",
              "    <tr>\n",
              "      <th>4</th>\n",
              "      <td>Male</td>\n",
              "      <td>76.0</td>\n",
              "      <td>0</td>\n",
              "      <td>1</td>\n",
              "      <td>0</td>\n",
              "      <td>1</td>\n",
              "      <td>current</td>\n",
              "      <td>20.14</td>\n",
              "    </tr>\n",
              "  </tbody>\n",
              "</table>\n",
              "</div>"
            ],
            "text/plain": [
              "   gender   age  diabetes  hypertension  stroke  heart disease  \\\n",
              "0  Female  80.0         0             0       0              1   \n",
              "1  Female  54.0         0             0       0              0   \n",
              "2    Male  28.0         0             0       0              0   \n",
              "3  Female  36.0         0             0       0              0   \n",
              "4    Male  76.0         0             1       0              1   \n",
              "\n",
              "  smoking history    BMI  \n",
              "0           never  25.19  \n",
              "1             NaN    NaN  \n",
              "2           never    NaN  \n",
              "3         current  23.45  \n",
              "4         current  20.14  "
            ]
          },
          "metadata": {
            "tags": []
          },
          "execution_count": 7
        }
      ]
    },
    {
      "cell_type": "code",
      "metadata": {
        "_uuid": "f4e78b6cf2dc7a7613ad8066ed66d70fe6485b51",
        "id": "sBHLN8kYVtHM",
        "colab_type": "code",
        "outputId": "0e564d8c-bd79-4d77-deb1-63ccaf2f169f",
        "colab": {
          "base_uri": "https://localhost:8080/",
          "height": 170
        }
      },
      "source": [
        "data.isna().sum()"
      ],
      "execution_count": 0,
      "outputs": [
        {
          "output_type": "execute_result",
          "data": {
            "text/plain": [
              "gender                 0\n",
              "age                    0\n",
              "diabetes               0\n",
              "hypertension           0\n",
              "stroke                 0\n",
              "heart disease          0\n",
              "smoking history    35816\n",
              "BMI                25444\n",
              "dtype: int64"
            ]
          },
          "metadata": {
            "tags": []
          },
          "execution_count": 8
        }
      ]
    },
    {
      "cell_type": "code",
      "metadata": {
        "id": "ICzB-wnKXnnh",
        "colab_type": "code",
        "outputId": "801bb6f6-c423-400b-9d9b-8ac5617d8d6f",
        "colab": {
          "base_uri": "https://localhost:8080/",
          "height": 170
        }
      },
      "source": [
        "data.dtypes"
      ],
      "execution_count": 0,
      "outputs": [
        {
          "output_type": "execute_result",
          "data": {
            "text/plain": [
              "gender              object\n",
              "age                float64\n",
              "diabetes             int64\n",
              "hypertension         int64\n",
              "stroke               int64\n",
              "heart disease        int64\n",
              "smoking history     object\n",
              "BMI                float64\n",
              "dtype: object"
            ]
          },
          "metadata": {
            "tags": []
          },
          "execution_count": 9
        }
      ]
    },
    {
      "cell_type": "code",
      "metadata": {
        "id": "DbhH3gBfuMlh",
        "colab_type": "code",
        "outputId": "23019e17-e28b-43a5-c625-56e6197d1c01",
        "colab": {
          "base_uri": "https://localhost:8080/",
          "height": 235
        }
      },
      "source": [
        "data.corr()"
      ],
      "execution_count": 0,
      "outputs": [
        {
          "output_type": "execute_result",
          "data": {
            "text/html": [
              "<div>\n",
              "<style scoped>\n",
              "    .dataframe tbody tr th:only-of-type {\n",
              "        vertical-align: middle;\n",
              "    }\n",
              "\n",
              "    .dataframe tbody tr th {\n",
              "        vertical-align: top;\n",
              "    }\n",
              "\n",
              "    .dataframe thead th {\n",
              "        text-align: right;\n",
              "    }\n",
              "</style>\n",
              "<table border=\"1\" class=\"dataframe\">\n",
              "  <thead>\n",
              "    <tr style=\"text-align: right;\">\n",
              "      <th></th>\n",
              "      <th>age</th>\n",
              "      <th>diabetes</th>\n",
              "      <th>hypertension</th>\n",
              "      <th>stroke</th>\n",
              "      <th>heart disease</th>\n",
              "      <th>BMI</th>\n",
              "    </tr>\n",
              "  </thead>\n",
              "  <tbody>\n",
              "    <tr>\n",
              "      <th>age</th>\n",
              "      <td>1.000000</td>\n",
              "      <td>0.258008</td>\n",
              "      <td>0.251171</td>\n",
              "      <td>0.143748</td>\n",
              "      <td>0.233354</td>\n",
              "      <td>0.387541</td>\n",
              "    </tr>\n",
              "    <tr>\n",
              "      <th>diabetes</th>\n",
              "      <td>0.258008</td>\n",
              "      <td>1.000000</td>\n",
              "      <td>0.197823</td>\n",
              "      <td>0.086132</td>\n",
              "      <td>0.171727</td>\n",
              "      <td>0.237774</td>\n",
              "    </tr>\n",
              "    <tr>\n",
              "      <th>hypertension</th>\n",
              "      <td>0.251171</td>\n",
              "      <td>0.197823</td>\n",
              "      <td>1.000000</td>\n",
              "      <td>0.077651</td>\n",
              "      <td>0.121262</td>\n",
              "      <td>0.162858</td>\n",
              "    </tr>\n",
              "    <tr>\n",
              "      <th>stroke</th>\n",
              "      <td>0.143748</td>\n",
              "      <td>0.086132</td>\n",
              "      <td>0.077651</td>\n",
              "      <td>1.000000</td>\n",
              "      <td>0.102201</td>\n",
              "      <td>0.028356</td>\n",
              "    </tr>\n",
              "    <tr>\n",
              "      <th>heart disease</th>\n",
              "      <td>0.233354</td>\n",
              "      <td>0.171727</td>\n",
              "      <td>0.121262</td>\n",
              "      <td>0.102201</td>\n",
              "      <td>1.000000</td>\n",
              "      <td>0.068643</td>\n",
              "    </tr>\n",
              "    <tr>\n",
              "      <th>BMI</th>\n",
              "      <td>0.387541</td>\n",
              "      <td>0.237774</td>\n",
              "      <td>0.162858</td>\n",
              "      <td>0.028356</td>\n",
              "      <td>0.068643</td>\n",
              "      <td>1.000000</td>\n",
              "    </tr>\n",
              "  </tbody>\n",
              "</table>\n",
              "</div>"
            ],
            "text/plain": [
              "                    age  diabetes  hypertension    stroke  heart disease  \\\n",
              "age            1.000000  0.258008      0.251171  0.143748       0.233354   \n",
              "diabetes       0.258008  1.000000      0.197823  0.086132       0.171727   \n",
              "hypertension   0.251171  0.197823      1.000000  0.077651       0.121262   \n",
              "stroke         0.143748  0.086132      0.077651  1.000000       0.102201   \n",
              "heart disease  0.233354  0.171727      0.121262  0.102201       1.000000   \n",
              "BMI            0.387541  0.237774      0.162858  0.028356       0.068643   \n",
              "\n",
              "                    BMI  \n",
              "age            0.387541  \n",
              "diabetes       0.237774  \n",
              "hypertension   0.162858  \n",
              "stroke         0.028356  \n",
              "heart disease  0.068643  \n",
              "BMI            1.000000  "
            ]
          },
          "metadata": {
            "tags": []
          },
          "execution_count": 10
        }
      ]
    },
    {
      "cell_type": "code",
      "metadata": {
        "_uuid": "dbfb45f1d369527e2a63b996e14cbd7fb40ab404",
        "id": "PGt0G621VtIh",
        "colab_type": "code",
        "colab": {}
      },
      "source": [
        "import matplotlib.pyplot as plt\n",
        "%matplotlib inline"
      ],
      "execution_count": 0,
      "outputs": []
    },
    {
      "cell_type": "code",
      "metadata": {
        "_uuid": "826d355a8fb9e6059110f70fa66daa435c1f7c3a",
        "id": "qJ3FUUi8VtIu",
        "colab_type": "code",
        "outputId": "f8fd9b12-ab72-4589-caaa-0aa2f806615f",
        "colab": {
          "base_uri": "https://localhost:8080/",
          "height": 286
        }
      },
      "source": [
        "plt.scatter(data.index,data.BMI)"
      ],
      "execution_count": 0,
      "outputs": [
        {
          "output_type": "execute_result",
          "data": {
            "text/plain": [
              "<matplotlib.collections.PathCollection at 0x7fd223036630>"
            ]
          },
          "metadata": {
            "tags": []
          },
          "execution_count": 12
        },
        {
          "output_type": "display_data",
          "data": {
            "image/png": "[encoded data removed]",
            "text/plain": [
              "<Figure size 432x288 with 1 Axes>"
            ]
          },
          "metadata": {
            "tags": []
          }
        }
      ]
    },
    {
      "cell_type": "code",
      "metadata": {
        "_uuid": "1c8741bfacf46bc382e7f2e185a8e8a3902447c8",
        "id": "LJTnoKJrVtI7",
        "colab_type": "code",
        "colab": {}
      },
      "source": [
        "data['smoking history']=data['smoking history'].fillna('Unknown')"
      ],
      "execution_count": 0,
      "outputs": []
    },
    {
      "cell_type": "code",
      "metadata": {
        "_uuid": "10138c7e0d74796570a5867b1a4f11e4cb3bc61d",
        "id": "RlxPhAUDVtJI",
        "colab_type": "code",
        "outputId": "0ac24937-0bed-4b19-a18e-91a8135a9886",
        "colab": {
          "base_uri": "https://localhost:8080/",
          "height": 136
        }
      },
      "source": [
        "data['smoking history'].value_counts()"
      ],
      "execution_count": 0,
      "outputs": [
        {
          "output_type": "execute_result",
          "data": {
            "text/plain": [
              "Unknown        35816\n",
              "never          35095\n",
              "former          9352\n",
              "current         9286\n",
              "not current     6447\n",
              "ever            4004\n",
              "Name: smoking history, dtype: int64"
            ]
          },
          "metadata": {
            "tags": []
          },
          "execution_count": 14
        }
      ]
    },
    {
      "cell_type": "code",
      "metadata": {
        "_uuid": "470d26beffbc74e45ef153c29bda8dacc7c522b8",
        "id": "ZUkY9tkxVtKf",
        "colab_type": "code",
        "colab": {}
      },
      "source": [
        "train_data_cat=data.select_dtypes(include=[object])\n",
        "train_data_num=data.select_dtypes(exclude=[object])\n",
        "train_data_cat=pd.get_dummies(train_data_cat, columns=train_data_cat.columns, drop_first=True)\n",
        "data_df=pd.concat([train_data_cat,train_data_num],axis=1)"
      ],
      "execution_count": 0,
      "outputs": []
    },
    {
      "cell_type": "code",
      "metadata": {
        "_uuid": "d323a733437812f6890266faa426c28660be74a2",
        "id": "kQS65Sp2VtKs",
        "colab_type": "code",
        "outputId": "78f69d25-31ee-4a74-b000-a95391134ab4",
        "colab": {
          "base_uri": "https://localhost:8080/",
          "height": 238
        }
      },
      "source": [
        "data_df.head()"
      ],
      "execution_count": 0,
      "outputs": [
        {
          "output_type": "execute_result",
          "data": {
            "text/html": [
              "<div>\n",
              "<style scoped>\n",
              "    .dataframe tbody tr th:only-of-type {\n",
              "        vertical-align: middle;\n",
              "    }\n",
              "\n",
              "    .dataframe tbody tr th {\n",
              "        vertical-align: top;\n",
              "    }\n",
              "\n",
              "    .dataframe thead th {\n",
              "        text-align: right;\n",
              "    }\n",
              "</style>\n",
              "<table border=\"1\" class=\"dataframe\">\n",
              "  <thead>\n",
              "    <tr style=\"text-align: right;\">\n",
              "      <th></th>\n",
              "      <th>gender_Male</th>\n",
              "      <th>gender_Other</th>\n",
              "      <th>smoking history_current</th>\n",
              "      <th>smoking history_ever</th>\n",
              "      <th>smoking history_former</th>\n",
              "      <th>smoking history_never</th>\n",
              "      <th>smoking history_not current</th>\n",
              "      <th>age</th>\n",
              "      <th>diabetes</th>\n",
              "      <th>hypertension</th>\n",
              "      <th>stroke</th>\n",
              "      <th>heart disease</th>\n",
              "      <th>BMI</th>\n",
              "    </tr>\n",
              "  </thead>\n",
              "  <tbody>\n",
              "    <tr>\n",
              "      <th>0</th>\n",
              "      <td>0</td>\n",
              "      <td>0</td>\n",
              "      <td>0</td>\n",
              "      <td>0</td>\n",
              "      <td>0</td>\n",
              "      <td>1</td>\n",
              "      <td>0</td>\n",
              "      <td>80.0</td>\n",
              "      <td>0</td>\n",
              "      <td>0</td>\n",
              "      <td>0</td>\n",
              "      <td>1</td>\n",
              "      <td>25.19</td>\n",
              "    </tr>\n",
              "    <tr>\n",
              "      <th>1</th>\n",
              "      <td>0</td>\n",
              "      <td>0</td>\n",
              "      <td>0</td>\n",
              "      <td>0</td>\n",
              "      <td>0</td>\n",
              "      <td>0</td>\n",
              "      <td>0</td>\n",
              "      <td>54.0</td>\n",
              "      <td>0</td>\n",
              "      <td>0</td>\n",
              "      <td>0</td>\n",
              "      <td>0</td>\n",
              "      <td>NaN</td>\n",
              "    </tr>\n",
              "    <tr>\n",
              "      <th>2</th>\n",
              "      <td>1</td>\n",
              "      <td>0</td>\n",
              "      <td>0</td>\n",
              "      <td>0</td>\n",
              "      <td>0</td>\n",
              "      <td>1</td>\n",
              "      <td>0</td>\n",
              "      <td>28.0</td>\n",
              "      <td>0</td>\n",
              "      <td>0</td>\n",
              "      <td>0</td>\n",
              "      <td>0</td>\n",
              "      <td>NaN</td>\n",
              "    </tr>\n",
              "    <tr>\n",
              "      <th>3</th>\n",
              "      <td>0</td>\n",
              "      <td>0</td>\n",
              "      <td>1</td>\n",
              "      <td>0</td>\n",
              "      <td>0</td>\n",
              "      <td>0</td>\n",
              "      <td>0</td>\n",
              "      <td>36.0</td>\n",
              "      <td>0</td>\n",
              "      <td>0</td>\n",
              "      <td>0</td>\n",
              "      <td>0</td>\n",
              "      <td>23.45</td>\n",
              "    </tr>\n",
              "    <tr>\n",
              "      <th>4</th>\n",
              "      <td>1</td>\n",
              "      <td>0</td>\n",
              "      <td>1</td>\n",
              "      <td>0</td>\n",
              "      <td>0</td>\n",
              "      <td>0</td>\n",
              "      <td>0</td>\n",
              "      <td>76.0</td>\n",
              "      <td>0</td>\n",
              "      <td>1</td>\n",
              "      <td>0</td>\n",
              "      <td>1</td>\n",
              "      <td>20.14</td>\n",
              "    </tr>\n",
              "  </tbody>\n",
              "</table>\n",
              "</div>"
            ],
            "text/plain": [
              "   gender_Male  gender_Other  smoking history_current  smoking history_ever  \\\n",
              "0            0             0                        0                     0   \n",
              "1            0             0                        0                     0   \n",
              "2            1             0                        0                     0   \n",
              "3            0             0                        1                     0   \n",
              "4            1             0                        1                     0   \n",
              "\n",
              "   smoking history_former  smoking history_never  smoking history_not current  \\\n",
              "0                       0                      1                            0   \n",
              "1                       0                      0                            0   \n",
              "2                       0                      1                            0   \n",
              "3                       0                      0                            0   \n",
              "4                       0                      0                            0   \n",
              "\n",
              "    age  diabetes  hypertension  stroke  heart disease    BMI  \n",
              "0  80.0         0             0       0              1  25.19  \n",
              "1  54.0         0             0       0              0    NaN  \n",
              "2  28.0         0             0       0              0    NaN  \n",
              "3  36.0         0             0       0              0  23.45  \n",
              "4  76.0         0             1       0              1  20.14  "
            ]
          },
          "metadata": {
            "tags": []
          },
          "execution_count": 16
        }
      ]
    },
    {
      "cell_type": "code",
      "metadata": {
        "_uuid": "ecdc878c63a4d7c250ef2944a433e9b87632b123",
        "id": "AZYyHZD7VtLY",
        "colab_type": "code",
        "outputId": "f862a1d0-1650-425b-9a69-bfe10d107b6d",
        "colab": {
          "base_uri": "https://localhost:8080/",
          "height": 34
        }
      },
      "source": [
        "from fancyimpute import IterativeImputer"
      ],
      "execution_count": 0,
      "outputs": [
        {
          "output_type": "stream",
          "text": [
            "Using TensorFlow backend.\n"
          ],
          "name": "stderr"
        }
      ]
    },
    {
      "cell_type": "code",
      "metadata": {
        "_uuid": "77e8425327c4b3e842800fc4f24dde0e910fb7ff",
        "id": "237EVe7VVtLt",
        "colab_type": "code",
        "colab": {}
      },
      "source": [
        "XY_incomplete = data_df.copy()"
      ],
      "execution_count": 0,
      "outputs": []
    },
    {
      "cell_type": "code",
      "metadata": {
        "_uuid": "8ce98906a5ac427b4017c789ce792e15fcb83901",
        "id": "Wx26m87zVtL_",
        "colab_type": "code",
        "colab": {}
      },
      "source": [
        "data_complete_df = pd.DataFrame(IterativeImputer(n_iter=20, sample_posterior=True, random_state=8).fit_transform(XY_incomplete))"
      ],
      "execution_count": 0,
      "outputs": []
    },
    {
      "cell_type": "code",
      "metadata": {
        "_uuid": "5a2a575cab17e3304b492f80d81a82c019f331cb",
        "id": "Bzy8UgjPVtMK",
        "colab_type": "code",
        "colab": {}
      },
      "source": [
        "data_complete_df.columns=data_df.columns"
      ],
      "execution_count": 0,
      "outputs": []
    },
    {
      "cell_type": "code",
      "metadata": {
        "_uuid": "94a2339789e9814190a41fba49700ca62e9eb6f1",
        "id": "CCR8jrgZVtMY",
        "colab_type": "code",
        "outputId": "6e422f8a-6c04-4112-d6a1-b291b43b1c09",
        "colab": {
          "base_uri": "https://localhost:8080/",
          "height": 258
        }
      },
      "source": [
        "data_complete_df.head()"
      ],
      "execution_count": 0,
      "outputs": [
        {
          "output_type": "execute_result",
          "data": {
            "text/html": [
              "<div>\n",
              "<style scoped>\n",
              "    .dataframe tbody tr th:only-of-type {\n",
              "        vertical-align: middle;\n",
              "    }\n",
              "\n",
              "    .dataframe tbody tr th {\n",
              "        vertical-align: top;\n",
              "    }\n",
              "\n",
              "    .dataframe thead th {\n",
              "        text-align: right;\n",
              "    }\n",
              "</style>\n",
              "<table border=\"1\" class=\"dataframe\">\n",
              "  <thead>\n",
              "    <tr style=\"text-align: right;\">\n",
              "      <th></th>\n",
              "      <th>gender_Male</th>\n",
              "      <th>gender_Other</th>\n",
              "      <th>smoking history_current</th>\n",
              "      <th>smoking history_ever</th>\n",
              "      <th>smoking history_former</th>\n",
              "      <th>smoking history_never</th>\n",
              "      <th>smoking history_not current</th>\n",
              "      <th>age</th>\n",
              "      <th>diabetes</th>\n",
              "      <th>hypertension</th>\n",
              "      <th>stroke</th>\n",
              "      <th>heart disease</th>\n",
              "      <th>BMI</th>\n",
              "    </tr>\n",
              "  </thead>\n",
              "  <tbody>\n",
              "    <tr>\n",
              "      <th>0</th>\n",
              "      <td>0.0</td>\n",
              "      <td>0.0</td>\n",
              "      <td>0.0</td>\n",
              "      <td>0.0</td>\n",
              "      <td>0.0</td>\n",
              "      <td>1.0</td>\n",
              "      <td>0.0</td>\n",
              "      <td>80.0</td>\n",
              "      <td>0.0</td>\n",
              "      <td>0.0</td>\n",
              "      <td>0.0</td>\n",
              "      <td>1.0</td>\n",
              "      <td>25.190000</td>\n",
              "    </tr>\n",
              "    <tr>\n",
              "      <th>1</th>\n",
              "      <td>0.0</td>\n",
              "      <td>0.0</td>\n",
              "      <td>0.0</td>\n",
              "      <td>0.0</td>\n",
              "      <td>0.0</td>\n",
              "      <td>0.0</td>\n",
              "      <td>0.0</td>\n",
              "      <td>54.0</td>\n",
              "      <td>0.0</td>\n",
              "      <td>0.0</td>\n",
              "      <td>0.0</td>\n",
              "      <td>0.0</td>\n",
              "      <td>18.982447</td>\n",
              "    </tr>\n",
              "    <tr>\n",
              "      <th>2</th>\n",
              "      <td>1.0</td>\n",
              "      <td>0.0</td>\n",
              "      <td>0.0</td>\n",
              "      <td>0.0</td>\n",
              "      <td>0.0</td>\n",
              "      <td>1.0</td>\n",
              "      <td>0.0</td>\n",
              "      <td>28.0</td>\n",
              "      <td>0.0</td>\n",
              "      <td>0.0</td>\n",
              "      <td>0.0</td>\n",
              "      <td>0.0</td>\n",
              "      <td>27.603525</td>\n",
              "    </tr>\n",
              "    <tr>\n",
              "      <th>3</th>\n",
              "      <td>0.0</td>\n",
              "      <td>0.0</td>\n",
              "      <td>1.0</td>\n",
              "      <td>0.0</td>\n",
              "      <td>0.0</td>\n",
              "      <td>0.0</td>\n",
              "      <td>0.0</td>\n",
              "      <td>36.0</td>\n",
              "      <td>0.0</td>\n",
              "      <td>0.0</td>\n",
              "      <td>0.0</td>\n",
              "      <td>0.0</td>\n",
              "      <td>23.450000</td>\n",
              "    </tr>\n",
              "    <tr>\n",
              "      <th>4</th>\n",
              "      <td>1.0</td>\n",
              "      <td>0.0</td>\n",
              "      <td>1.0</td>\n",
              "      <td>0.0</td>\n",
              "      <td>0.0</td>\n",
              "      <td>0.0</td>\n",
              "      <td>0.0</td>\n",
              "      <td>76.0</td>\n",
              "      <td>0.0</td>\n",
              "      <td>1.0</td>\n",
              "      <td>0.0</td>\n",
              "      <td>1.0</td>\n",
              "      <td>20.140000</td>\n",
              "    </tr>\n",
              "  </tbody>\n",
              "</table>\n",
              "</div>"
            ],
            "text/plain": [
              "   gender_Male  gender_Other  smoking history_current  smoking history_ever  \\\n",
              "0          0.0           0.0                      0.0                   0.0   \n",
              "1          0.0           0.0                      0.0                   0.0   \n",
              "2          1.0           0.0                      0.0                   0.0   \n",
              "3          0.0           0.0                      1.0                   0.0   \n",
              "4          1.0           0.0                      1.0                   0.0   \n",
              "\n",
              "   smoking history_former  smoking history_never  smoking history_not current  \\\n",
              "0                     0.0                    1.0                          0.0   \n",
              "1                     0.0                    0.0                          0.0   \n",
              "2                     0.0                    1.0                          0.0   \n",
              "3                     0.0                    0.0                          0.0   \n",
              "4                     0.0                    0.0                          0.0   \n",
              "\n",
              "    age  diabetes  hypertension  stroke  heart disease        BMI  \n",
              "0  80.0       0.0           0.0     0.0            1.0  25.190000  \n",
              "1  54.0       0.0           0.0     0.0            0.0  18.982447  \n",
              "2  28.0       0.0           0.0     0.0            0.0  27.603525  \n",
              "3  36.0       0.0           0.0     0.0            0.0  23.450000  \n",
              "4  76.0       0.0           1.0     0.0            1.0  20.140000  "
            ]
          },
          "metadata": {
            "tags": []
          },
          "execution_count": 21
        }
      ]
    },
    {
      "cell_type": "code",
      "metadata": {
        "id": "Q_-PsxTin74o",
        "colab_type": "code",
        "outputId": "d9d441fb-b10e-4453-e669-51b535e36dda",
        "colab": {
          "base_uri": "https://localhost:8080/",
          "height": 34
        }
      },
      "source": [
        "data_complete_df.shape"
      ],
      "execution_count": 0,
      "outputs": [
        {
          "output_type": "execute_result",
          "data": {
            "text/plain": [
              "(100000, 13)"
            ]
          },
          "metadata": {
            "tags": []
          },
          "execution_count": 19
        }
      ]
    },
    {
      "cell_type": "code",
      "metadata": {
        "_uuid": "509b36c9ecb4617a8ee96438ccd59d3c6b7abd07",
        "id": "i39jpBw0VtMt",
        "colab_type": "code",
        "colab": {}
      },
      "source": [
        "data_complete_df['diabetes & hypertension']=data_complete_df['diabetes']*data_complete_df['hypertension']\n",
        "data_complete_df['diabetes & srtoke']=data_complete_df['diabetes']*data_complete_df['stroke']\n",
        "data_complete_df['diabetes & heart disease']=data_complete_df['diabetes']*data_complete_df['heart disease']\n",
        "data_complete_df['hypertension & stroke']=data_complete_df['hypertension']*data_complete_df['stroke']\n",
        "data_complete_df['hypertension & heart disease']=data_complete_df['hypertension']*data_complete_df['heart disease']\n",
        "data_complete_df['stroke & heart disease']=data_complete_df['stroke']*data_complete_df['heart disease']"
      ],
      "execution_count": 0,
      "outputs": []
    },
    {
      "cell_type": "code",
      "metadata": {
        "_uuid": "b73692337ee135d642d9b2b91bc9e96879f0d439",
        "id": "VYRZvQNxVtM4",
        "colab_type": "code",
        "colab": {}
      },
      "source": [
        "data_complete_df['diabetes,hypertension,stroke']=data_complete_df['diabetes']*data_complete_df['hypertension']*data_complete_df['stroke']\n",
        "data_complete_df['diabetes,hypertension,heart disease']=data_complete_df['diabetes']*data_complete_df['hypertension']*data_complete_df['heart disease']\n",
        "data_complete_df['hypertension,stroke,heart disease']=data_complete_df['hypertension']*data_complete_df['stroke']*data_complete_df['heart disease']"
      ],
      "execution_count": 0,
      "outputs": []
    },
    {
      "cell_type": "code",
      "metadata": {
        "id": "X5sV8dw8dsa2",
        "colab_type": "code",
        "colab": {}
      },
      "source": [
        "data_complete_df['hypertension,stroke,heart disease,diabetes']=data_complete_df['hypertension']*data_complete_df['stroke']*data_complete_df['heart disease']*data_complete_df['diabetes']"
      ],
      "execution_count": 0,
      "outputs": []
    },
    {
      "cell_type": "code",
      "metadata": {
        "_uuid": "7128b6e32d02d45356409055dfeaa7724c0b0338",
        "id": "HcDLgyd4VtNG",
        "colab_type": "code",
        "outputId": "ce20d04c-9a66-4612-d0f9-b2ca86c11ea5",
        "colab": {
          "base_uri": "https://localhost:8080/",
          "height": 34
        }
      },
      "source": [
        "data_complete_df.shape"
      ],
      "execution_count": 0,
      "outputs": [
        {
          "output_type": "execute_result",
          "data": {
            "text/plain": [
              "(100000, 23)"
            ]
          },
          "metadata": {
            "tags": []
          },
          "execution_count": 25
        }
      ]
    },
    {
      "cell_type": "code",
      "metadata": {
        "_uuid": "650b44b512cd53a1e943099ee32bdc642afd54a7",
        "id": "gV_3Ejl5VtNe",
        "colab_type": "code",
        "outputId": "54af08bb-243e-478c-f0c0-0c7a75d4c366",
        "colab": {
          "base_uri": "https://localhost:8080/",
          "height": 287
        }
      },
      "source": [
        "data_complete_df.head()"
      ],
      "execution_count": 0,
      "outputs": [
        {
          "output_type": "execute_result",
          "data": {
            "text/html": [
              "<div>\n",
              "<style scoped>\n",
              "    .dataframe tbody tr th:only-of-type {\n",
              "        vertical-align: middle;\n",
              "    }\n",
              "\n",
              "    .dataframe tbody tr th {\n",
              "        vertical-align: top;\n",
              "    }\n",
              "\n",
              "    .dataframe thead th {\n",
              "        text-align: right;\n",
              "    }\n",
              "</style>\n",
              "<table border=\"1\" class=\"dataframe\">\n",
              "  <thead>\n",
              "    <tr style=\"text-align: right;\">\n",
              "      <th></th>\n",
              "      <th>gender_Male</th>\n",
              "      <th>gender_Other</th>\n",
              "      <th>smoking history_current</th>\n",
              "      <th>smoking history_ever</th>\n",
              "      <th>smoking history_former</th>\n",
              "      <th>smoking history_never</th>\n",
              "      <th>smoking history_not current</th>\n",
              "      <th>age</th>\n",
              "      <th>diabetes</th>\n",
              "      <th>hypertension</th>\n",
              "      <th>...</th>\n",
              "      <th>diabetes &amp; hypertension</th>\n",
              "      <th>diabetes &amp; srtoke</th>\n",
              "      <th>diabetes &amp; heart disease</th>\n",
              "      <th>hypertension &amp; stroke</th>\n",
              "      <th>hypertension &amp; heart disease</th>\n",
              "      <th>stroke &amp; heart disease</th>\n",
              "      <th>diabetes,hypertension,stroke</th>\n",
              "      <th>diabetes,hypertension,heart disease</th>\n",
              "      <th>hypertension,stroke,heart disease</th>\n",
              "      <th>hypertension,stroke,heart disease,diabetes</th>\n",
              "    </tr>\n",
              "  </thead>\n",
              "  <tbody>\n",
              "    <tr>\n",
              "      <th>0</th>\n",
              "      <td>0.0</td>\n",
              "      <td>0.0</td>\n",
              "      <td>0.0</td>\n",
              "      <td>0.0</td>\n",
              "      <td>0.0</td>\n",
              "      <td>1.0</td>\n",
              "      <td>0.0</td>\n",
              "      <td>80.0</td>\n",
              "      <td>0.0</td>\n",
              "      <td>0.0</td>\n",
              "      <td>...</td>\n",
              "      <td>0.0</td>\n",
              "      <td>0.0</td>\n",
              "      <td>0.0</td>\n",
              "      <td>0.0</td>\n",
              "      <td>0.0</td>\n",
              "      <td>0.0</td>\n",
              "      <td>0.0</td>\n",
              "      <td>0.0</td>\n",
              "      <td>0.0</td>\n",
              "      <td>0.0</td>\n",
              "    </tr>\n",
              "    <tr>\n",
              "      <th>1</th>\n",
              "      <td>0.0</td>\n",
              "      <td>0.0</td>\n",
              "      <td>0.0</td>\n",
              "      <td>0.0</td>\n",
              "      <td>0.0</td>\n",
              "      <td>0.0</td>\n",
              "      <td>0.0</td>\n",
              "      <td>54.0</td>\n",
              "      <td>0.0</td>\n",
              "      <td>0.0</td>\n",
              "      <td>...</td>\n",
              "      <td>0.0</td>\n",
              "      <td>0.0</td>\n",
              "      <td>0.0</td>\n",
              "      <td>0.0</td>\n",
              "      <td>0.0</td>\n",
              "      <td>0.0</td>\n",
              "      <td>0.0</td>\n",
              "      <td>0.0</td>\n",
              "      <td>0.0</td>\n",
              "      <td>0.0</td>\n",
              "    </tr>\n",
              "    <tr>\n",
              "      <th>2</th>\n",
              "      <td>1.0</td>\n",
              "      <td>0.0</td>\n",
              "      <td>0.0</td>\n",
              "      <td>0.0</td>\n",
              "      <td>0.0</td>\n",
              "      <td>1.0</td>\n",
              "      <td>0.0</td>\n",
              "      <td>28.0</td>\n",
              "      <td>0.0</td>\n",
              "      <td>0.0</td>\n",
              "      <td>...</td>\n",
              "      <td>0.0</td>\n",
              "      <td>0.0</td>\n",
              "      <td>0.0</td>\n",
              "      <td>0.0</td>\n",
              "      <td>0.0</td>\n",
              "      <td>0.0</td>\n",
              "      <td>0.0</td>\n",
              "      <td>0.0</td>\n",
              "      <td>0.0</td>\n",
              "      <td>0.0</td>\n",
              "    </tr>\n",
              "    <tr>\n",
              "      <th>3</th>\n",
              "      <td>0.0</td>\n",
              "      <td>0.0</td>\n",
              "      <td>1.0</td>\n",
              "      <td>0.0</td>\n",
              "      <td>0.0</td>\n",
              "      <td>0.0</td>\n",
              "      <td>0.0</td>\n",
              "      <td>36.0</td>\n",
              "      <td>0.0</td>\n",
              "      <td>0.0</td>\n",
              "      <td>...</td>\n",
              "      <td>0.0</td>\n",
              "      <td>0.0</td>\n",
              "      <td>0.0</td>\n",
              "      <td>0.0</td>\n",
              "      <td>0.0</td>\n",
              "      <td>0.0</td>\n",
              "      <td>0.0</td>\n",
              "      <td>0.0</td>\n",
              "      <td>0.0</td>\n",
              "      <td>0.0</td>\n",
              "    </tr>\n",
              "    <tr>\n",
              "      <th>4</th>\n",
              "      <td>1.0</td>\n",
              "      <td>0.0</td>\n",
              "      <td>1.0</td>\n",
              "      <td>0.0</td>\n",
              "      <td>0.0</td>\n",
              "      <td>0.0</td>\n",
              "      <td>0.0</td>\n",
              "      <td>76.0</td>\n",
              "      <td>0.0</td>\n",
              "      <td>1.0</td>\n",
              "      <td>...</td>\n",
              "      <td>0.0</td>\n",
              "      <td>0.0</td>\n",
              "      <td>0.0</td>\n",
              "      <td>0.0</td>\n",
              "      <td>1.0</td>\n",
              "      <td>0.0</td>\n",
              "      <td>0.0</td>\n",
              "      <td>0.0</td>\n",
              "      <td>0.0</td>\n",
              "      <td>0.0</td>\n",
              "    </tr>\n",
              "  </tbody>\n",
              "</table>\n",
              "<p>5 rows × 23 columns</p>\n",
              "</div>"
            ],
            "text/plain": [
              "   gender_Male  gender_Other  smoking history_current  smoking history_ever  \\\n",
              "0          0.0           0.0                      0.0                   0.0   \n",
              "1          0.0           0.0                      0.0                   0.0   \n",
              "2          1.0           0.0                      0.0                   0.0   \n",
              "3          0.0           0.0                      1.0                   0.0   \n",
              "4          1.0           0.0                      1.0                   0.0   \n",
              "\n",
              "   smoking history_former  smoking history_never  smoking history_not current  \\\n",
              "0                     0.0                    1.0                          0.0   \n",
              "1                     0.0                    0.0                          0.0   \n",
              "2                     0.0                    1.0                          0.0   \n",
              "3                     0.0                    0.0                          0.0   \n",
              "4                     0.0                    0.0                          0.0   \n",
              "\n",
              "    age  diabetes  hypertension                     ...                      \\\n",
              "0  80.0       0.0           0.0                     ...                       \n",
              "1  54.0       0.0           0.0                     ...                       \n",
              "2  28.0       0.0           0.0                     ...                       \n",
              "3  36.0       0.0           0.0                     ...                       \n",
              "4  76.0       0.0           1.0                     ...                       \n",
              "\n",
              "   diabetes & hypertension  diabetes & srtoke  diabetes & heart disease  \\\n",
              "0                      0.0                0.0                       0.0   \n",
              "1                      0.0                0.0                       0.0   \n",
              "2                      0.0                0.0                       0.0   \n",
              "3                      0.0                0.0                       0.0   \n",
              "4                      0.0                0.0                       0.0   \n",
              "\n",
              "   hypertension & stroke  hypertension & heart disease  \\\n",
              "0                    0.0                           0.0   \n",
              "1                    0.0                           0.0   \n",
              "2                    0.0                           0.0   \n",
              "3                    0.0                           0.0   \n",
              "4                    0.0                           1.0   \n",
              "\n",
              "   stroke & heart disease  diabetes,hypertension,stroke  \\\n",
              "0                     0.0                           0.0   \n",
              "1                     0.0                           0.0   \n",
              "2                     0.0                           0.0   \n",
              "3                     0.0                           0.0   \n",
              "4                     0.0                           0.0   \n",
              "\n",
              "   diabetes,hypertension,heart disease  hypertension,stroke,heart disease  \\\n",
              "0                                  0.0                                0.0   \n",
              "1                                  0.0                                0.0   \n",
              "2                                  0.0                                0.0   \n",
              "3                                  0.0                                0.0   \n",
              "4                                  0.0                                0.0   \n",
              "\n",
              "   hypertension,stroke,heart disease,diabetes  \n",
              "0                                         0.0  \n",
              "1                                         0.0  \n",
              "2                                         0.0  \n",
              "3                                         0.0  \n",
              "4                                         0.0  \n",
              "\n",
              "[5 rows x 23 columns]"
            ]
          },
          "metadata": {
            "tags": []
          },
          "execution_count": 26
        }
      ]
    },
    {
      "cell_type": "code",
      "metadata": {
        "_uuid": "a623bb6a5fc0554d4790e63abeba24d9d5eb14b1",
        "id": "hM8DpaGnVtPM",
        "colab_type": "code",
        "colab": {}
      },
      "source": [
        "import seaborn as sns\n",
        "import matplotlib.pyplot as plt"
      ],
      "execution_count": 0,
      "outputs": []
    },
    {
      "cell_type": "code",
      "metadata": {
        "_uuid": "74ff98dd952d869aa41cd8bcb9405eb6f0bfa6f6",
        "scrolled": true,
        "id": "7fY85cWIVtPX",
        "colab_type": "code",
        "outputId": "a4ddf6c9-68e6-4777-d5fb-9aa0cdf25636",
        "colab": {
          "base_uri": "https://localhost:8080/",
          "height": 350
        }
      },
      "source": [
        "plt.hist(data['age'])"
      ],
      "execution_count": 0,
      "outputs": [
        {
          "output_type": "execute_result",
          "data": {
            "text/plain": [
              "(array([ 8981.,  7220.,  9684., 10368., 10619., 11669., 12136., 10755.,\n",
              "         7873., 10695.]),\n",
              " array([ 0.08 ,  8.072, 16.064, 24.056, 32.048, 40.04 , 48.032, 56.024,\n",
              "        64.016, 72.008, 80.   ]),\n",
              " <a list of 10 Patch objects>)"
            ]
          },
          "metadata": {
            "tags": []
          },
          "execution_count": 27
        },
        {
          "output_type": "display_data",
          "data": {
            "image/png": "[encoded data removed]",
            "text/plain": [
              "<Figure size 432x288 with 1 Axes>"
            ]
          },
          "metadata": {
            "tags": []
          }
        }
      ]
    },
    {
      "cell_type": "code",
      "metadata": {
        "_uuid": "7a89255c073b966b71b171dc3a72b4f94afe0c7d",
        "id": "VFb7hc82VtPg",
        "colab_type": "code",
        "outputId": "7507ec40-0ca1-43ea-bcdc-4cf77414436f",
        "colab": {
          "base_uri": "https://localhost:8080/",
          "height": 350
        }
      },
      "source": [
        "plt.hist(data['BMI'])"
      ],
      "execution_count": 0,
      "outputs": [
        {
          "output_type": "execute_result",
          "data": {
            "text/plain": [
              "(array([8.6570e+03, 3.1394e+04, 2.4929e+04, 7.3890e+03, 1.7160e+03,\n",
              "        3.7900e+02, 7.3000e+01, 8.0000e+00, 4.0000e+00, 7.0000e+00]),\n",
              " array([10.01 , 18.578, 27.146, 35.714, 44.282, 52.85 , 61.418, 69.986,\n",
              "        78.554, 87.122, 95.69 ]),\n",
              " <a list of 10 Patch objects>)"
            ]
          },
          "metadata": {
            "tags": []
          },
          "execution_count": 28
        },
        {
          "output_type": "display_data",
          "data": {
            "image/png": "[encoded data removed]",
            "text/plain": [
              "<Figure size 432x288 with 1 Axes>"
            ]
          },
          "metadata": {
            "tags": []
          }
        }
      ]
    },
    {
      "cell_type": "code",
      "metadata": {
        "id": "6bqHACa6SAWY",
        "colab_type": "code",
        "outputId": "8cf80c63-0ec3-4bef-92d4-8db00fb2f562",
        "colab": {
          "base_uri": "https://localhost:8080/",
          "height": 68
        }
      },
      "source": [
        "data_complete_df['stroke'].value_counts()"
      ],
      "execution_count": 0,
      "outputs": [
        {
          "output_type": "execute_result",
          "data": {
            "text/plain": [
              "0.0    98574\n",
              "1.0     1426\n",
              "Name: stroke, dtype: int64"
            ]
          },
          "metadata": {
            "tags": []
          },
          "execution_count": 29
        }
      ]
    },
    {
      "cell_type": "markdown",
      "metadata": {
        "id": "XVHpJA9gq5EN",
        "colab_type": "text"
      },
      "source": [
        "# ** Splitting**"
      ]
    },
    {
      "cell_type": "code",
      "metadata": {
        "id": "z20QUZ07aDhT",
        "colab_type": "code",
        "colab": {}
      },
      "source": [
        "x_train, x_test, y_train, y_test = train_test_split(data_complete_df.drop(['stroke'], axis= 1), \n",
        "                                                    data_complete_df['stroke'], test_size=0.3, random_state=11)"
      ],
      "execution_count": 0,
      "outputs": []
    },
    {
      "cell_type": "code",
      "metadata": {
        "id": "jD4itUEa9ywU",
        "colab_type": "code",
        "outputId": "2d126dd7-4d4f-48a5-b7d6-e5adf8378b10",
        "colab": {
          "base_uri": "https://localhost:8080/",
          "height": 85
        }
      },
      "source": [
        "print(\"Number of Employees in X_train dataset: \", x_train.shape)\n",
        "print(\"Number of Employees in y_train dataset: \", y_train.shape)\n",
        "print(\"Number of Employees in X_test dataset: \", x_test.shape)\n",
        "print(\"Number of Employees in y_test dataset: \", y_test.shape)"
      ],
      "execution_count": 0,
      "outputs": [
        {
          "output_type": "stream",
          "text": [
            "Number of Employees in X_train dataset:  (70000, 22)\n",
            "Number of Employees in y_train dataset:  (70000,)\n",
            "Number of Employees in X_test dataset:  (30000, 22)\n",
            "Number of Employees in y_test dataset:  (30000,)\n"
          ],
          "name": "stdout"
        }
      ]
    },
    {
      "cell_type": "markdown",
      "metadata": {
        "id": "V8AhA1BnpmRk",
        "colab_type": "text"
      },
      "source": [
        "# ** Plotting**"
      ]
    },
    {
      "cell_type": "code",
      "metadata": {
        "id": "hbupZJquYtzj",
        "colab_type": "code",
        "outputId": "4f64dfdb-1e6f-4ac5-8be1-d5465a62af98",
        "colab": {
          "base_uri": "https://localhost:8080/",
          "height": 279
        }
      },
      "source": [
        "total_records=len(data_complete_df)\n",
        "ax1 = sns.countplot(data=data_complete_df,x= data['smoking history'],hue=\"stroke\",palette=\"Set2\")\n",
        "    \n",
        "for p in ax1.patches:\n",
        "    height = p.get_height()\n",
        "    ax1.text(p.get_x()+p.get_width()/2.,\n",
        "    height + 3,\n",
        "    '{:1.4f}'.format(height/total_records,0),\n",
        "    ha=\"center\",rotation=0) "
      ],
      "execution_count": 0,
      "outputs": [
        {
          "output_type": "display_data",
          "data": {
            "image/png": "[encoded data removed]",
            "text/plain": [
              "<Figure size 432x288 with 1 Axes>"
            ]
          },
          "metadata": {
            "tags": []
          }
        }
      ]
    },
    {
      "cell_type": "markdown",
      "metadata": {
        "id": "WNvz84ZdwUGq",
        "colab_type": "text"
      },
      "source": [
        "# ** Models on upsampled data**"
      ]
    },
    {
      "cell_type": "code",
      "metadata": {
        "id": "H-f-FEpea70b",
        "colab_type": "code",
        "outputId": "11091345-741e-4ac3-99c4-1a61e17c4e1c",
        "colab": {
          "base_uri": "https://localhost:8080/",
          "height": 85
        }
      },
      "source": [
        "print(\"Number of Employees in X_train dataset: \", x_train.shape)\n",
        "print(\"Number of Employees in y_train dataset: \", y_train.shape)\n",
        "print(\"Number of Employees in X_test dataset: \", x_test.shape)\n",
        "print(\"Number of Employees in y_test dataset: \", y_test.shape)"
      ],
      "execution_count": 0,
      "outputs": [
        {
          "output_type": "stream",
          "text": [
            "Number of Employees in X_train dataset:  (70000, 22)\n",
            "Number of Employees in y_train dataset:  (70000,)\n",
            "Number of Employees in X_test dataset:  (30000, 22)\n",
            "Number of Employees in y_test dataset:  (30000,)\n"
          ],
          "name": "stdout"
        }
      ]
    },
    {
      "cell_type": "code",
      "metadata": {
        "id": "S-4J2lY6bdUL",
        "colab_type": "code",
        "outputId": "72d5a351-4b9b-428a-d08f-88f857c5ab53",
        "colab": {
          "base_uri": "https://localhost:8080/",
          "height": 68
        }
      },
      "source": [
        "print(\"Before OverSampling, counts of label '1': {}\".format(sum(y_train==1)))\n",
        "print(\"Before OverSampling, counts of label '0': {} \\n\".format(sum(y_train==0)))"
      ],
      "execution_count": 0,
      "outputs": [
        {
          "output_type": "stream",
          "text": [
            "Before OverSampling, counts of label '1': 993\n",
            "Before OverSampling, counts of label '0': 69007 \n",
            "\n"
          ],
          "name": "stdout"
        }
      ]
    },
    {
      "cell_type": "code",
      "metadata": {
        "id": "rk2HMVv6rJAe",
        "colab_type": "code",
        "colab": {}
      },
      "source": [
        "X_train_res, y_train_res = sm.fit_sample(x_train, y_train.ravel())"
      ],
      "execution_count": 0,
      "outputs": []
    },
    {
      "cell_type": "code",
      "metadata": {
        "id": "s_05UvDnrNX2",
        "colab_type": "code",
        "outputId": "5367d822-0756-4b21-d24c-87f30e6eff2d",
        "colab": {
          "base_uri": "https://localhost:8080/",
          "height": 68
        }
      },
      "source": [
        "print('After OverSampling, the shape of X_train: {}'.format(X_train_res.shape))\n",
        "print('After OverSampling, the shape of y_train: {} \\n'.format(y_train_res.shape))"
      ],
      "execution_count": 0,
      "outputs": [
        {
          "output_type": "stream",
          "text": [
            "After OverSampling, the shape of X_train: (138014, 22)\n",
            "After OverSampling, the shape of y_train: (138014,) \n",
            "\n"
          ],
          "name": "stdout"
        }
      ]
    },
    {
      "cell_type": "code",
      "metadata": {
        "id": "hlPhkvoqrVK4",
        "colab_type": "code",
        "outputId": "541904b9-a602-4f8c-cb96-af8a17ce0cb6",
        "colab": {
          "base_uri": "https://localhost:8080/",
          "height": 68
        }
      },
      "source": [
        "print(\"After OvererSampling, counts of label '1': {}\".format(sum(y_train_res==1)))\n",
        "print(\"After OverSampling, counts of label '0': {} \\n\".format(sum(y_train_res==0)))\n"
      ],
      "execution_count": 0,
      "outputs": [
        {
          "output_type": "stream",
          "text": [
            "After OvererSampling, counts of label '1': 69007\n",
            "After OverSampling, counts of label '0': 69007 \n",
            "\n"
          ],
          "name": "stdout"
        }
      ]
    },
    {
      "cell_type": "code",
      "metadata": {
        "id": "zIXy9jFOX8Av",
        "colab_type": "code",
        "outputId": "411cf5c2-013b-42f0-9bc1-189a343196f1",
        "colab": {
          "base_uri": "https://localhost:8080/",
          "height": 390
        }
      },
      "source": [
        "models=[RandomForestClassifier(),AdaBoostClassifier(),BaggingClassifier(),LinearSVC(),\n",
        "        KNeighborsClassifier(), DecisionTreeClassifier(),LogisticRegression(), GradientBoostingClassifier(), XGBClassifier(),GaussianNB(),BernoulliNB()]\n",
        "model_names=['RandomForestClassifier','AdaBoostClassifier','BaggingClassifier','LinearSVC',\n",
        "             'KNeighborsClassifier', 'DecisionTreeClassifier', 'LogisticRegression', \n",
        "             'GradientBoostingClassifier', 'XGBClassifier','GaussianNB','BernoulliNB']\n",
        "ROC_AUC_scores = []\n",
        "F1_score=[]\n",
        "mcc=[]\n",
        "\n",
        "d={}\n",
        "\n",
        "for model in range(len(models)):\n",
        "    clf = models[model]\n",
        "    clf.fit(X_train_res, y_train_res)\n",
        "    test_pred = clf.predict(x_test.as_matrix())\n",
        "    ROC_AUC_scores.append(roc_auc_score(y_test, test_pred))\n",
        "    F1_score.append(f1_score(y_test,test_pred))\n",
        "    mcc.append(matthews_corrcoef(y_test,test_pred))\n",
        "    \n",
        "d={'Modelling Algo':model_names, 'ROC_AUC_Scores': ROC_AUC_scores,'F1_Score':F1_score,'MCC':mcc}   \n",
        "df_models = pd.DataFrame(d)\n",
        "df_models"
      ],
      "execution_count": 0,
      "outputs": [
        {
          "output_type": "execute_result",
          "data": {
            "text/html": [
              "<div>\n",
              "<style scoped>\n",
              "    .dataframe tbody tr th:only-of-type {\n",
              "        vertical-align: middle;\n",
              "    }\n",
              "\n",
              "    .dataframe tbody tr th {\n",
              "        vertical-align: top;\n",
              "    }\n",
              "\n",
              "    .dataframe thead th {\n",
              "        text-align: right;\n",
              "    }\n",
              "</style>\n",
              "<table border=\"1\" class=\"dataframe\">\n",
              "  <thead>\n",
              "    <tr style=\"text-align: right;\">\n",
              "      <th></th>\n",
              "      <th>F1_Score</th>\n",
              "      <th>MCC</th>\n",
              "      <th>Modelling Algo</th>\n",
              "      <th>ROC_AUC_Scores</th>\n",
              "    </tr>\n",
              "  </thead>\n",
              "  <tbody>\n",
              "    <tr>\n",
              "      <th>0</th>\n",
              "      <td>0.502924</td>\n",
              "      <td>0.500828</td>\n",
              "      <td>RandomForestClassifier</td>\n",
              "      <td>0.792256</td>\n",
              "    </tr>\n",
              "    <tr>\n",
              "      <th>1</th>\n",
              "      <td>0.345544</td>\n",
              "      <td>0.392546</td>\n",
              "      <td>AdaBoostClassifier</td>\n",
              "      <td>0.846632</td>\n",
              "    </tr>\n",
              "    <tr>\n",
              "      <th>2</th>\n",
              "      <td>0.488679</td>\n",
              "      <td>0.488337</td>\n",
              "      <td>BaggingClassifier</td>\n",
              "      <td>0.792853</td>\n",
              "    </tr>\n",
              "    <tr>\n",
              "      <th>3</th>\n",
              "      <td>0.089111</td>\n",
              "      <td>0.174167</td>\n",
              "      <td>LinearSVC</td>\n",
              "      <td>0.832084</td>\n",
              "    </tr>\n",
              "    <tr>\n",
              "      <th>4</th>\n",
              "      <td>0.168758</td>\n",
              "      <td>0.193704</td>\n",
              "      <td>KNeighborsClassifier</td>\n",
              "      <td>0.696712</td>\n",
              "    </tr>\n",
              "    <tr>\n",
              "      <th>5</th>\n",
              "      <td>0.452895</td>\n",
              "      <td>0.458114</td>\n",
              "      <td>DecisionTreeClassifier</td>\n",
              "      <td>0.794728</td>\n",
              "    </tr>\n",
              "    <tr>\n",
              "      <th>6</th>\n",
              "      <td>0.176083</td>\n",
              "      <td>0.267550</td>\n",
              "      <td>LogisticRegression</td>\n",
              "      <td>0.873681</td>\n",
              "    </tr>\n",
              "    <tr>\n",
              "      <th>7</th>\n",
              "      <td>0.386056</td>\n",
              "      <td>0.417767</td>\n",
              "      <td>GradientBoostingClassifier</td>\n",
              "      <td>0.831450</td>\n",
              "    </tr>\n",
              "    <tr>\n",
              "      <th>8</th>\n",
              "      <td>0.333691</td>\n",
              "      <td>0.380734</td>\n",
              "      <td>XGBClassifier</td>\n",
              "      <td>0.840182</td>\n",
              "    </tr>\n",
              "    <tr>\n",
              "      <th>9</th>\n",
              "      <td>0.405451</td>\n",
              "      <td>0.409302</td>\n",
              "      <td>GaussianNB</td>\n",
              "      <td>0.766321</td>\n",
              "    </tr>\n",
              "    <tr>\n",
              "      <th>10</th>\n",
              "      <td>0.209415</td>\n",
              "      <td>0.246287</td>\n",
              "      <td>BernoulliNB</td>\n",
              "      <td>0.747736</td>\n",
              "    </tr>\n",
              "  </tbody>\n",
              "</table>\n",
              "</div>"
            ],
            "text/plain": [
              "    F1_Score       MCC              Modelling Algo  ROC_AUC_Scores\n",
              "0   0.502924  0.500828      RandomForestClassifier        0.792256\n",
              "1   0.345544  0.392546          AdaBoostClassifier        0.846632\n",
              "2   0.488679  0.488337           BaggingClassifier        0.792853\n",
              "3   0.089111  0.174167                   LinearSVC        0.832084\n",
              "4   0.168758  0.193704        KNeighborsClassifier        0.696712\n",
              "5   0.452895  0.458114      DecisionTreeClassifier        0.794728\n",
              "6   0.176083  0.267550          LogisticRegression        0.873681\n",
              "7   0.386056  0.417767  GradientBoostingClassifier        0.831450\n",
              "8   0.333691  0.380734               XGBClassifier        0.840182\n",
              "9   0.405451  0.409302                  GaussianNB        0.766321\n",
              "10  0.209415  0.246287                 BernoulliNB        0.747736"
            ]
          },
          "metadata": {
            "tags": []
          },
          "execution_count": 44
        }
      ]
    },
    {
      "cell_type": "code",
      "metadata": {
        "id": "h-R1pCrCn4En",
        "colab_type": "code",
        "outputId": "7b0573b1-85c0-40df-f45c-976737a8321b",
        "colab": {
          "base_uri": "https://localhost:8080/",
          "height": 386
        }
      },
      "source": [
        "import seaborn as sns\n",
        "sns.factorplot(y='Modelling Algo', x='ROC_AUC_Scores', data= df_models, kind = 'bar', size=5, aspect=2)"
      ],
      "execution_count": 0,
      "outputs": [
        {
          "output_type": "execute_result",
          "data": {
            "text/plain": [
              "<seaborn.axisgrid.FacetGrid at 0x7fe9519b2908>"
            ]
          },
          "metadata": {
            "tags": []
          },
          "execution_count": 45
        },
        {
          "output_type": "display_data",
          "data": {
            "image/png": "[encoded data removed]",
            "text/plain": [
              "<Figure size 720x360 with 1 Axes>"
            ]
          },
          "metadata": {
            "tags": []
          }
        }
      ]
    },
    {
      "cell_type": "markdown",
      "metadata": {
        "id": "mfZDcd3eU_8o",
        "colab_type": "text"
      },
      "source": [
        "# Neural Network"
      ]
    },
    {
      "cell_type": "code",
      "metadata": {
        "id": "daENpDtZUzYT",
        "colab_type": "code",
        "colab": {}
      },
      "source": [
        "from keras.layers import Dense,Input,BatchNormalization,Dropout\n",
        "from keras.models import Model,K, Sequential\n",
        "from keras.optimizers import SGD, rmsprop"
      ],
      "execution_count": 0,
      "outputs": []
    },
    {
      "cell_type": "code",
      "metadata": {
        "id": "vFUDhB7F_yy3",
        "colab_type": "code",
        "colab": {}
      },
      "source": [
        "K.clear_session()\n",
        "def build_model():\n",
        "  classifier = Sequential()\n",
        "  classifier.add(Dense(output_dim=12,input_dim=22,init='uniform',activation='relu'))\n",
        "  classifier.add(Dropout(rate=0.01))\n",
        "  classifier.add(Dense(output_dim=12,input_dim=22,init='uniform',activation='relu'))\n",
        "  classifier.add(Dropout(rate=0.01))\n",
        "  classifier.add(Dense(output_dim=12,input_dim=22,init='uniform',activation='relu'))\n",
        "  classifier.add(Dropout(rate=0.01))\n",
        "  classifier.add(Dense(output_dim=12,input_dim=22,init='uniform',activation='relu'))\n",
        "  classifier.add(Dropout(rate=0.01)) \n",
        "  classifier.add(Dense(output_dim=12,input_dim=22,init='uniform',activation='relu'))\n",
        "  classifier.add(Dropout(rate=0.01)) \n",
        "\n",
        "  classifier.add(Dense(output_dim=1,input_dim=22,init='uniform',activation='sigmoid'))\n",
        "  classifier.compile(optimizer='adam',loss='binary_crossentropy',metrics=[auc])\n",
        "  return classifier"
      ],
      "execution_count": 0,
      "outputs": []
    },
    {
      "cell_type": "code",
      "metadata": {
        "id": "DATc6gx6Nj5X",
        "colab_type": "code",
        "colab": {}
      },
      "source": [
        "import tensorflow as tf\n",
        "from keras import backend as K\n",
        "\n",
        "def auc(y_test,y_pred_keras):\n",
        "    auc = tf.metrics.auc(y_test, y_pred_keras)[1]\n",
        "    K.get_session().run(tf.local_variables_initializer())\n",
        "    return auc"
      ],
      "execution_count": 0,
      "outputs": []
    },
    {
      "cell_type": "code",
      "metadata": {
        "id": "fCKRb6fFWHDf",
        "colab_type": "code",
        "outputId": "3f333c63-424c-4858-e3ee-9a81b8cbc95f",
        "colab": {
          "base_uri": "https://localhost:8080/",
          "height": 3726
        }
      },
      "source": [
        "from keras.wrappers.scikit_learn import KerasClassifier\n",
        "keras_model = build_model()\n",
        "keras_model.fit(x_train, y_train, epochs=100, batch_size=100,verbose=1,validation_split=0.3)"
      ],
      "execution_count": 0,
      "outputs": [
        {
          "output_type": "stream",
          "text": [
            "WARNING:tensorflow:From /usr/local/lib/python3.6/dist-packages/tensorflow/python/framework/op_def_library.py:263: colocate_with (from tensorflow.python.framework.ops) is deprecated and will be removed in a future version.\n",
            "Instructions for updating:\n",
            "Colocations handled automatically by placer.\n",
            "WARNING:tensorflow:From /usr/local/lib/python3.6/dist-packages/keras/backend/tensorflow_backend.py:3445: calling dropout (from tensorflow.python.ops.nn_ops) with keep_prob is deprecated and will be removed in a future version.\n",
            "Instructions for updating:\n",
            "Please use `rate` instead of `keep_prob`. Rate should be set to `rate = 1 - keep_prob`.\n",
            "WARNING:tensorflow:From /usr/local/lib/python3.6/dist-packages/tensorflow/python/ops/metrics_impl.py:526: to_float (from tensorflow.python.ops.math_ops) is deprecated and will be removed in a future version.\n",
            "Instructions for updating:\n",
            "Use tf.cast instead.\n",
            "WARNING:tensorflow:From /usr/local/lib/python3.6/dist-packages/tensorflow/python/ops/metrics_impl.py:788: div (from tensorflow.python.ops.math_ops) is deprecated and will be removed in a future version.\n",
            "Instructions for updating:\n",
            "Deprecated in favor of operator or tf.math.divide.\n",
            "WARNING:tensorflow:From /usr/local/lib/python3.6/dist-packages/tensorflow/python/ops/math_ops.py:3066: to_int32 (from tensorflow.python.ops.math_ops) is deprecated and will be removed in a future version.\n",
            "Instructions for updating:\n",
            "Use tf.cast instead.\n",
            "Train on 49000 samples, validate on 21000 samples\n",
            "Epoch 1/100\n",
            "49000/49000 [==============================] - 3s 55us/step - loss: 0.1877 - auc: 0.4192 - val_loss: 0.0750 - val_auc: 0.4321\n",
            "Epoch 2/100\n",
            "49000/49000 [==============================] - 2s 37us/step - loss: 0.0684 - auc: 0.5215 - val_loss: 0.0661 - val_auc: 0.5971\n",
            "Epoch 3/100\n",
            "49000/49000 [==============================] - 2s 39us/step - loss: 0.0632 - auc: 0.6425 - val_loss: 0.0605 - val_auc: 0.6757\n",
            "Epoch 4/100\n",
            "49000/49000 [==============================] - 2s 36us/step - loss: 0.0537 - auc: 0.7024 - val_loss: 0.0483 - val_auc: 0.7232\n",
            "Epoch 5/100\n",
            "49000/49000 [==============================] - 2s 36us/step - loss: 0.0464 - auc: 0.7393 - val_loss: 0.0407 - val_auc: 0.7546\n",
            "Epoch 6/100\n",
            "49000/49000 [==============================] - 2s 35us/step - loss: 0.0388 - auc: 0.7659 - val_loss: 0.0379 - val_auc: 0.7772\n",
            "Epoch 7/100\n",
            "49000/49000 [==============================] - 2s 35us/step - loss: 0.0381 - auc: 0.7860 - val_loss: 0.0395 - val_auc: 0.7934\n",
            "Epoch 8/100\n",
            "49000/49000 [==============================] - 2s 35us/step - loss: 0.0374 - auc: 0.7996 - val_loss: 0.0375 - val_auc: 0.8059\n",
            "Epoch 9/100\n",
            "49000/49000 [==============================] - 2s 36us/step - loss: 0.0372 - auc: 0.8114 - val_loss: 0.0369 - val_auc: 0.8166\n",
            "Epoch 10/100\n",
            "49000/49000 [==============================] - 2s 36us/step - loss: 0.0395 - auc: 0.8205 - val_loss: 0.0371 - val_auc: 0.8245\n",
            "Epoch 11/100\n",
            "49000/49000 [==============================] - 2s 34us/step - loss: 0.0363 - auc: 0.8283 - val_loss: 0.0363 - val_auc: 0.8319\n",
            "Epoch 12/100\n",
            "49000/49000 [==============================] - 2s 34us/step - loss: 0.0363 - auc: 0.8351 - val_loss: 0.0371 - val_auc: 0.8381\n",
            "Epoch 13/100\n",
            "49000/49000 [==============================] - 2s 34us/step - loss: 0.0363 - auc: 0.8406 - val_loss: 0.0359 - val_auc: 0.8435\n",
            "Epoch 14/100\n",
            "49000/49000 [==============================] - 2s 35us/step - loss: 0.0360 - auc: 0.8460 - val_loss: 0.0356 - val_auc: 0.8487\n",
            "Epoch 15/100\n",
            "49000/49000 [==============================] - 2s 34us/step - loss: 0.0356 - auc: 0.8511 - val_loss: 0.0354 - val_auc: 0.8534\n",
            "Epoch 16/100\n",
            "49000/49000 [==============================] - 2s 34us/step - loss: 0.0362 - auc: 0.8554 - val_loss: 0.0360 - val_auc: 0.8570\n",
            "Epoch 17/100\n",
            "49000/49000 [==============================] - 2s 35us/step - loss: 0.0356 - auc: 0.8587 - val_loss: 0.0393 - val_auc: 0.8597\n",
            "Epoch 18/100\n",
            "49000/49000 [==============================] - 2s 34us/step - loss: 0.0351 - auc: 0.8607 - val_loss: 0.0370 - val_auc: 0.8621\n",
            "Epoch 19/100\n",
            "49000/49000 [==============================] - 2s 34us/step - loss: 0.0350 - auc: 0.8635 - val_loss: 0.0347 - val_auc: 0.8650\n",
            "Epoch 20/100\n",
            "49000/49000 [==============================] - 2s 39us/step - loss: 0.0350 - auc: 0.8664 - val_loss: 0.0346 - val_auc: 0.8678\n",
            "Epoch 21/100\n",
            "49000/49000 [==============================] - 2s 40us/step - loss: 0.0351 - auc: 0.8691 - val_loss: 0.0361 - val_auc: 0.8702\n",
            "Epoch 22/100\n",
            "49000/49000 [==============================] - 2s 41us/step - loss: 0.0347 - auc: 0.8712 - val_loss: 0.0345 - val_auc: 0.8724\n",
            "Epoch 23/100\n",
            "49000/49000 [==============================] - 2s 41us/step - loss: 0.0348 - auc: 0.8733 - val_loss: 0.0346 - val_auc: 0.8744\n",
            "Epoch 24/100\n",
            "49000/49000 [==============================] - 2s 40us/step - loss: 0.0349 - auc: 0.8754 - val_loss: 0.0351 - val_auc: 0.8764\n",
            "Epoch 25/100\n",
            "49000/49000 [==============================] - 2s 36us/step - loss: 0.0361 - auc: 0.8771 - val_loss: 0.0405 - val_auc: 0.8779\n",
            "Epoch 26/100\n",
            "49000/49000 [==============================] - 2s 35us/step - loss: 0.0345 - auc: 0.8787 - val_loss: 0.0349 - val_auc: 0.8795\n",
            "Epoch 27/100\n",
            "49000/49000 [==============================] - 2s 35us/step - loss: 0.0357 - auc: 0.8802 - val_loss: 0.0343 - val_auc: 0.8810\n",
            "Epoch 28/100\n",
            "49000/49000 [==============================] - 2s 35us/step - loss: 0.0349 - auc: 0.8818 - val_loss: 0.0347 - val_auc: 0.8826\n",
            "Epoch 29/100\n",
            "49000/49000 [==============================] - 2s 34us/step - loss: 0.0355 - auc: 0.8832 - val_loss: 0.0344 - val_auc: 0.8838\n",
            "Epoch 30/100\n",
            "49000/49000 [==============================] - 2s 34us/step - loss: 0.0343 - auc: 0.8844 - val_loss: 0.0340 - val_auc: 0.8851\n",
            "Epoch 31/100\n",
            "49000/49000 [==============================] - 2s 35us/step - loss: 0.0348 - auc: 0.8858 - val_loss: 0.0340 - val_auc: 0.8863\n",
            "Epoch 32/100\n",
            "49000/49000 [==============================] - 2s 35us/step - loss: 0.0353 - auc: 0.8868 - val_loss: 0.0344 - val_auc: 0.8873\n",
            "Epoch 33/100\n",
            "49000/49000 [==============================] - 2s 34us/step - loss: 0.0345 - auc: 0.8879 - val_loss: 0.0352 - val_auc: 0.8884\n",
            "Epoch 34/100\n",
            "49000/49000 [==============================] - 2s 34us/step - loss: 0.0343 - auc: 0.8888 - val_loss: 0.0343 - val_auc: 0.8894\n",
            "Epoch 35/100\n",
            "49000/49000 [==============================] - 2s 35us/step - loss: 0.0350 - auc: 0.8898 - val_loss: 0.0341 - val_auc: 0.8902\n",
            "Epoch 36/100\n",
            "49000/49000 [==============================] - 2s 35us/step - loss: 0.0348 - auc: 0.8907 - val_loss: 0.0341 - val_auc: 0.8910\n",
            "Epoch 37/100\n",
            "49000/49000 [==============================] - 2s 34us/step - loss: 0.0346 - auc: 0.8915 - val_loss: 0.0344 - val_auc: 0.8919\n",
            "Epoch 38/100\n",
            "49000/49000 [==============================] - 2s 34us/step - loss: 0.0348 - auc: 0.8923 - val_loss: 0.0340 - val_auc: 0.8927\n",
            "Epoch 39/100\n",
            "49000/49000 [==============================] - 2s 34us/step - loss: 0.0359 - auc: 0.8930 - val_loss: 0.0347 - val_auc: 0.8934\n",
            "Epoch 40/100\n",
            "49000/49000 [==============================] - 2s 34us/step - loss: 0.0348 - auc: 0.8937 - val_loss: 0.0339 - val_auc: 0.8941\n",
            "Epoch 41/100\n",
            "49000/49000 [==============================] - 2s 38us/step - loss: 0.0345 - auc: 0.8944 - val_loss: 0.0342 - val_auc: 0.8947\n",
            "Epoch 42/100\n",
            "49000/49000 [==============================] - 2s 38us/step - loss: 0.0354 - auc: 0.8950 - val_loss: 0.0351 - val_auc: 0.8952\n",
            "Epoch 43/100\n",
            "49000/49000 [==============================] - 2s 40us/step - loss: 0.0341 - auc: 0.8955 - val_loss: 0.0352 - val_auc: 0.8957\n",
            "Epoch 44/100\n",
            "49000/49000 [==============================] - 2s 35us/step - loss: 0.0345 - auc: 0.8960 - val_loss: 0.0340 - val_auc: 0.8962\n",
            "Epoch 45/100\n",
            "49000/49000 [==============================] - 2s 34us/step - loss: 0.0344 - auc: 0.8965 - val_loss: 0.0342 - val_auc: 0.8969\n",
            "Epoch 46/100\n",
            "49000/49000 [==============================] - 2s 35us/step - loss: 0.0359 - auc: 0.8971 - val_loss: 0.0340 - val_auc: 0.8974\n",
            "Epoch 47/100\n",
            "49000/49000 [==============================] - 2s 34us/step - loss: 0.0342 - auc: 0.8976 - val_loss: 0.0342 - val_auc: 0.8980\n",
            "Epoch 48/100\n",
            "49000/49000 [==============================] - 2s 35us/step - loss: 0.0348 - auc: 0.8982 - val_loss: 0.0345 - val_auc: 0.8984\n",
            "Epoch 49/100\n",
            "49000/49000 [==============================] - 2s 35us/step - loss: 0.0342 - auc: 0.8986 - val_loss: 0.0369 - val_auc: 0.8989\n",
            "Epoch 50/100\n",
            "49000/49000 [==============================] - 2s 34us/step - loss: 0.0345 - auc: 0.8990 - val_loss: 0.0344 - val_auc: 0.8993\n",
            "Epoch 51/100\n",
            "49000/49000 [==============================] - 2s 35us/step - loss: 0.0345 - auc: 0.8995 - val_loss: 0.0339 - val_auc: 0.8997\n",
            "Epoch 52/100\n",
            "49000/49000 [==============================] - 2s 34us/step - loss: 0.0349 - auc: 0.8999 - val_loss: 0.0340 - val_auc: 0.9001\n",
            "Epoch 53/100\n",
            "49000/49000 [==============================] - 2s 35us/step - loss: 0.0344 - auc: 0.9003 - val_loss: 0.0343 - val_auc: 0.9005\n",
            "Epoch 54/100\n",
            "49000/49000 [==============================] - 2s 35us/step - loss: 0.0341 - auc: 0.9007 - val_loss: 0.0342 - val_auc: 0.9009\n",
            "Epoch 55/100\n",
            "49000/49000 [==============================] - 2s 35us/step - loss: 0.0343 - auc: 0.9011 - val_loss: 0.0348 - val_auc: 0.9012\n",
            "Epoch 56/100\n",
            "49000/49000 [==============================] - 2s 34us/step - loss: 0.0342 - auc: 0.9014 - val_loss: 0.0340 - val_auc: 0.9016\n",
            "Epoch 57/100\n",
            "49000/49000 [==============================] - 2s 34us/step - loss: 0.0343 - auc: 0.9018 - val_loss: 0.0339 - val_auc: 0.9020\n",
            "Epoch 58/100\n",
            "49000/49000 [==============================] - 2s 34us/step - loss: 0.0340 - auc: 0.9022 - val_loss: 0.0345 - val_auc: 0.9024\n",
            "Epoch 59/100\n",
            "49000/49000 [==============================] - 2s 34us/step - loss: 0.0340 - auc: 0.9025 - val_loss: 0.0341 - val_auc: 0.9027\n",
            "Epoch 60/100\n",
            "49000/49000 [==============================] - 2s 34us/step - loss: 0.0344 - auc: 0.9028 - val_loss: 0.0357 - val_auc: 0.9029\n",
            "Epoch 61/100\n",
            "49000/49000 [==============================] - 2s 34us/step - loss: 0.0343 - auc: 0.9030 - val_loss: 0.0345 - val_auc: 0.9032\n",
            "Epoch 62/100\n",
            "49000/49000 [==============================] - 2s 35us/step - loss: 0.0341 - auc: 0.9034 - val_loss: 0.0340 - val_auc: 0.9035\n",
            "Epoch 63/100\n",
            "49000/49000 [==============================] - 2s 34us/step - loss: 0.0342 - auc: 0.9037 - val_loss: 0.0339 - val_auc: 0.9038\n",
            "Epoch 64/100\n",
            "49000/49000 [==============================] - 2s 34us/step - loss: 0.0339 - auc: 0.9040 - val_loss: 0.0355 - val_auc: 0.9041\n",
            "Epoch 65/100\n",
            "49000/49000 [==============================] - 2s 34us/step - loss: 0.0343 - auc: 0.9043 - val_loss: 0.0344 - val_auc: 0.9043\n",
            "Epoch 66/100\n",
            "49000/49000 [==============================] - 2s 33us/step - loss: 0.0342 - auc: 0.9044 - val_loss: 0.0350 - val_auc: 0.9046\n",
            "Epoch 67/100\n",
            "49000/49000 [==============================] - 2s 34us/step - loss: 0.0339 - auc: 0.9047 - val_loss: 0.0343 - val_auc: 0.9048\n",
            "Epoch 68/100\n",
            "49000/49000 [==============================] - 2s 34us/step - loss: 0.0344 - auc: 0.9050 - val_loss: 0.0345 - val_auc: 0.9051\n",
            "Epoch 69/100\n",
            "49000/49000 [==============================] - 2s 34us/step - loss: 0.0342 - auc: 0.9053 - val_loss: 0.0342 - val_auc: 0.9054\n",
            "Epoch 70/100\n",
            "49000/49000 [==============================] - 2s 35us/step - loss: 0.0342 - auc: 0.9055 - val_loss: 0.0343 - val_auc: 0.9056\n",
            "Epoch 71/100\n",
            "49000/49000 [==============================] - 2s 34us/step - loss: 0.0342 - auc: 0.9057 - val_loss: 0.0354 - val_auc: 0.9058\n",
            "Epoch 72/100\n",
            "49000/49000 [==============================] - 2s 35us/step - loss: 0.0339 - auc: 0.9059 - val_loss: 0.0343 - val_auc: 0.9060\n",
            "Epoch 73/100\n",
            "49000/49000 [==============================] - 2s 35us/step - loss: 0.0338 - auc: 0.9061 - val_loss: 0.0342 - val_auc: 0.9063\n",
            "Epoch 74/100\n",
            "49000/49000 [==============================] - 2s 34us/step - loss: 0.0353 - auc: 0.9064 - val_loss: 0.0342 - val_auc: 0.9065\n",
            "Epoch 75/100\n",
            "49000/49000 [==============================] - 2s 34us/step - loss: 0.0341 - auc: 0.9066 - val_loss: 0.0340 - val_auc: 0.9067\n",
            "Epoch 76/100\n",
            "49000/49000 [==============================] - 2s 35us/step - loss: 0.0340 - auc: 0.9068 - val_loss: 0.0342 - val_auc: 0.9070\n",
            "Epoch 77/100\n",
            "49000/49000 [==============================] - 2s 34us/step - loss: 0.0339 - auc: 0.9071 - val_loss: 0.0349 - val_auc: 0.9072\n",
            "Epoch 78/100\n",
            "49000/49000 [==============================] - 2s 35us/step - loss: 0.0338 - auc: 0.9072 - val_loss: 0.0339 - val_auc: 0.9074\n",
            "Epoch 79/100\n",
            "49000/49000 [==============================] - 2s 34us/step - loss: 0.0341 - auc: 0.9074 - val_loss: 0.0340 - val_auc: 0.9076\n",
            "Epoch 80/100\n",
            "49000/49000 [==============================] - 2s 34us/step - loss: 0.0342 - auc: 0.9077 - val_loss: 0.0355 - val_auc: 0.9078\n",
            "Epoch 81/100\n",
            "49000/49000 [==============================] - 2s 33us/step - loss: 0.0340 - auc: 0.9078 - val_loss: 0.0343 - val_auc: 0.9079\n",
            "Epoch 82/100\n",
            "49000/49000 [==============================] - 2s 34us/step - loss: 0.0340 - auc: 0.9080 - val_loss: 0.0340 - val_auc: 0.9081\n",
            "Epoch 83/100\n",
            "49000/49000 [==============================] - 2s 34us/step - loss: 0.0350 - auc: 0.9081 - val_loss: 0.0343 - val_auc: 0.9082\n",
            "Epoch 84/100\n",
            "49000/49000 [==============================] - 2s 33us/step - loss: 0.0344 - auc: 0.9082 - val_loss: 0.0341 - val_auc: 0.9083\n",
            "Epoch 85/100\n",
            "49000/49000 [==============================] - 2s 34us/step - loss: 0.0340 - auc: 0.9084 - val_loss: 0.0343 - val_auc: 0.9085\n",
            "Epoch 86/100\n",
            "49000/49000 [==============================] - 2s 34us/step - loss: 0.0339 - auc: 0.9085 - val_loss: 0.0350 - val_auc: 0.9087\n",
            "Epoch 87/100\n",
            "49000/49000 [==============================] - 2s 35us/step - loss: 0.0337 - auc: 0.9087 - val_loss: 0.0341 - val_auc: 0.9089\n",
            "Epoch 88/100\n",
            "49000/49000 [==============================] - 2s 33us/step - loss: 0.0342 - auc: 0.9089 - val_loss: 0.0347 - val_auc: 0.9090\n",
            "Epoch 89/100\n",
            "49000/49000 [==============================] - 2s 34us/step - loss: 0.0350 - auc: 0.9091 - val_loss: 0.0346 - val_auc: 0.9092\n",
            "Epoch 90/100\n",
            "49000/49000 [==============================] - 2s 34us/step - loss: 0.0342 - auc: 0.9092 - val_loss: 0.0345 - val_auc: 0.9093\n",
            "Epoch 91/100\n",
            "49000/49000 [==============================] - 2s 34us/step - loss: 0.0335 - auc: 0.9094 - val_loss: 0.0342 - val_auc: 0.9095\n",
            "Epoch 92/100\n",
            "49000/49000 [==============================] - 2s 34us/step - loss: 0.0343 - auc: 0.9095 - val_loss: 0.0339 - val_auc: 0.9096\n",
            "Epoch 93/100\n",
            "49000/49000 [==============================] - 2s 34us/step - loss: 0.0343 - auc: 0.9097 - val_loss: 0.0344 - val_auc: 0.9098\n",
            "Epoch 94/100\n",
            "49000/49000 [==============================] - 2s 34us/step - loss: 0.0341 - auc: 0.9098 - val_loss: 0.0372 - val_auc: 0.9099\n",
            "Epoch 95/100\n",
            "49000/49000 [==============================] - 2s 33us/step - loss: 0.0339 - auc: 0.9099 - val_loss: 0.0340 - val_auc: 0.9099\n",
            "Epoch 96/100\n",
            "49000/49000 [==============================] - 2s 34us/step - loss: 0.0342 - auc: 0.9099 - val_loss: 0.0365 - val_auc: 0.9099\n",
            "Epoch 97/100\n",
            "49000/49000 [==============================] - 2s 34us/step - loss: 0.0344 - auc: 0.9100 - val_loss: 0.0343 - val_auc: 0.9100\n",
            "Epoch 98/100\n",
            "49000/49000 [==============================] - 2s 35us/step - loss: 0.0340 - auc: 0.9101 - val_loss: 0.0340 - val_auc: 0.9102\n",
            "Epoch 99/100\n",
            "49000/49000 [==============================] - 2s 34us/step - loss: 0.0337 - auc: 0.9103 - val_loss: 0.0352 - val_auc: 0.9103\n",
            "Epoch 100/100\n",
            "49000/49000 [==============================] - 2s 35us/step - loss: 0.0339 - auc: 0.9104 - val_loss: 0.0339 - val_auc: 0.9104\n"
          ],
          "name": "stdout"
        },
        {
          "output_type": "execute_result",
          "data": {
            "text/plain": [
              "<keras.callbacks.History at 0x7fe950eea588>"
            ]
          },
          "metadata": {
            "tags": []
          },
          "execution_count": 49
        }
      ]
    },
    {
      "cell_type": "code",
      "metadata": {
        "id": "rbf9bHHi_wr9",
        "colab_type": "code",
        "colab": {}
      },
      "source": [
        "from sklearn.metrics import roc_curve\n",
        "y_pred_keras = keras_model.predict(x_test)\n",
        "fpr_keras, tpr_keras, thresholds_keras = roc_curve(y_test, y_pred_keras)"
      ],
      "execution_count": 0,
      "outputs": []
    },
    {
      "cell_type": "code",
      "metadata": {
        "id": "epH0D5Igj4gi",
        "colab_type": "code",
        "outputId": "7184320d-b881-469b-9a6a-bab135991ad3",
        "colab": {
          "base_uri": "https://localhost:8080/",
          "height": 51
        }
      },
      "source": [
        "print(\"ROC_AUC_Score :\",roc_auc_score(y_test,y_pred_keras))\n",
        "print(\"F1 Score :\",f1_score(y_test,y_pred_keras.round()))\n",
        "      "
      ],
      "execution_count": 0,
      "outputs": [
        {
          "output_type": "stream",
          "text": [
            "ROC_AUC_Score : 0.9500106268215665\n",
            "F1 Score : 0.7093889716840537\n"
          ],
          "name": "stdout"
        }
      ]
    },
    {
      "cell_type": "code",
      "metadata": {
        "id": "S4KA64wslzsM",
        "colab_type": "code",
        "outputId": "354f1f2c-a3fd-4b9a-b140-e771b0737673",
        "colab": {
          "base_uri": "https://localhost:8080/",
          "height": 170
        }
      },
      "source": [
        "print(classification_report(y_test,y_pred_keras.round()))"
      ],
      "execution_count": 0,
      "outputs": [
        {
          "output_type": "stream",
          "text": [
            "              precision    recall  f1-score   support\n",
            "\n",
            "         0.0       0.99      1.00      1.00     29567\n",
            "         1.0       1.00      0.55      0.71       433\n",
            "\n",
            "   micro avg       0.99      0.99      0.99     30000\n",
            "   macro avg       1.00      0.77      0.85     30000\n",
            "weighted avg       0.99      0.99      0.99     30000\n",
            "\n"
          ],
          "name": "stdout"
        }
      ]
    },
    {
      "cell_type": "code",
      "metadata": {
        "id": "3Dmx9mHUkVoY",
        "colab_type": "code",
        "colab": {}
      },
      "source": [
        "auc_keras = auc(fpr_keras, tpr_keras)"
      ],
      "execution_count": 0,
      "outputs": []
    },
    {
      "cell_type": "code",
      "metadata": {
        "id": "jWJ_uCjFpJ_H",
        "colab_type": "code",
        "outputId": "7b7ecaab-9412-4b19-fc79-f284c684e74f",
        "colab": {
          "base_uri": "https://localhost:8080/",
          "height": 735
        }
      },
      "source": [
        "plt.figure(1)\n",
        "plt.plot([0, 1], [0, 1], 'k--')\n",
        "plt.plot(fpr_keras, tpr_keras,label='ROC_AUC Curve')\n",
        "plt.xlabel('False positive rate')\n",
        "plt.ylabel('True positive rate')\n",
        "plt.title('ROC curve')\n",
        "plt.legend(loc='best')\n",
        "plt.show()\n",
        "# Zoom in view of the upper left corner.\n",
        "plt.figure(2)\n",
        "plt.xlim(0, 0.8)\n",
        "plt.ylim(0.7, 1)\n",
        "plt.plot([0, 1], [0, 1], 'k--')\n",
        "plt.plot(fpr_keras, tpr_keras,label='Zoomed curve')\n",
        "plt.xlabel('False positive rate')\n",
        "plt.ylabel('True positive rate')\n",
        "plt.title('ROC curve (zoomed in at top left)')\n",
        "plt.legend(loc='best')\n",
        "plt.show()"
      ],
      "execution_count": 0,
      "outputs": [
        {
          "output_type": "display_data",
          "data": {
            "image/png": "[encoded data removed]",
            "text/plain": [
              "<Figure size 576x396 with 1 Axes>"
            ]
          },
          "metadata": {
            "tags": []
          }
        },
        {
          "output_type": "display_data",
          "data": {
            "image/png": "[encoded data removed]",
            "text/plain": [
              "<Figure size 576x396 with 1 Axes>"
            ]
          },
          "metadata": {
            "tags": []
          }
        }
      ]
    },
    {
      "cell_type": "markdown",
      "metadata": {
        "id": "iRRr1Xvtww6C",
        "colab_type": "text"
      },
      "source": [
        "# Tuning"
      ]
    },
    {
      "cell_type": "code",
      "metadata": {
        "colab_type": "code",
        "id": "F4XgYeu5n26t",
        "colab": {}
      },
      "source": [
        "logic=LogisticRegression()\n",
        "adaboost=AdaBoostClassifier()\n",
        "xgboost=XGBClassifier()\n",
        "gboost=GradientBoostingClassifier()\n",
        "bagging=BaggingClassifier()\n",
        "Gaussian=GaussianNB()\n",
        "rf=RandomForestClassifier()\n",
        "tree=DecisionTreeClassifier()"
      ],
      "execution_count": 0,
      "outputs": []
    },
    {
      "cell_type": "code",
      "metadata": {
        "colab_type": "code",
        "id": "iTUacrmZn2W6",
        "colab": {}
      },
      "source": [
        "param_grid_logic={\"penalty\": ['l1', 'l2'], 'C': [0.001, 0.01, 0.1, 1, 10, 100, 1000]}\n",
        "param_grid_adaboost={'n_estimators':[50,100,200],'learning_rate':[0.0001,0.0003,0.0005]}\n",
        "param_grid_xgboost={'n_estimators':[50,100,200],'learning_rate':[0.001,0.01,0.05,0.1],'max_depth':[3,5,7,9]}\n",
        "param_grid_gboost={'n_estimators':[50,100,200],'learning_rate':[0.0001,0.0003,0.0005],'max_depth': [4, 6, 8,10]}\n",
        "param_grid_bagg={'n_estimators':[50,100,200]}\n",
        "param_grid_rf={'n_estimators':[50,100,200],'max_depth':[3,5,7,9]}\n",
        "param_grid_tree = {'criterion' : ['entropy', 'gini'], 'max_depth' : [3,5,7,9]} # Grid of 8 values\n"
      ],
      "execution_count": 0,
      "outputs": []
    },
    {
      "cell_type": "code",
      "metadata": {
        "colab_type": "code",
        "id": "jrtbt5C7n2I_",
        "colab": {}
      },
      "source": [
        "best_model_logic = GridSearchCV(estimator=logic,param_grid=param_grid_logic,scoring='f1',n_jobs=-1,cv=5)\n",
        "best_model_adaboost = GridSearchCV(estimator=adaboost,param_grid=param_grid_adaboost,scoring='f1',n_jobs=-1,cv=5)\n",
        "best_model_xgboost = GridSearchCV(estimator=xgboost,param_grid=param_grid_xgboost,scoring='f1',n_jobs=-1,cv=5)\n",
        "best_model_gboost = GridSearchCV(estimator=gboost,param_grid=param_grid_gboost,scoring='f1',n_jobs=-1,cv=5)\n",
        "best_model_bagg = GridSearchCV(estimator=bagging,param_grid=param_grid_bagg,scoring='f1',n_jobs=-1,cv=5)\n",
        "best_model_rf = GridSearchCV(estimator=rf,param_grid=param_grid_rf,scoring='f1',n_jobs=-1,cv=5)\n",
        "best_model_tree = GridSearchCV(estimator=tree,param_grid=param_grid_tree,scoring='f1',n_jobs=-1,cv=5)\n"
      ],
      "execution_count": 0,
      "outputs": []
    },
    {
      "cell_type": "code",
      "metadata": {
        "id": "xNZdTgiMG1qO",
        "colab_type": "code",
        "outputId": "e9836d40-e092-4291-83e6-e0fedcc3c9d8",
        "colab": {
          "base_uri": "https://localhost:8080/",
          "height": 170
        }
      },
      "source": [
        "best_model_bagg.fit(X_train_res,y_train_res,)"
      ],
      "execution_count": 0,
      "outputs": [
        {
          "output_type": "execute_result",
          "data": {
            "text/plain": [
              "GridSearchCV(cv=5, error_score='raise-deprecating',\n",
              "       estimator=BaggingClassifier(base_estimator=None, bootstrap=True,\n",
              "         bootstrap_features=False, max_features=1.0, max_samples=1.0,\n",
              "         n_estimators=10, n_jobs=None, oob_score=False, random_state=None,\n",
              "         verbose=0, warm_start=False),\n",
              "       fit_params=None, iid='warn', n_jobs=-1,\n",
              "       param_grid={'n_estimators': [50, 100, 200]},\n",
              "       pre_dispatch='2*n_jobs', refit=True, return_train_score='warn',\n",
              "       scoring='f1', verbose=0)"
            ]
          },
          "metadata": {
            "tags": []
          },
          "execution_count": 57
        }
      ]
    },
    {
      "cell_type": "code",
      "metadata": {
        "id": "YgKUDmwdCvhW",
        "colab_type": "code",
        "outputId": "3a5877f0-c6b8-4848-d04a-1a27d121811b",
        "colab": {
          "base_uri": "https://localhost:8080/",
          "height": 34
        }
      },
      "source": [
        "best_model_bagg.best_params_"
      ],
      "execution_count": 0,
      "outputs": [
        {
          "output_type": "execute_result",
          "data": {
            "text/plain": [
              "{'n_estimators': 50}"
            ]
          },
          "metadata": {
            "tags": []
          },
          "execution_count": 58
        }
      ]
    },
    {
      "cell_type": "code",
      "metadata": {
        "id": "z7FcZtqBR17A",
        "colab_type": "code",
        "outputId": "573cc37f-93d8-415c-b4b3-340876132a48",
        "colab": {
          "base_uri": "https://localhost:8080/",
          "height": 34
        }
      },
      "source": [
        "best_model_bagg.best_score_"
      ],
      "execution_count": 0,
      "outputs": [
        {
          "output_type": "execute_result",
          "data": {
            "text/plain": [
              "0.9869332805674895"
            ]
          },
          "metadata": {
            "tags": []
          },
          "execution_count": 59
        }
      ]
    },
    {
      "cell_type": "code",
      "metadata": {
        "id": "HyKH518YEAW3",
        "colab_type": "code",
        "outputId": "3abb8be5-45da-4e87-96d8-275406b6bec4",
        "colab": {
          "base_uri": "https://localhost:8080/",
          "height": 34
        }
      },
      "source": [
        "cross_val_score(best_model_bagg.best_estimator_,X=X_train_res,y=y_train_res,cv=5)"
      ],
      "execution_count": 0,
      "outputs": [
        {
          "output_type": "execute_result",
          "data": {
            "text/plain": [
              "array([0.97746703, 0.98974786, 0.98862401, 0.98971089, 0.98920368])"
            ]
          },
          "metadata": {
            "tags": []
          },
          "execution_count": 60
        }
      ]
    },
    {
      "cell_type": "code",
      "metadata": {
        "id": "Y1GXoi1AENGK",
        "colab_type": "code",
        "outputId": "252b3664-de4a-4394-e881-f706c58171d6",
        "colab": {
          "base_uri": "https://localhost:8080/",
          "height": 34
        }
      },
      "source": [
        "a=cross_val_score(best_model_bagg.best_estimator_,X=X_train_res,y=y_train_res,cv=5).mean()\n",
        "a"
      ],
      "execution_count": 0,
      "outputs": [
        {
          "output_type": "execute_result",
          "data": {
            "text/plain": [
              "0.9868347661573805"
            ]
          },
          "metadata": {
            "tags": []
          },
          "execution_count": 61
        }
      ]
    },
    {
      "cell_type": "code",
      "metadata": {
        "id": "SeLUX_G8RqeP",
        "colab_type": "code",
        "colab": {}
      },
      "source": [
        "pred_bagg=best_model_bagg.predict(x_test)"
      ],
      "execution_count": 0,
      "outputs": []
    },
    {
      "cell_type": "code",
      "metadata": {
        "id": "H9K3zhyvSEdQ",
        "colab_type": "code",
        "outputId": "c791a4e3-cb0e-4830-e1ac-aa99a38c7cd3",
        "colab": {
          "base_uri": "https://localhost:8080/",
          "height": 34
        }
      },
      "source": [
        "f1_score(pred_bagg,y_test)"
      ],
      "execution_count": 0,
      "outputs": [
        {
          "output_type": "execute_result",
          "data": {
            "text/plain": [
              "0.48821866163996236"
            ]
          },
          "metadata": {
            "tags": []
          },
          "execution_count": 63
        }
      ]
    },
    {
      "cell_type": "code",
      "metadata": {
        "id": "SabmkZPRSJ2m",
        "colab_type": "code",
        "outputId": "d5c64488-9836-457e-91d6-5bef608e93c0",
        "colab": {
          "base_uri": "https://localhost:8080/",
          "height": 34
        }
      },
      "source": [
        "matthews_corrcoef(pred_bagg,y_test)"
      ],
      "execution_count": 0,
      "outputs": [
        {
          "output_type": "execute_result",
          "data": {
            "text/plain": [
              "0.487927928751812"
            ]
          },
          "metadata": {
            "tags": []
          },
          "execution_count": 64
        }
      ]
    },
    {
      "cell_type": "code",
      "metadata": {
        "colab_type": "code",
        "id": "Gl2SPplSn132",
        "outputId": "25669e8f-048b-4e37-98fa-893047b9d706",
        "colab": {
          "base_uri": "https://localhost:8080/",
          "height": 221
        }
      },
      "source": [
        "best_model_rf.fit(X=X_train_res,y=y_train_res)"
      ],
      "execution_count": 0,
      "outputs": [
        {
          "output_type": "execute_result",
          "data": {
            "text/plain": [
              "GridSearchCV(cv=5, error_score='raise-deprecating',\n",
              "       estimator=RandomForestClassifier(bootstrap=True, class_weight=None, criterion='gini',\n",
              "            max_depth=None, max_features='auto', max_leaf_nodes=None,\n",
              "            min_impurity_decrease=0.0, min_impurity_split=None,\n",
              "            min_samples_leaf=1, min_samples_split=2,\n",
              "            min_weight_fraction_leaf=0.0, n_estimators='warn', n_jobs=None,\n",
              "            oob_score=False, random_state=None, verbose=0,\n",
              "            warm_start=False),\n",
              "       fit_params=None, iid='warn', n_jobs=-1,\n",
              "       param_grid={'n_estimators': [50, 100, 200], 'max_depth': [3, 5, 7, 9]},\n",
              "       pre_dispatch='2*n_jobs', refit=True, return_train_score='warn',\n",
              "       scoring='f1', verbose=0)"
            ]
          },
          "metadata": {
            "tags": []
          },
          "execution_count": 65
        }
      ]
    },
    {
      "cell_type": "code",
      "metadata": {
        "id": "K3leS5qhYBlI",
        "colab_type": "code",
        "outputId": "30c1f55c-b986-4d03-fa62-ffdf541a58f3",
        "colab": {
          "base_uri": "https://localhost:8080/",
          "height": 34
        }
      },
      "source": [
        "best_model_rf.best_params_"
      ],
      "execution_count": 0,
      "outputs": [
        {
          "output_type": "execute_result",
          "data": {
            "text/plain": [
              "{'max_depth': 9, 'n_estimators': 200}"
            ]
          },
          "metadata": {
            "tags": []
          },
          "execution_count": 66
        }
      ]
    },
    {
      "cell_type": "code",
      "metadata": {
        "id": "2Xl_yk3LYE2r",
        "colab_type": "code",
        "outputId": "9e9c1292-0267-4958-f5fc-53273ff2559e",
        "colab": {
          "base_uri": "https://localhost:8080/",
          "height": 34
        }
      },
      "source": [
        "cross_val_score(best_model_rf.best_estimator_,X=X_train_res,y=y_train_res,cv=5)"
      ],
      "execution_count": 0,
      "outputs": [
        {
          "output_type": "execute_result",
          "data": {
            "text/plain": [
              "array([0.93432111, 0.94214607, 0.94257662, 0.94174335, 0.94083762])"
            ]
          },
          "metadata": {
            "tags": []
          },
          "execution_count": 67
        }
      ]
    },
    {
      "cell_type": "code",
      "metadata": {
        "id": "H2aflYZzYG4e",
        "colab_type": "code",
        "outputId": "2c0decf4-c196-4912-b27d-4bab3d692bb5",
        "colab": {
          "base_uri": "https://localhost:8080/",
          "height": 34
        }
      },
      "source": [
        "b=cross_val_score(best_model_rf.best_estimator_,X=X_train_res,y=y_train_res,cv=5).mean()\n",
        "b"
      ],
      "execution_count": 0,
      "outputs": [
        {
          "output_type": "execute_result",
          "data": {
            "text/plain": [
              "0.9396728432311727"
            ]
          },
          "metadata": {
            "tags": []
          },
          "execution_count": 68
        }
      ]
    },
    {
      "cell_type": "code",
      "metadata": {
        "colab_type": "code",
        "id": "0B9r4pInEzxt",
        "outputId": "6fe978ae-b0d4-4580-d967-b00d03536410",
        "colab": {
          "base_uri": "https://localhost:8080/",
          "height": 204
        }
      },
      "source": [
        "best_model_tree.fit(X=X_train_res,y=y_train_res)"
      ],
      "execution_count": 0,
      "outputs": [
        {
          "output_type": "execute_result",
          "data": {
            "text/plain": [
              "GridSearchCV(cv=5, error_score='raise-deprecating',\n",
              "       estimator=DecisionTreeClassifier(class_weight=None, criterion='gini', max_depth=None,\n",
              "            max_features=None, max_leaf_nodes=None,\n",
              "            min_impurity_decrease=0.0, min_impurity_split=None,\n",
              "            min_samples_leaf=1, min_samples_split=2,\n",
              "            min_weight_fraction_leaf=0.0, presort=False, random_state=None,\n",
              "            splitter='best'),\n",
              "       fit_params=None, iid='warn', n_jobs=-1,\n",
              "       param_grid={'criterion': ['entropy', 'gini'], 'max_depth': [3, 5, 7, 9]},\n",
              "       pre_dispatch='2*n_jobs', refit=True, return_train_score='warn',\n",
              "       scoring='f1', verbose=0)"
            ]
          },
          "metadata": {
            "tags": []
          },
          "execution_count": 69
        }
      ]
    },
    {
      "cell_type": "code",
      "metadata": {
        "colab_type": "code",
        "id": "T91hHYDQEzx7",
        "outputId": "a6d020c2-268c-451e-e94a-2902784a5777",
        "colab": {
          "base_uri": "https://localhost:8080/",
          "height": 34
        }
      },
      "source": [
        "best_model_tree.best_params_"
      ],
      "execution_count": 0,
      "outputs": [
        {
          "output_type": "execute_result",
          "data": {
            "text/plain": [
              "{'criterion': 'gini', 'max_depth': 9}"
            ]
          },
          "metadata": {
            "tags": []
          },
          "execution_count": 70
        }
      ]
    },
    {
      "cell_type": "code",
      "metadata": {
        "colab_type": "code",
        "id": "hr7XRuTvEzyJ",
        "outputId": "35f3f845-3fed-4917-f384-340bcea805e7",
        "colab": {
          "base_uri": "https://localhost:8080/",
          "height": 34
        }
      },
      "source": [
        "cross_val_score(best_model_tree.best_estimator_,X=X_train_res,y=y_train_res,cv=5)"
      ],
      "execution_count": 0,
      "outputs": [
        {
          "output_type": "execute_result",
          "data": {
            "text/plain": [
              "array([0.92041009, 0.92602521, 0.92812115, 0.91986088, 0.9208753 ])"
            ]
          },
          "metadata": {
            "tags": []
          },
          "execution_count": 71
        }
      ]
    },
    {
      "cell_type": "code",
      "metadata": {
        "colab_type": "code",
        "id": "KZYyc8XgEzyV",
        "outputId": "e7efa501-fca2-4aa2-c764-5955a41ca4c6",
        "colab": {
          "base_uri": "https://localhost:8080/",
          "height": 34
        }
      },
      "source": [
        "c=cross_val_score(best_model_tree.best_estimator_,X=X_train_res,y=y_train_res,cv=5).mean()\n",
        "c"
      ],
      "execution_count": 0,
      "outputs": [
        {
          "output_type": "execute_result",
          "data": {
            "text/plain": [
              "0.9230585256822079"
            ]
          },
          "metadata": {
            "tags": []
          },
          "execution_count": 72
        }
      ]
    },
    {
      "cell_type": "code",
      "metadata": {
        "id": "UX7A-M_wEyJt",
        "colab_type": "code",
        "outputId": "b44ddad4-128b-43dc-e171-6dd47f3b10e3",
        "colab": {
          "base_uri": "https://localhost:8080/",
          "height": 159
        }
      },
      "source": [
        "score_model_names=['BaggingClassifier','RandomForestClassifier','Decision Tree']\n",
        "cross_val_scores = [a,b,c]\n",
        "best_models=[best_model_bagg,best_model_rf,best_model_tree]\n",
        "\n",
        "ROC_AUC_scores_bm=[]\n",
        "F1_score_bm=[]\n",
        "mcc_bm=[]\n",
        "\n",
        "for i in range(len(best_models)):\n",
        "    bm = best_models[i]\n",
        "    #bm.fit(x_train, y_train)\n",
        "    y_pred = bm.predict(x_test)\n",
        "    ROC_AUC_scores_bm.append(roc_auc_score(y_test, y_pred))\n",
        "    F1_score_bm.append(f1_score(y_test,y_pred))\n",
        "    mcc_bm.append(matthews_corrcoef(y_test,test_pred))\n",
        "\n",
        "\n",
        "dictry={'Model':score_model_names,'Cross_Val_score':cross_val_scores,'F1 Score':F1_score_bm,'ROC_AUC':ROC_AUC_scores_bm,'MCC Score':mcc_bm}\n",
        "score_df=pd.DataFrame(dictry)\n",
        "print( \"AFTER TUNING THE SCORES ARE :\" )\n",
        "score_df"
      ],
      "execution_count": 0,
      "outputs": [
        {
          "output_type": "stream",
          "text": [
            "AFTER TUNING THE SCORES ARE :\n"
          ],
          "name": "stdout"
        },
        {
          "output_type": "execute_result",
          "data": {
            "text/html": [
              "<div>\n",
              "<style scoped>\n",
              "    .dataframe tbody tr th:only-of-type {\n",
              "        vertical-align: middle;\n",
              "    }\n",
              "\n",
              "    .dataframe tbody tr th {\n",
              "        vertical-align: top;\n",
              "    }\n",
              "\n",
              "    .dataframe thead th {\n",
              "        text-align: right;\n",
              "    }\n",
              "</style>\n",
              "<table border=\"1\" class=\"dataframe\">\n",
              "  <thead>\n",
              "    <tr style=\"text-align: right;\">\n",
              "      <th></th>\n",
              "      <th>Cross_Val_score</th>\n",
              "      <th>F1 Score</th>\n",
              "      <th>MCC Score</th>\n",
              "      <th>Model</th>\n",
              "      <th>ROC_AUC</th>\n",
              "    </tr>\n",
              "  </thead>\n",
              "  <tbody>\n",
              "    <tr>\n",
              "      <th>0</th>\n",
              "      <td>0.986835</td>\n",
              "      <td>0.488219</td>\n",
              "      <td>0.246287</td>\n",
              "      <td>BaggingClassifier</td>\n",
              "      <td>0.792836</td>\n",
              "    </tr>\n",
              "    <tr>\n",
              "      <th>1</th>\n",
              "      <td>0.939673</td>\n",
              "      <td>0.275159</td>\n",
              "      <td>0.246287</td>\n",
              "      <td>RandomForestClassifier</td>\n",
              "      <td>0.847111</td>\n",
              "    </tr>\n",
              "    <tr>\n",
              "      <th>2</th>\n",
              "      <td>0.923059</td>\n",
              "      <td>0.264753</td>\n",
              "      <td>0.246287</td>\n",
              "      <td>Decision Tree</td>\n",
              "      <td>0.853896</td>\n",
              "    </tr>\n",
              "  </tbody>\n",
              "</table>\n",
              "</div>"
            ],
            "text/plain": [
              "   Cross_Val_score  F1 Score  MCC Score                   Model   ROC_AUC\n",
              "0         0.986835  0.488219   0.246287       BaggingClassifier  0.792836\n",
              "1         0.939673  0.275159   0.246287  RandomForestClassifier  0.847111\n",
              "2         0.923059  0.264753   0.246287           Decision Tree  0.853896"
            ]
          },
          "metadata": {
            "tags": []
          },
          "execution_count": 73
        }
      ]
    },
    {
      "cell_type": "markdown",
      "metadata": {
        "id": "Ay2nc1XHqMId",
        "colab_type": "text"
      },
      "source": [
        "# **Models on imbalanced dataset**"
      ]
    },
    {
      "cell_type": "code",
      "metadata": {
        "id": "lHFjw8pdO5y_",
        "colab_type": "code",
        "outputId": "928a36a5-53f8-43bd-84f7-cf87c78118e9",
        "colab": {
          "base_uri": "https://localhost:8080/",
          "height": 390
        }
      },
      "source": [
        "models=[RandomForestClassifier(),AdaBoostClassifier(),BaggingClassifier(),LinearSVC(),\n",
        "        KNeighborsClassifier(), DecisionTreeClassifier(),LogisticRegression(), GradientBoostingClassifier(), XGBClassifier(),GaussianNB(),BernoulliNB()]\n",
        "model_names=['RandomForestClassifier','AdaBoostClassifier','BaggingClassifier','LinearSVC',\n",
        "             'KNeighborsClassifier', 'DecisionTreeClassifier', 'LogisticRegression', \n",
        "             'GradientBoostingClassifier', 'XGBClassifier','GaussianNB','BernoulliNB']\n",
        "ROC_AUC_scores = []\n",
        "F1_score=[]\n",
        "mcc=[]\n",
        "\n",
        "d={}\n",
        "\n",
        "for model in range(len(models)):\n",
        "    clf = models[model]\n",
        "    clf.fit(x_train, y_train)\n",
        "    test_pred = clf.predict(x_test)\n",
        "    ROC_AUC_scores.append(roc_auc_score(y_test, test_pred))\n",
        "    F1_score.append(f1_score(y_test,test_pred))\n",
        "    mcc.append(matthews_corrcoef(y_test,test_pred))\n",
        "    \n",
        "d={'Modelling Algo':model_names, 'ROC_AUC_Scores': ROC_AUC_scores,'F1_Score':F1_score,'MCC':mcc}   \n",
        "df_models = pd.DataFrame(d)\n",
        "df_models"
      ],
      "execution_count": 0,
      "outputs": [
        {
          "output_type": "execute_result",
          "data": {
            "text/html": [
              "<div>\n",
              "<style scoped>\n",
              "    .dataframe tbody tr th:only-of-type {\n",
              "        vertical-align: middle;\n",
              "    }\n",
              "\n",
              "    .dataframe tbody tr th {\n",
              "        vertical-align: top;\n",
              "    }\n",
              "\n",
              "    .dataframe thead th {\n",
              "        text-align: right;\n",
              "    }\n",
              "</style>\n",
              "<table border=\"1\" class=\"dataframe\">\n",
              "  <thead>\n",
              "    <tr style=\"text-align: right;\">\n",
              "      <th></th>\n",
              "      <th>F1_Score</th>\n",
              "      <th>MCC</th>\n",
              "      <th>Modelling Algo</th>\n",
              "      <th>ROC_AUC_Scores</th>\n",
              "    </tr>\n",
              "  </thead>\n",
              "  <tbody>\n",
              "    <tr>\n",
              "      <th>0</th>\n",
              "      <td>0.656676</td>\n",
              "      <td>0.663646</td>\n",
              "      <td>RandomForestClassifier</td>\n",
              "      <td>0.777276</td>\n",
              "    </tr>\n",
              "    <tr>\n",
              "      <th>1</th>\n",
              "      <td>0.708333</td>\n",
              "      <td>0.737373</td>\n",
              "      <td>AdaBoostClassifier</td>\n",
              "      <td>0.774810</td>\n",
              "    </tr>\n",
              "    <tr>\n",
              "      <th>2</th>\n",
              "      <td>0.667594</td>\n",
              "      <td>0.678401</td>\n",
              "      <td>BaggingClassifier</td>\n",
              "      <td>0.776358</td>\n",
              "    </tr>\n",
              "    <tr>\n",
              "      <th>3</th>\n",
              "      <td>0.709389</td>\n",
              "      <td>0.738953</td>\n",
              "      <td>LinearSVC</td>\n",
              "      <td>0.774827</td>\n",
              "    </tr>\n",
              "    <tr>\n",
              "      <th>4</th>\n",
              "      <td>0.116129</td>\n",
              "      <td>0.227217</td>\n",
              "      <td>KNeighborsClassifier</td>\n",
              "      <td>0.531093</td>\n",
              "    </tr>\n",
              "    <tr>\n",
              "      <th>5</th>\n",
              "      <td>0.535088</td>\n",
              "      <td>0.528624</td>\n",
              "      <td>DecisionTreeClassifier</td>\n",
              "      <td>0.777781</td>\n",
              "    </tr>\n",
              "    <tr>\n",
              "      <th>6</th>\n",
              "      <td>0.707463</td>\n",
              "      <td>0.737387</td>\n",
              "      <td>LogisticRegression</td>\n",
              "      <td>0.773672</td>\n",
              "    </tr>\n",
              "    <tr>\n",
              "      <th>7</th>\n",
              "      <td>0.702065</td>\n",
              "      <td>0.728092</td>\n",
              "      <td>GradientBoostingClassifier</td>\n",
              "      <td>0.774708</td>\n",
              "    </tr>\n",
              "    <tr>\n",
              "      <th>8</th>\n",
              "      <td>0.709389</td>\n",
              "      <td>0.738953</td>\n",
              "      <td>XGBClassifier</td>\n",
              "      <td>0.774827</td>\n",
              "    </tr>\n",
              "    <tr>\n",
              "      <th>9</th>\n",
              "      <td>0.405451</td>\n",
              "      <td>0.409302</td>\n",
              "      <td>GaussianNB</td>\n",
              "      <td>0.766321</td>\n",
              "    </tr>\n",
              "    <tr>\n",
              "      <th>10</th>\n",
              "      <td>0.618182</td>\n",
              "      <td>0.618245</td>\n",
              "      <td>BernoulliNB</td>\n",
              "      <td>0.773153</td>\n",
              "    </tr>\n",
              "  </tbody>\n",
              "</table>\n",
              "</div>"
            ],
            "text/plain": [
              "    F1_Score       MCC              Modelling Algo  ROC_AUC_Scores\n",
              "0   0.656676  0.663646      RandomForestClassifier        0.777276\n",
              "1   0.708333  0.737373          AdaBoostClassifier        0.774810\n",
              "2   0.667594  0.678401           BaggingClassifier        0.776358\n",
              "3   0.709389  0.738953                   LinearSVC        0.774827\n",
              "4   0.116129  0.227217        KNeighborsClassifier        0.531093\n",
              "5   0.535088  0.528624      DecisionTreeClassifier        0.777781\n",
              "6   0.707463  0.737387          LogisticRegression        0.773672\n",
              "7   0.702065  0.728092  GradientBoostingClassifier        0.774708\n",
              "8   0.709389  0.738953               XGBClassifier        0.774827\n",
              "9   0.405451  0.409302                  GaussianNB        0.766321\n",
              "10  0.618182  0.618245                 BernoulliNB        0.773153"
            ]
          },
          "metadata": {
            "tags": []
          },
          "execution_count": 74
        }
      ]
    },
    {
      "cell_type": "code",
      "metadata": {
        "id": "bkqU1X0VPRnU",
        "colab_type": "code",
        "outputId": "599a773d-7e6a-4e9a-9f5c-3ffdddd6ce98",
        "colab": {
          "base_uri": "https://localhost:8080/",
          "height": 68
        }
      },
      "source": [
        "y_train.value_counts()"
      ],
      "execution_count": 0,
      "outputs": [
        {
          "output_type": "execute_result",
          "data": {
            "text/plain": [
              "0.0    69007\n",
              "1.0      993\n",
              "Name: stroke, dtype: int64"
            ]
          },
          "metadata": {
            "tags": []
          },
          "execution_count": 75
        }
      ]
    },
    {
      "cell_type": "code",
      "metadata": {
        "id": "IEaC7_WYPAhi",
        "colab_type": "code",
        "outputId": "bd466944-e896-4ad3-9687-cac425ee17da",
        "colab": {
          "base_uri": "https://localhost:8080/",
          "height": 68
        }
      },
      "source": [
        "y_test.value_counts()"
      ],
      "execution_count": 0,
      "outputs": [
        {
          "output_type": "execute_result",
          "data": {
            "text/plain": [
              "0.0    29567\n",
              "1.0      433\n",
              "Name: stroke, dtype: int64"
            ]
          },
          "metadata": {
            "tags": []
          },
          "execution_count": 76
        }
      ]
    },
    {
      "cell_type": "code",
      "metadata": {
        "id": "EJ9SSEHRPdfa",
        "colab_type": "code",
        "outputId": "f57a1e5e-d007-4404-eec1-dedfdec9f8b3",
        "colab": {
          "base_uri": "https://localhost:8080/",
          "height": 204
        }
      },
      "source": [
        "pp=pd.DataFrame(test_pred,columns=['prediction'])\n",
        "pp.head()"
      ],
      "execution_count": 0,
      "outputs": [
        {
          "output_type": "execute_result",
          "data": {
            "text/html": [
              "<div>\n",
              "<style scoped>\n",
              "    .dataframe tbody tr th:only-of-type {\n",
              "        vertical-align: middle;\n",
              "    }\n",
              "\n",
              "    .dataframe tbody tr th {\n",
              "        vertical-align: top;\n",
              "    }\n",
              "\n",
              "    .dataframe thead th {\n",
              "        text-align: right;\n",
              "    }\n",
              "</style>\n",
              "<table border=\"1\" class=\"dataframe\">\n",
              "  <thead>\n",
              "    <tr style=\"text-align: right;\">\n",
              "      <th></th>\n",
              "      <th>prediction</th>\n",
              "    </tr>\n",
              "  </thead>\n",
              "  <tbody>\n",
              "    <tr>\n",
              "      <th>0</th>\n",
              "      <td>0.0</td>\n",
              "    </tr>\n",
              "    <tr>\n",
              "      <th>1</th>\n",
              "      <td>0.0</td>\n",
              "    </tr>\n",
              "    <tr>\n",
              "      <th>2</th>\n",
              "      <td>0.0</td>\n",
              "    </tr>\n",
              "    <tr>\n",
              "      <th>3</th>\n",
              "      <td>0.0</td>\n",
              "    </tr>\n",
              "    <tr>\n",
              "      <th>4</th>\n",
              "      <td>0.0</td>\n",
              "    </tr>\n",
              "  </tbody>\n",
              "</table>\n",
              "</div>"
            ],
            "text/plain": [
              "   prediction\n",
              "0         0.0\n",
              "1         0.0\n",
              "2         0.0\n",
              "3         0.0\n",
              "4         0.0"
            ]
          },
          "metadata": {
            "tags": []
          },
          "execution_count": 77
        }
      ]
    },
    {
      "cell_type": "code",
      "metadata": {
        "id": "AJuEowkHPj-A",
        "colab_type": "code",
        "outputId": "2cc585df-5ca2-4744-bc85-4918458cd929",
        "colab": {
          "base_uri": "https://localhost:8080/",
          "height": 68
        }
      },
      "source": [
        "pp['prediction'].value_counts()"
      ],
      "execution_count": 0,
      "outputs": [
        {
          "output_type": "execute_result",
          "data": {
            "text/plain": [
              "0.0    29663\n",
              "1.0      337\n",
              "Name: prediction, dtype: int64"
            ]
          },
          "metadata": {
            "tags": []
          },
          "execution_count": 78
        }
      ]
    },
    {
      "cell_type": "code",
      "metadata": {
        "id": "3bbEaWJ3Pwtv",
        "colab_type": "code",
        "colab": {}
      },
      "source": [
        "xgb=XGBClassifier()\n",
        "xgb.fit(x_train,y_train)\n",
        "xg_pred=xgb.predict(x_test)"
      ],
      "execution_count": 0,
      "outputs": []
    },
    {
      "cell_type": "code",
      "metadata": {
        "id": "rngKhgxWQ627",
        "colab_type": "code",
        "outputId": "3942d38b-e4bb-4135-a56f-fc0b008ddd94",
        "colab": {
          "base_uri": "https://localhost:8080/",
          "height": 51
        }
      },
      "source": [
        "print(confusion_matrix(y_test,xg_pred))"
      ],
      "execution_count": 0,
      "outputs": [
        {
          "output_type": "stream",
          "text": [
            "[[29567     0]\n",
            " [  195   238]]\n"
          ],
          "name": "stdout"
        }
      ]
    },
    {
      "cell_type": "code",
      "metadata": {
        "id": "h3hFL2SHRiZt",
        "colab_type": "code",
        "outputId": "a1cd0844-12c3-474e-9364-5a02f8cfdb47",
        "colab": {
          "base_uri": "https://localhost:8080/",
          "height": 170
        }
      },
      "source": [
        "print(classification_report(y_test,xg_pred))"
      ],
      "execution_count": 0,
      "outputs": [
        {
          "output_type": "stream",
          "text": [
            "              precision    recall  f1-score   support\n",
            "\n",
            "         0.0       0.99      1.00      1.00     29567\n",
            "         1.0       1.00      0.55      0.71       433\n",
            "\n",
            "   micro avg       0.99      0.99      0.99     30000\n",
            "   macro avg       1.00      0.77      0.85     30000\n",
            "weighted avg       0.99      0.99      0.99     30000\n",
            "\n"
          ],
          "name": "stdout"
        }
      ]
    },
    {
      "cell_type": "code",
      "metadata": {
        "id": "bIDms-kkRoxV",
        "colab_type": "code",
        "outputId": "fae66f7d-d7ee-4924-dd1f-e777a619d0b2",
        "colab": {
          "base_uri": "https://localhost:8080/",
          "height": 34
        }
      },
      "source": [
        "f1_score(y_test,xg_pred)"
      ],
      "execution_count": 0,
      "outputs": [
        {
          "output_type": "execute_result",
          "data": {
            "text/plain": [
              "0.7093889716840537"
            ]
          },
          "metadata": {
            "tags": []
          },
          "execution_count": 82
        }
      ]
    },
    {
      "cell_type": "code",
      "metadata": {
        "id": "XquOOQXETbi8",
        "colab_type": "code",
        "outputId": "c58f7f57-a3e9-413a-d92a-ac4e7e418de2",
        "colab": {
          "base_uri": "https://localhost:8080/",
          "height": 34
        }
      },
      "source": [
        "matthews_corrcoef(y_test,xg_pred)"
      ],
      "execution_count": 0,
      "outputs": [
        {
          "output_type": "execute_result",
          "data": {
            "text/plain": [
              "0.7389534903813992"
            ]
          },
          "metadata": {
            "tags": []
          },
          "execution_count": 83
        }
      ]
    },
    {
      "cell_type": "code",
      "metadata": {
        "id": "Rtw7eH7-u7QL",
        "colab_type": "code",
        "colab": {}
      },
      "source": [
        "logic=LogisticRegression()\n",
        "adaboost=AdaBoostClassifier()\n",
        "xgboost=XGBClassifier()\n",
        "gboost=GradientBoostingClassifier()\n",
        "bagging=BaggingClassifier()\n",
        "Gaussian=GaussianNB()\n",
        "rf=RandomForestClassifier()\n",
        "tree=DecisionTreeClassifier()"
      ],
      "execution_count": 0,
      "outputs": []
    },
    {
      "cell_type": "code",
      "metadata": {
        "id": "WZZ_8cQZvAoI",
        "colab_type": "code",
        "colab": {}
      },
      "source": [
        "param_grid_logic={\"penalty\": ['l1', 'l2'], 'C': [0.001, 0.01, 0.1, 1, 10, 100, 1000]}\n",
        "param_grid_adaboost={'n_estimators':[50,100,200],'learning_rate':[0.0001,0.0003,0.0005]}\n",
        "param_grid_xgboost={'n_estimators':[50,100,200],'learning_rate':[0.001,0.01,0.05,0.1],'max_depth':[3,5,7,9]}\n",
        "param_grid_gboost={'n_estimators':[50,100,200],'learning_rate':[0.0001,0.0003,0.0005],'max_depth': [4, 6, 8,10]}\n",
        "param_grid_bagg={'n_estimators':[50,100,200]}\n",
        "param_grid_rf={'n_estimators':[50,100,200],'max_depth':[3,5,7,9]}\n",
        "param_grid_tree = {'criterion' : ['entropy', 'gini'], 'max_depth' : [3,5,7,9]} # Grid of 8 values"
      ],
      "execution_count": 0,
      "outputs": []
    },
    {
      "cell_type": "code",
      "metadata": {
        "id": "F6WBHv9YvZiA",
        "colab_type": "code",
        "colab": {}
      },
      "source": [
        "best_model_logic = GridSearchCV(estimator=logic,param_grid=param_grid_logic,scoring='f1',n_jobs=-1,cv=5)\n",
        "best_model_adaboost = GridSearchCV(estimator=adaboost,param_grid=param_grid_adaboost,scoring='f1',n_jobs=-1,cv=5)\n",
        "best_model_xgboost = GridSearchCV(estimator=xgboost,param_grid=param_grid_xgboost,scoring='f1',n_jobs=-1,cv=5)\n",
        "best_model_gboost = GridSearchCV(estimator=gboost,param_grid=param_grid_gboost,scoring='f1',n_jobs=-1,cv=5)\n",
        "best_model_bagg = GridSearchCV(estimator=bagging,param_grid=param_grid_bagg,scoring='f1',n_jobs=-1,cv=5)\n",
        "best_model_rf = GridSearchCV(estimator=rf,param_grid=param_grid_rf,scoring='f1',n_jobs=-1,cv=5)\n",
        "best_model_tree = GridSearchCV(estimator=tree,param_grid=param_grid_tree,scoring='f1',n_jobs=-1,cv=5)\n"
      ],
      "execution_count": 0,
      "outputs": []
    },
    {
      "cell_type": "code",
      "metadata": {
        "id": "onawEojjTLTs",
        "colab_type": "code",
        "colab": {}
      },
      "source": [
        "param_grid_xgboost={'n_estimators':[50,100,200],'learning_rate':[0.001,0.01,0.05,0.1],'max_depth':[3,5,7,9]}\n",
        "best_model_xgboost = GridSearchCV(estimator=xgboost,param_grid=param_grid_xgboost,scoring='f1',n_jobs=-1,cv=5)\n"
      ],
      "execution_count": 0,
      "outputs": []
    },
    {
      "cell_type": "code",
      "metadata": {
        "id": "eXxo9TShTwGz",
        "colab_type": "code",
        "outputId": "87dd674c-916e-4d22-b4d2-a8180e0d48ad",
        "colab": {
          "base_uri": "https://localhost:8080/",
          "height": 204
        }
      },
      "source": [
        "best_model_xgboost.fit(x_train,y_train)\n"
      ],
      "execution_count": 0,
      "outputs": [
        {
          "output_type": "execute_result",
          "data": {
            "text/plain": [
              "GridSearchCV(cv=5, error_score='raise-deprecating',\n",
              "       estimator=XGBClassifier(base_score=0.5, booster='gbtree', colsample_bylevel=1,\n",
              "       colsample_bytree=1, gamma=0, learning_rate=0.1, max_delta_step=0,\n",
              "       max_depth=3, min_child_weight=1, missing=None, n_estimators=100,\n",
              "       n_jobs=1, nthread=None, objective='binary:logistic', random_state=0,\n",
              "       reg_alpha=0, reg_lambda=1, scale_pos_weight=1, seed=None,\n",
              "       silent=True, subsample=1),\n",
              "       fit_params=None, iid='warn', n_jobs=-1,\n",
              "       param_grid={'n_estimators': [50, 100, 200], 'learning_rate': [0.001, 0.01, 0.05, 0.1], 'max_depth': [3, 5, 7, 9]},\n",
              "       pre_dispatch='2*n_jobs', refit=True, return_train_score='warn',\n",
              "       scoring='f1', verbose=0)"
            ]
          },
          "metadata": {
            "tags": []
          },
          "execution_count": 91
        }
      ]
    },
    {
      "cell_type": "code",
      "metadata": {
        "id": "RW1ZKlddZIuo",
        "colab_type": "code",
        "outputId": "64037b80-c4a1-4219-8fee-4e16d2141468",
        "colab": {
          "base_uri": "https://localhost:8080/",
          "height": 34
        }
      },
      "source": [
        "cross_val_score(best_model_xgboost.best_estimator_,X=x_train,y=y_train,cv=5)"
      ],
      "execution_count": 0,
      "outputs": [
        {
          "output_type": "execute_result",
          "data": {
            "text/plain": [
              "array([0.99271481, 0.99307192, 0.99314286, 0.99399957, 0.99292807])"
            ]
          },
          "metadata": {
            "tags": []
          },
          "execution_count": 92
        }
      ]
    },
    {
      "cell_type": "code",
      "metadata": {
        "id": "52mDmr3bZdTD",
        "colab_type": "code",
        "outputId": "7f8ebef4-ff9e-4853-f357-fb86bc20e29c",
        "colab": {
          "base_uri": "https://localhost:8080/",
          "height": 34
        }
      },
      "source": [
        "cross_val_score(best_model_xgboost.best_estimator_,X=x_train,y=y_train,cv=5).mean()"
      ],
      "execution_count": 0,
      "outputs": [
        {
          "output_type": "execute_result",
          "data": {
            "text/plain": [
              "0.9931714448701168"
            ]
          },
          "metadata": {
            "tags": []
          },
          "execution_count": 93
        }
      ]
    },
    {
      "cell_type": "code",
      "metadata": {
        "id": "rEPdH-OrZiCM",
        "colab_type": "code",
        "colab": {}
      },
      "source": [
        "pp=best_model_xgboost.predict(x_test)"
      ],
      "execution_count": 0,
      "outputs": []
    },
    {
      "cell_type": "code",
      "metadata": {
        "id": "gs1Af2nmZojc",
        "colab_type": "code",
        "outputId": "3648adeb-136a-4594-bfaa-07c82075bef1",
        "colab": {
          "base_uri": "https://localhost:8080/",
          "height": 34
        }
      },
      "source": [
        "f1_score(y_test,pp)"
      ],
      "execution_count": 0,
      "outputs": [
        {
          "output_type": "execute_result",
          "data": {
            "text/plain": [
              "0.7093889716840537"
            ]
          },
          "metadata": {
            "tags": []
          },
          "execution_count": 96
        }
      ]
    },
    {
      "cell_type": "code",
      "metadata": {
        "id": "r--3ElR8pDW7",
        "colab_type": "code",
        "outputId": "8618e588-894c-4963-8329-66754d49c331",
        "colab": {
          "base_uri": "https://localhost:8080/",
          "height": 68
        }
      },
      "source": [
        "from sklearn.ensemble import VotingClassifier\n",
        "model = VotingClassifier(estimators=[('Boost',AdaBoostClassifier()),('Lr',LogisticRegression()), ('GBM',GradientBoostingClassifier()),('XGB',XGBClassifier())], voting='soft')\n",
        "model.fit(x_train, y_train)\n",
        "test_m_pred=model.predict(x_test)\n",
        "#model.score(x_test,test_m_pred)\n",
        "print(\"ROC_AUC_Score :\",roc_auc_score(y_test, test_m_pred))\n",
        "print(\"F1_Score :\",f1_score(y_test,test_m_pred))\n",
        "print(\"Matthews Coefficient :\",matthews_corrcoef(y_test,test_m_pred))"
      ],
      "execution_count": 0,
      "outputs": [
        {
          "output_type": "stream",
          "text": [
            "ROC_AUC_Score : 0.7748267898383372\n",
            "F1_Score : 0.7093889716840537\n",
            "Matthews Coefficient : 0.7389534903813992\n"
          ],
          "name": "stdout"
        }
      ]
    },
    {
      "cell_type": "code",
      "metadata": {
        "id": "x3sPIPIM2pNb",
        "colab_type": "code",
        "colab": {}
      },
      "source": [
        "results=confusion_matrix(y_test,test_m_pred)"
      ],
      "execution_count": 0,
      "outputs": []
    },
    {
      "cell_type": "code",
      "metadata": {
        "id": "J1mPQnUd5VOc",
        "colab_type": "code",
        "outputId": "99cdf26c-9716-4c97-f3f6-2bc70632d3f2",
        "colab": {
          "base_uri": "https://localhost:8080/",
          "height": 341
        }
      },
      "source": [
        "class_names=[0,1] # name  of classes\n",
        "fig, ax = plt.subplots()\n",
        "tick_marks = np.arange(len(class_names))\n",
        "plt.xticks(tick_marks, class_names)\n",
        "plt.yticks(tick_marks, class_names)\n",
        "# create heatmap\n",
        "sns.heatmap(pd.DataFrame(results), annot=True, cmap=\"YlGnBu\" ,fmt='g')\n",
        "ax.xaxis.set_label_position(\"top\")\n",
        "plt.tight_layout()\n",
        "plt.title('Confusion matrix', y=1.1)\n",
        "plt.ylabel('Actual label')\n",
        "plt.xlabel('Predicted label')"
      ],
      "execution_count": 0,
      "outputs": [
        {
          "output_type": "execute_result",
          "data": {
            "text/plain": [
              "Text(0.5, 257.44, 'Predicted label')"
            ]
          },
          "metadata": {
            "tags": []
          },
          "execution_count": 99
        },
        {
          "output_type": "display_data",
          "data": {
            "image/png": "[encoded data removed]",
            "text/plain": [
              "<Figure size 432x288 with 2 Axes>"
            ]
          },
          "metadata": {
            "tags": []
          }
        }
      ]
    },
    {
      "cell_type": "code",
      "metadata": {
        "id": "CXpq0X_T2wn4",
        "colab_type": "code",
        "outputId": "3f4f2149-6ea2-457f-ffb0-bfbffeec6218",
        "colab": {
          "base_uri": "https://localhost:8080/",
          "height": 170
        }
      },
      "source": [
        "print(classification_report(y_test,test_m_pred))"
      ],
      "execution_count": 0,
      "outputs": [
        {
          "output_type": "stream",
          "text": [
            "              precision    recall  f1-score   support\n",
            "\n",
            "         0.0       0.99      1.00      1.00     29567\n",
            "         1.0       1.00      0.55      0.71       433\n",
            "\n",
            "   micro avg       0.99      0.99      0.99     30000\n",
            "   macro avg       1.00      0.77      0.85     30000\n",
            "weighted avg       0.99      0.99      0.99     30000\n",
            "\n"
          ],
          "name": "stdout"
        }
      ]
    },
    {
      "cell_type": "code",
      "metadata": {
        "id": "9FzCJghm16Bz",
        "colab_type": "code",
        "outputId": "665e0c60-bec5-41ab-a0cf-53a2484fdaf2",
        "colab": {
          "base_uri": "https://localhost:8080/",
          "height": 204
        }
      },
      "source": [
        "pred_df=pd.DataFrame(model.predict_proba(x_test))\n",
        "pred_df.head()"
      ],
      "execution_count": 0,
      "outputs": [
        {
          "output_type": "execute_result",
          "data": {
            "text/html": [
              "<div>\n",
              "<style scoped>\n",
              "    .dataframe tbody tr th:only-of-type {\n",
              "        vertical-align: middle;\n",
              "    }\n",
              "\n",
              "    .dataframe tbody tr th {\n",
              "        vertical-align: top;\n",
              "    }\n",
              "\n",
              "    .dataframe thead th {\n",
              "        text-align: right;\n",
              "    }\n",
              "</style>\n",
              "<table border=\"1\" class=\"dataframe\">\n",
              "  <thead>\n",
              "    <tr style=\"text-align: right;\">\n",
              "      <th></th>\n",
              "      <th>0</th>\n",
              "      <th>1</th>\n",
              "    </tr>\n",
              "  </thead>\n",
              "  <tbody>\n",
              "    <tr>\n",
              "      <th>0</th>\n",
              "      <td>0.892481</td>\n",
              "      <td>0.107519</td>\n",
              "    </tr>\n",
              "    <tr>\n",
              "      <th>1</th>\n",
              "      <td>0.872216</td>\n",
              "      <td>0.127784</td>\n",
              "    </tr>\n",
              "    <tr>\n",
              "      <th>2</th>\n",
              "      <td>0.880955</td>\n",
              "      <td>0.119045</td>\n",
              "    </tr>\n",
              "    <tr>\n",
              "      <th>3</th>\n",
              "      <td>0.871553</td>\n",
              "      <td>0.128447</td>\n",
              "    </tr>\n",
              "    <tr>\n",
              "      <th>4</th>\n",
              "      <td>0.880766</td>\n",
              "      <td>0.119234</td>\n",
              "    </tr>\n",
              "  </tbody>\n",
              "</table>\n",
              "</div>"
            ],
            "text/plain": [
              "          0         1\n",
              "0  0.892481  0.107519\n",
              "1  0.872216  0.127784\n",
              "2  0.880955  0.119045\n",
              "3  0.871553  0.128447\n",
              "4  0.880766  0.119234"
            ]
          },
          "metadata": {
            "tags": []
          },
          "execution_count": 101
        }
      ]
    },
    {
      "cell_type": "markdown",
      "metadata": {
        "id": "2hP9T3d4fmcZ",
        "colab_type": "text"
      },
      "source": [
        "# ** Clustering**"
      ]
    },
    {
      "cell_type": "code",
      "metadata": {
        "id": "H9qxHf5ofo7g",
        "colab_type": "code",
        "outputId": "4c3e4e0f-62dd-4ec3-8cc1-a5e80fd869fa",
        "colab": {
          "base_uri": "https://localhost:8080/",
          "height": 357
        }
      },
      "source": [
        "!pip install pyclustering"
      ],
      "execution_count": 0,
      "outputs": [
        {
          "output_type": "stream",
          "text": [
            "Collecting pyclustering\n",
            "\u001b[?25l  Downloading https://files.pythonhosted.org/packages/3c/e5/3be27187d430d1c921d32e08355068fde3a0f5897b80145930f00d701461/pyclustering-0.8.2.tar.gz (2.1MB)\n",
            "\u001b[K    100% |████████████████████████████████| 2.1MB 11.1MB/s \n",
            "\u001b[?25hRequirement already satisfied: scipy in /usr/local/lib/python3.6/dist-packages (from pyclustering) (1.1.0)\n",
            "Requirement already satisfied: matplotlib in /usr/local/lib/python3.6/dist-packages (from pyclustering) (3.0.3)\n",
            "Requirement already satisfied: numpy in /usr/local/lib/python3.6/dist-packages (from pyclustering) (1.14.6)\n",
            "Requirement already satisfied: Pillow in /usr/local/lib/python3.6/dist-packages (from pyclustering) (4.1.1)\n",
            "Requirement already satisfied: cycler>=0.10 in /usr/local/lib/python3.6/dist-packages (from matplotlib->pyclustering) (0.10.0)\n",
            "Requirement already satisfied: python-dateutil>=2.1 in /usr/local/lib/python3.6/dist-packages (from matplotlib->pyclustering) (2.5.3)\n",
            "Requirement already satisfied: pyparsing!=2.0.4,!=2.1.2,!=2.1.6,>=2.0.1 in /usr/local/lib/python3.6/dist-packages (from matplotlib->pyclustering) (2.3.1)\n",
            "Requirement already satisfied: kiwisolver>=1.0.1 in /usr/local/lib/python3.6/dist-packages (from matplotlib->pyclustering) (1.0.1)\n",
            "Requirement already satisfied: olefile in /usr/local/lib/python3.6/dist-packages (from Pillow->pyclustering) (0.46)\n",
            "Requirement already satisfied: six in /usr/local/lib/python3.6/dist-packages (from cycler>=0.10->matplotlib->pyclustering) (1.11.0)\n",
            "Requirement already satisfied: setuptools in /usr/local/lib/python3.6/dist-packages (from kiwisolver>=1.0.1->matplotlib->pyclustering) (40.8.0)\n",
            "Building wheels for collected packages: pyclustering\n",
            "  Building wheel for pyclustering (setup.py) ... \u001b[?25ldone\n",
            "\u001b[?25h  Stored in directory: /root/.cache/pip/wheels/d6/61/75/0f70c5f9e363b194b6bc197794c4376f72a550e9d5faf19958\n",
            "Successfully built pyclustering\n",
            "Installing collected packages: pyclustering\n",
            "Successfully installed pyclustering-0.8.2\n"
          ],
          "name": "stdout"
        }
      ]
    },
    {
      "cell_type": "code",
      "metadata": {
        "id": "vhamMdAlfqLc",
        "colab_type": "code",
        "colab": {}
      },
      "source": [
        "from scipy.cluster.hierarchy import linkage,dendrogram,cut_tree\n",
        "from sklearn.metrics.pairwise import pairwise_distances\n",
        "from sklearn.cluster import AgglomerativeClustering\n",
        "from sklearn.cluster import KMeans"
      ],
      "execution_count": 0,
      "outputs": []
    },
    {
      "cell_type": "code",
      "metadata": {
        "id": "HU1NX5OVMgXK",
        "colab_type": "code",
        "outputId": "f5eedda4-548d-4dff-acd9-fdc807042d7a",
        "colab": {
          "base_uri": "https://localhost:8080/",
          "height": 287
        }
      },
      "source": [
        "data_complete_df.head()"
      ],
      "execution_count": 0,
      "outputs": [
        {
          "output_type": "execute_result",
          "data": {
            "text/html": [
              "<div>\n",
              "<style scoped>\n",
              "    .dataframe tbody tr th:only-of-type {\n",
              "        vertical-align: middle;\n",
              "    }\n",
              "\n",
              "    .dataframe tbody tr th {\n",
              "        vertical-align: top;\n",
              "    }\n",
              "\n",
              "    .dataframe thead th {\n",
              "        text-align: right;\n",
              "    }\n",
              "</style>\n",
              "<table border=\"1\" class=\"dataframe\">\n",
              "  <thead>\n",
              "    <tr style=\"text-align: right;\">\n",
              "      <th></th>\n",
              "      <th>gender_Male</th>\n",
              "      <th>gender_Other</th>\n",
              "      <th>smoking history_current</th>\n",
              "      <th>smoking history_ever</th>\n",
              "      <th>smoking history_former</th>\n",
              "      <th>smoking history_never</th>\n",
              "      <th>smoking history_not current</th>\n",
              "      <th>age</th>\n",
              "      <th>diabetes</th>\n",
              "      <th>hypertension</th>\n",
              "      <th>...</th>\n",
              "      <th>diabetes &amp; hypertension</th>\n",
              "      <th>diabetes &amp; srtoke</th>\n",
              "      <th>diabetes &amp; heart disease</th>\n",
              "      <th>hypertension &amp; stroke</th>\n",
              "      <th>hypertension &amp; heart disease</th>\n",
              "      <th>stroke &amp; heart disease</th>\n",
              "      <th>diabetes,hypertension,stroke</th>\n",
              "      <th>diabetes,hypertension,heart disease</th>\n",
              "      <th>hypertension,stroke,heart disease</th>\n",
              "      <th>hypertension,stroke,heart disease,diabetes</th>\n",
              "    </tr>\n",
              "  </thead>\n",
              "  <tbody>\n",
              "    <tr>\n",
              "      <th>0</th>\n",
              "      <td>0.0</td>\n",
              "      <td>0.0</td>\n",
              "      <td>0.0</td>\n",
              "      <td>0.0</td>\n",
              "      <td>0.0</td>\n",
              "      <td>1.0</td>\n",
              "      <td>0.0</td>\n",
              "      <td>80.0</td>\n",
              "      <td>0.0</td>\n",
              "      <td>0.0</td>\n",
              "      <td>...</td>\n",
              "      <td>0.0</td>\n",
              "      <td>0.0</td>\n",
              "      <td>0.0</td>\n",
              "      <td>0.0</td>\n",
              "      <td>0.0</td>\n",
              "      <td>0.0</td>\n",
              "      <td>0.0</td>\n",
              "      <td>0.0</td>\n",
              "      <td>0.0</td>\n",
              "      <td>0.0</td>\n",
              "    </tr>\n",
              "    <tr>\n",
              "      <th>1</th>\n",
              "      <td>0.0</td>\n",
              "      <td>0.0</td>\n",
              "      <td>0.0</td>\n",
              "      <td>0.0</td>\n",
              "      <td>0.0</td>\n",
              "      <td>0.0</td>\n",
              "      <td>0.0</td>\n",
              "      <td>54.0</td>\n",
              "      <td>0.0</td>\n",
              "      <td>0.0</td>\n",
              "      <td>...</td>\n",
              "      <td>0.0</td>\n",
              "      <td>0.0</td>\n",
              "      <td>0.0</td>\n",
              "      <td>0.0</td>\n",
              "      <td>0.0</td>\n",
              "      <td>0.0</td>\n",
              "      <td>0.0</td>\n",
              "      <td>0.0</td>\n",
              "      <td>0.0</td>\n",
              "      <td>0.0</td>\n",
              "    </tr>\n",
              "    <tr>\n",
              "      <th>2</th>\n",
              "      <td>1.0</td>\n",
              "      <td>0.0</td>\n",
              "      <td>0.0</td>\n",
              "      <td>0.0</td>\n",
              "      <td>0.0</td>\n",
              "      <td>1.0</td>\n",
              "      <td>0.0</td>\n",
              "      <td>28.0</td>\n",
              "      <td>0.0</td>\n",
              "      <td>0.0</td>\n",
              "      <td>...</td>\n",
              "      <td>0.0</td>\n",
              "      <td>0.0</td>\n",
              "      <td>0.0</td>\n",
              "      <td>0.0</td>\n",
              "      <td>0.0</td>\n",
              "      <td>0.0</td>\n",
              "      <td>0.0</td>\n",
              "      <td>0.0</td>\n",
              "      <td>0.0</td>\n",
              "      <td>0.0</td>\n",
              "    </tr>\n",
              "    <tr>\n",
              "      <th>3</th>\n",
              "      <td>0.0</td>\n",
              "      <td>0.0</td>\n",
              "      <td>1.0</td>\n",
              "      <td>0.0</td>\n",
              "      <td>0.0</td>\n",
              "      <td>0.0</td>\n",
              "      <td>0.0</td>\n",
              "      <td>36.0</td>\n",
              "      <td>0.0</td>\n",
              "      <td>0.0</td>\n",
              "      <td>...</td>\n",
              "      <td>0.0</td>\n",
              "      <td>0.0</td>\n",
              "      <td>0.0</td>\n",
              "      <td>0.0</td>\n",
              "      <td>0.0</td>\n",
              "      <td>0.0</td>\n",
              "      <td>0.0</td>\n",
              "      <td>0.0</td>\n",
              "      <td>0.0</td>\n",
              "      <td>0.0</td>\n",
              "    </tr>\n",
              "    <tr>\n",
              "      <th>4</th>\n",
              "      <td>1.0</td>\n",
              "      <td>0.0</td>\n",
              "      <td>1.0</td>\n",
              "      <td>0.0</td>\n",
              "      <td>0.0</td>\n",
              "      <td>0.0</td>\n",
              "      <td>0.0</td>\n",
              "      <td>76.0</td>\n",
              "      <td>0.0</td>\n",
              "      <td>1.0</td>\n",
              "      <td>...</td>\n",
              "      <td>0.0</td>\n",
              "      <td>0.0</td>\n",
              "      <td>0.0</td>\n",
              "      <td>0.0</td>\n",
              "      <td>1.0</td>\n",
              "      <td>0.0</td>\n",
              "      <td>0.0</td>\n",
              "      <td>0.0</td>\n",
              "      <td>0.0</td>\n",
              "      <td>0.0</td>\n",
              "    </tr>\n",
              "  </tbody>\n",
              "</table>\n",
              "<p>5 rows × 23 columns</p>\n",
              "</div>"
            ],
            "text/plain": [
              "   gender_Male  gender_Other  smoking history_current  smoking history_ever  \\\n",
              "0          0.0           0.0                      0.0                   0.0   \n",
              "1          0.0           0.0                      0.0                   0.0   \n",
              "2          1.0           0.0                      0.0                   0.0   \n",
              "3          0.0           0.0                      1.0                   0.0   \n",
              "4          1.0           0.0                      1.0                   0.0   \n",
              "\n",
              "   smoking history_former  smoking history_never  smoking history_not current  \\\n",
              "0                     0.0                    1.0                          0.0   \n",
              "1                     0.0                    0.0                          0.0   \n",
              "2                     0.0                    1.0                          0.0   \n",
              "3                     0.0                    0.0                          0.0   \n",
              "4                     0.0                    0.0                          0.0   \n",
              "\n",
              "    age  diabetes  hypertension                     ...                      \\\n",
              "0  80.0       0.0           0.0                     ...                       \n",
              "1  54.0       0.0           0.0                     ...                       \n",
              "2  28.0       0.0           0.0                     ...                       \n",
              "3  36.0       0.0           0.0                     ...                       \n",
              "4  76.0       0.0           1.0                     ...                       \n",
              "\n",
              "   diabetes & hypertension  diabetes & srtoke  diabetes & heart disease  \\\n",
              "0                      0.0                0.0                       0.0   \n",
              "1                      0.0                0.0                       0.0   \n",
              "2                      0.0                0.0                       0.0   \n",
              "3                      0.0                0.0                       0.0   \n",
              "4                      0.0                0.0                       0.0   \n",
              "\n",
              "   hypertension & stroke  hypertension & heart disease  \\\n",
              "0                    0.0                           0.0   \n",
              "1                    0.0                           0.0   \n",
              "2                    0.0                           0.0   \n",
              "3                    0.0                           0.0   \n",
              "4                    0.0                           1.0   \n",
              "\n",
              "   stroke & heart disease  diabetes,hypertension,stroke  \\\n",
              "0                     0.0                           0.0   \n",
              "1                     0.0                           0.0   \n",
              "2                     0.0                           0.0   \n",
              "3                     0.0                           0.0   \n",
              "4                     0.0                           0.0   \n",
              "\n",
              "   diabetes,hypertension,heart disease  hypertension,stroke,heart disease  \\\n",
              "0                                  0.0                                0.0   \n",
              "1                                  0.0                                0.0   \n",
              "2                                  0.0                                0.0   \n",
              "3                                  0.0                                0.0   \n",
              "4                                  0.0                                0.0   \n",
              "\n",
              "   hypertension,stroke,heart disease,diabetes  \n",
              "0                                         0.0  \n",
              "1                                         0.0  \n",
              "2                                         0.0  \n",
              "3                                         0.0  \n",
              "4                                         0.0  \n",
              "\n",
              "[5 rows x 23 columns]"
            ]
          },
          "metadata": {
            "tags": []
          },
          "execution_count": 27
        }
      ]
    },
    {
      "cell_type": "code",
      "metadata": {
        "id": "z5frEyrsMlAa",
        "colab_type": "code",
        "outputId": "9bbab437-083d-46ee-c54e-29b5700ec004",
        "colab": {
          "base_uri": "https://localhost:8080/",
          "height": 304
        }
      },
      "source": [
        "X_ct=pd.concat([x_train,y_train],axis=1)\n",
        "print(X_ct.shape)\n",
        "X_ct.head()"
      ],
      "execution_count": 0,
      "outputs": [
        {
          "output_type": "stream",
          "text": [
            "(70000, 23)\n"
          ],
          "name": "stdout"
        },
        {
          "output_type": "execute_result",
          "data": {
            "text/html": [
              "<div>\n",
              "<style scoped>\n",
              "    .dataframe tbody tr th:only-of-type {\n",
              "        vertical-align: middle;\n",
              "    }\n",
              "\n",
              "    .dataframe tbody tr th {\n",
              "        vertical-align: top;\n",
              "    }\n",
              "\n",
              "    .dataframe thead th {\n",
              "        text-align: right;\n",
              "    }\n",
              "</style>\n",
              "<table border=\"1\" class=\"dataframe\">\n",
              "  <thead>\n",
              "    <tr style=\"text-align: right;\">\n",
              "      <th></th>\n",
              "      <th>gender_Male</th>\n",
              "      <th>gender_Other</th>\n",
              "      <th>smoking history_current</th>\n",
              "      <th>smoking history_ever</th>\n",
              "      <th>smoking history_former</th>\n",
              "      <th>smoking history_never</th>\n",
              "      <th>smoking history_not current</th>\n",
              "      <th>age</th>\n",
              "      <th>diabetes</th>\n",
              "      <th>hypertension</th>\n",
              "      <th>...</th>\n",
              "      <th>diabetes &amp; srtoke</th>\n",
              "      <th>diabetes &amp; heart disease</th>\n",
              "      <th>hypertension &amp; stroke</th>\n",
              "      <th>hypertension &amp; heart disease</th>\n",
              "      <th>stroke &amp; heart disease</th>\n",
              "      <th>diabetes,hypertension,stroke</th>\n",
              "      <th>diabetes,hypertension,heart disease</th>\n",
              "      <th>hypertension,stroke,heart disease</th>\n",
              "      <th>hypertension,stroke,heart disease,diabetes</th>\n",
              "      <th>stroke</th>\n",
              "    </tr>\n",
              "  </thead>\n",
              "  <tbody>\n",
              "    <tr>\n",
              "      <th>41446</th>\n",
              "      <td>0.0</td>\n",
              "      <td>0.0</td>\n",
              "      <td>0.0</td>\n",
              "      <td>0.0</td>\n",
              "      <td>0.0</td>\n",
              "      <td>0.0</td>\n",
              "      <td>0.0</td>\n",
              "      <td>7.0</td>\n",
              "      <td>0.0</td>\n",
              "      <td>0.0</td>\n",
              "      <td>...</td>\n",
              "      <td>0.0</td>\n",
              "      <td>0.0</td>\n",
              "      <td>0.0</td>\n",
              "      <td>0.0</td>\n",
              "      <td>0.0</td>\n",
              "      <td>0.0</td>\n",
              "      <td>0.0</td>\n",
              "      <td>0.0</td>\n",
              "      <td>0.0</td>\n",
              "      <td>0.0</td>\n",
              "    </tr>\n",
              "    <tr>\n",
              "      <th>83682</th>\n",
              "      <td>1.0</td>\n",
              "      <td>0.0</td>\n",
              "      <td>0.0</td>\n",
              "      <td>0.0</td>\n",
              "      <td>0.0</td>\n",
              "      <td>1.0</td>\n",
              "      <td>0.0</td>\n",
              "      <td>39.0</td>\n",
              "      <td>0.0</td>\n",
              "      <td>0.0</td>\n",
              "      <td>...</td>\n",
              "      <td>0.0</td>\n",
              "      <td>0.0</td>\n",
              "      <td>0.0</td>\n",
              "      <td>0.0</td>\n",
              "      <td>0.0</td>\n",
              "      <td>0.0</td>\n",
              "      <td>0.0</td>\n",
              "      <td>0.0</td>\n",
              "      <td>0.0</td>\n",
              "      <td>0.0</td>\n",
              "    </tr>\n",
              "    <tr>\n",
              "      <th>10698</th>\n",
              "      <td>1.0</td>\n",
              "      <td>0.0</td>\n",
              "      <td>0.0</td>\n",
              "      <td>0.0</td>\n",
              "      <td>0.0</td>\n",
              "      <td>0.0</td>\n",
              "      <td>0.0</td>\n",
              "      <td>3.0</td>\n",
              "      <td>0.0</td>\n",
              "      <td>0.0</td>\n",
              "      <td>...</td>\n",
              "      <td>0.0</td>\n",
              "      <td>0.0</td>\n",
              "      <td>0.0</td>\n",
              "      <td>0.0</td>\n",
              "      <td>0.0</td>\n",
              "      <td>0.0</td>\n",
              "      <td>0.0</td>\n",
              "      <td>0.0</td>\n",
              "      <td>0.0</td>\n",
              "      <td>0.0</td>\n",
              "    </tr>\n",
              "    <tr>\n",
              "      <th>11748</th>\n",
              "      <td>0.0</td>\n",
              "      <td>0.0</td>\n",
              "      <td>0.0</td>\n",
              "      <td>0.0</td>\n",
              "      <td>0.0</td>\n",
              "      <td>1.0</td>\n",
              "      <td>0.0</td>\n",
              "      <td>19.0</td>\n",
              "      <td>0.0</td>\n",
              "      <td>0.0</td>\n",
              "      <td>...</td>\n",
              "      <td>0.0</td>\n",
              "      <td>0.0</td>\n",
              "      <td>0.0</td>\n",
              "      <td>0.0</td>\n",
              "      <td>0.0</td>\n",
              "      <td>0.0</td>\n",
              "      <td>0.0</td>\n",
              "      <td>0.0</td>\n",
              "      <td>0.0</td>\n",
              "      <td>0.0</td>\n",
              "    </tr>\n",
              "    <tr>\n",
              "      <th>30672</th>\n",
              "      <td>0.0</td>\n",
              "      <td>0.0</td>\n",
              "      <td>0.0</td>\n",
              "      <td>0.0</td>\n",
              "      <td>0.0</td>\n",
              "      <td>0.0</td>\n",
              "      <td>0.0</td>\n",
              "      <td>27.0</td>\n",
              "      <td>0.0</td>\n",
              "      <td>0.0</td>\n",
              "      <td>...</td>\n",
              "      <td>0.0</td>\n",
              "      <td>0.0</td>\n",
              "      <td>0.0</td>\n",
              "      <td>0.0</td>\n",
              "      <td>0.0</td>\n",
              "      <td>0.0</td>\n",
              "      <td>0.0</td>\n",
              "      <td>0.0</td>\n",
              "      <td>0.0</td>\n",
              "      <td>0.0</td>\n",
              "    </tr>\n",
              "  </tbody>\n",
              "</table>\n",
              "<p>5 rows × 23 columns</p>\n",
              "</div>"
            ],
            "text/plain": [
              "       gender_Male  gender_Other  smoking history_current  \\\n",
              "41446          0.0           0.0                      0.0   \n",
              "83682          1.0           0.0                      0.0   \n",
              "10698          1.0           0.0                      0.0   \n",
              "11748          0.0           0.0                      0.0   \n",
              "30672          0.0           0.0                      0.0   \n",
              "\n",
              "       smoking history_ever  smoking history_former  smoking history_never  \\\n",
              "41446                   0.0                     0.0                    0.0   \n",
              "83682                   0.0                     0.0                    1.0   \n",
              "10698                   0.0                     0.0                    0.0   \n",
              "11748                   0.0                     0.0                    1.0   \n",
              "30672                   0.0                     0.0                    0.0   \n",
              "\n",
              "       smoking history_not current   age  diabetes  hypertension   ...    \\\n",
              "41446                          0.0   7.0       0.0           0.0   ...     \n",
              "83682                          0.0  39.0       0.0           0.0   ...     \n",
              "10698                          0.0   3.0       0.0           0.0   ...     \n",
              "11748                          0.0  19.0       0.0           0.0   ...     \n",
              "30672                          0.0  27.0       0.0           0.0   ...     \n",
              "\n",
              "       diabetes & srtoke  diabetes & heart disease  hypertension & stroke  \\\n",
              "41446                0.0                       0.0                    0.0   \n",
              "83682                0.0                       0.0                    0.0   \n",
              "10698                0.0                       0.0                    0.0   \n",
              "11748                0.0                       0.0                    0.0   \n",
              "30672                0.0                       0.0                    0.0   \n",
              "\n",
              "       hypertension & heart disease  stroke & heart disease  \\\n",
              "41446                           0.0                     0.0   \n",
              "83682                           0.0                     0.0   \n",
              "10698                           0.0                     0.0   \n",
              "11748                           0.0                     0.0   \n",
              "30672                           0.0                     0.0   \n",
              "\n",
              "       diabetes,hypertension,stroke  diabetes,hypertension,heart disease  \\\n",
              "41446                           0.0                                  0.0   \n",
              "83682                           0.0                                  0.0   \n",
              "10698                           0.0                                  0.0   \n",
              "11748                           0.0                                  0.0   \n",
              "30672                           0.0                                  0.0   \n",
              "\n",
              "       hypertension,stroke,heart disease  \\\n",
              "41446                                0.0   \n",
              "83682                                0.0   \n",
              "10698                                0.0   \n",
              "11748                                0.0   \n",
              "30672                                0.0   \n",
              "\n",
              "       hypertension,stroke,heart disease,diabetes  stroke  \n",
              "41446                                         0.0     0.0  \n",
              "83682                                         0.0     0.0  \n",
              "10698                                         0.0     0.0  \n",
              "11748                                         0.0     0.0  \n",
              "30672                                         0.0     0.0  \n",
              "\n",
              "[5 rows x 23 columns]"
            ]
          },
          "metadata": {
            "tags": []
          },
          "execution_count": 32
        }
      ]
    },
    {
      "cell_type": "code",
      "metadata": {
        "id": "t5t_THE_OM3k",
        "colab_type": "code",
        "outputId": "f0f3feb5-a748-423f-9517-41e7c43207fe",
        "colab": {
          "base_uri": "https://localhost:8080/",
          "height": 68
        }
      },
      "source": [
        "!pip install kmedoids"
      ],
      "execution_count": 0,
      "outputs": [
        {
          "output_type": "stream",
          "text": [
            "Collecting kmedoids\n",
            "\u001b[31m  Could not find a version that satisfies the requirement kmedoids (from versions: )\u001b[0m\n",
            "\u001b[31mNo matching distribution found for kmedoids\u001b[0m\n"
          ],
          "name": "stdout"
        }
      ]
    },
    {
      "cell_type": "code",
      "metadata": {
        "id": "GGZwd8ShOPvb",
        "colab_type": "code",
        "colab": {}
      },
      "source": [
        "import pyclustering.cluster.kmedoids\n",
        "hc=AgglomerativeClustering(n_clusters=3,affinity='euclidean',linkage='ward')\n",
        "hc.fit(X_ct)"
      ],
      "execution_count": 0,
      "outputs": []
    },
    {
      "cell_type": "code",
      "metadata": {
        "id": "TZ95I7u0OVQ_",
        "colab_type": "code",
        "colab": {}
      },
      "source": [
        "km=KMeans(n_clusters=5)"
      ],
      "execution_count": 0,
      "outputs": []
    },
    {
      "cell_type": "code",
      "metadata": {
        "id": "ttOtv0r-On8B",
        "colab_type": "code",
        "outputId": "38ea7b7e-2bcc-4d8b-bfcb-acd7bae4acdf",
        "colab": {
          "base_uri": "https://localhost:8080/",
          "height": 163
        }
      },
      "source": [
        "km.fit(X=X_ct)\n",
        "\n",
        "#System crash "
      ],
      "execution_count": 0,
      "outputs": [
        {
          "output_type": "error",
          "ename": "NameError",
          "evalue": "ignored",
          "traceback": [
            "\u001b[0;31m---------------------------------------------------------------------------\u001b[0m",
            "\u001b[0;31mNameError\u001b[0m                                 Traceback (most recent call last)",
            "\u001b[0;32m<ipython-input-4-efd19e8b04cb>\u001b[0m in \u001b[0;36m<module>\u001b[0;34m()\u001b[0m\n\u001b[0;32m----> 1\u001b[0;31m \u001b[0mkm\u001b[0m\u001b[0;34m.\u001b[0m\u001b[0mfit\u001b[0m\u001b[0;34m(\u001b[0m\u001b[0mX\u001b[0m\u001b[0;34m=\u001b[0m\u001b[0mX_ct\u001b[0m\u001b[0;34m)\u001b[0m\u001b[0;34m\u001b[0m\u001b[0;34m\u001b[0m\u001b[0m\n\u001b[0m",
            "\u001b[0;31mNameError\u001b[0m: name 'X_ct' is not defined"
          ]
        }
      ]
    },
    {
      "cell_type": "code",
      "metadata": {
        "id": "dNq6zagJOsmO",
        "colab_type": "code",
        "colab": {}
      },
      "source": [
        "km.inertia_"
      ],
      "execution_count": 0,
      "outputs": []
    },
    {
      "cell_type": "code",
      "metadata": {
        "id": "E0IlY1j7PFv9",
        "colab_type": "code",
        "colab": {}
      },
      "source": [
        "plt.plot(list(range(1,10)),ss)\n"
      ],
      "execution_count": 0,
      "outputs": []
    },
    {
      "cell_type": "markdown",
      "metadata": {
        "id": "2aP8u8E9ab8x",
        "colab_type": "text"
      },
      "source": [
        "#** Without interaction variables **"
      ]
    },
    {
      "cell_type": "code",
      "metadata": {
        "id": "CDbe5NhPaaJd",
        "colab_type": "code",
        "colab": {}
      },
      "source": [
        "ndata=data_complete_df.drop(['diabetes & hypertension','diabetes & srtoke','diabetes & heart disease','hypertension & stroke','hypertension & heart disease','stroke & heart disease',\n",
        "                            'diabetes,hypertension,stroke','diabetes,hypertension,heart disease','hypertension,stroke,heart disease'],axis=1)"
      ],
      "execution_count": 0,
      "outputs": []
    },
    {
      "cell_type": "code",
      "metadata": {
        "id": "-9AgmEoFb-sw",
        "colab_type": "code",
        "outputId": "84aa6a8e-0693-4d6f-b78c-ed6780df409d",
        "colab": {
          "base_uri": "https://localhost:8080/",
          "height": 34
        }
      },
      "source": [
        "ndata.shape"
      ],
      "execution_count": 0,
      "outputs": [
        {
          "output_type": "execute_result",
          "data": {
            "text/plain": [
              "(100000, 14)"
            ]
          },
          "metadata": {
            "tags": []
          },
          "execution_count": 43
        }
      ]
    },
    {
      "cell_type": "code",
      "metadata": {
        "id": "cjwXCE79cAmb",
        "colab_type": "code",
        "colab": {}
      },
      "source": [
        "xx_train, xx_test, yy_train, yy_test = train_test_split(ndata.drop(['stroke'], axis= 1), \n",
        "                                                    ndata['stroke'], test_size=0.3, random_state=123)"
      ],
      "execution_count": 0,
      "outputs": []
    },
    {
      "cell_type": "code",
      "metadata": {
        "id": "GMnYq_EHcNJ8",
        "colab_type": "code",
        "outputId": "8b2373a5-2828-4d25-848b-5bad2d01726a",
        "colab": {
          "base_uri": "https://localhost:8080/",
          "height": 390
        }
      },
      "source": [
        "models=[RandomForestClassifier(),AdaBoostClassifier(),BaggingClassifier(),LinearSVC(),\n",
        "        KNeighborsClassifier(), DecisionTreeClassifier(),LogisticRegression(), GradientBoostingClassifier(), XGBClassifier(),GaussianNB(),BernoulliNB()]\n",
        "model_names=['RandomForestClassifier','AdaBoostClassifier','BaggingClassifier','LinearSVC',\n",
        "             'KNeighborsClassifier', 'DecisionTreeClassifier', 'LogisticRegression', \n",
        "             'GradientBoostingClassifier', 'XGBClassifier','GaussianNB','BernoulliNB']\n",
        "ROC_AUC_scores1 = []\n",
        "F1_score1=[]\n",
        "mcc1=[]\n",
        "\n",
        "d={}\n",
        "\n",
        "for model in range(len(models)):\n",
        "    m = models[model]\n",
        "    m.fit(xx_train, yy_train)\n",
        "    test_pred1 = m.predict(xx_test)\n",
        "    ROC_AUC_scores1.append(roc_auc_score(yy_test, test_pred1))\n",
        "    F1_score1.append(f1_score(yy_test,test_pred1))\n",
        "    #ck.append(cohen_kappa_score(y_test,test_pred))\n",
        "    mcc1.append(matthews_corrcoef(yy_test,test_pred1))\n",
        "    \n",
        "d={'Modelling Algo':model_names, 'ROC_AUC_Scores': ROC_AUC_scores1,'F1_Score':F1_score1,'MCC':mcc1}   \n",
        "df_models = pd.DataFrame(d)\n",
        "df_models"
      ],
      "execution_count": 0,
      "outputs": [
        {
          "output_type": "execute_result",
          "data": {
            "text/html": [
              "<div>\n",
              "<style scoped>\n",
              "    .dataframe tbody tr th:only-of-type {\n",
              "        vertical-align: middle;\n",
              "    }\n",
              "\n",
              "    .dataframe tbody tr th {\n",
              "        vertical-align: top;\n",
              "    }\n",
              "\n",
              "    .dataframe thead th {\n",
              "        text-align: right;\n",
              "    }\n",
              "</style>\n",
              "<table border=\"1\" class=\"dataframe\">\n",
              "  <thead>\n",
              "    <tr style=\"text-align: right;\">\n",
              "      <th></th>\n",
              "      <th>F1_Score</th>\n",
              "      <th>MCC</th>\n",
              "      <th>Modelling Algo</th>\n",
              "      <th>ROC_AUC_Scores</th>\n",
              "    </tr>\n",
              "  </thead>\n",
              "  <tbody>\n",
              "    <tr>\n",
              "      <th>0</th>\n",
              "      <td>0.078231</td>\n",
              "      <td>0.082211</td>\n",
              "      <td>RandomForestClassifier</td>\n",
              "      <td>0.524065</td>\n",
              "    </tr>\n",
              "    <tr>\n",
              "      <th>1</th>\n",
              "      <td>0.057143</td>\n",
              "      <td>0.153488</td>\n",
              "      <td>AdaBoostClassifier</td>\n",
              "      <td>0.514756</td>\n",
              "    </tr>\n",
              "    <tr>\n",
              "      <th>2</th>\n",
              "      <td>0.075758</td>\n",
              "      <td>0.095435</td>\n",
              "      <td>BaggingClassifier</td>\n",
              "      <td>0.521612</td>\n",
              "    </tr>\n",
              "    <tr>\n",
              "      <th>3</th>\n",
              "      <td>0.057522</td>\n",
              "      <td>0.170857</td>\n",
              "      <td>LinearSVC</td>\n",
              "      <td>0.514806</td>\n",
              "    </tr>\n",
              "    <tr>\n",
              "      <th>4</th>\n",
              "      <td>0.008791</td>\n",
              "      <td>0.021232</td>\n",
              "      <td>KNeighborsClassifier</td>\n",
              "      <td>0.502041</td>\n",
              "    </tr>\n",
              "    <tr>\n",
              "      <th>5</th>\n",
              "      <td>0.092672</td>\n",
              "      <td>0.078578</td>\n",
              "      <td>DecisionTreeClassifier</td>\n",
              "      <td>0.541431</td>\n",
              "    </tr>\n",
              "    <tr>\n",
              "      <th>6</th>\n",
              "      <td>0.057522</td>\n",
              "      <td>0.170857</td>\n",
              "      <td>LogisticRegression</td>\n",
              "      <td>0.514806</td>\n",
              "    </tr>\n",
              "    <tr>\n",
              "      <th>7</th>\n",
              "      <td>0.056522</td>\n",
              "      <td>0.133219</td>\n",
              "      <td>GradientBoostingClassifier</td>\n",
              "      <td>0.514671</td>\n",
              "    </tr>\n",
              "    <tr>\n",
              "      <th>8</th>\n",
              "      <td>0.057522</td>\n",
              "      <td>0.170857</td>\n",
              "      <td>XGBClassifier</td>\n",
              "      <td>0.514806</td>\n",
              "    </tr>\n",
              "    <tr>\n",
              "      <th>9</th>\n",
              "      <td>0.112476</td>\n",
              "      <td>0.114141</td>\n",
              "      <td>GaussianNB</td>\n",
              "      <td>0.609183</td>\n",
              "    </tr>\n",
              "    <tr>\n",
              "      <th>10</th>\n",
              "      <td>0.052738</td>\n",
              "      <td>0.079960</td>\n",
              "      <td>BernoulliNB</td>\n",
              "      <td>0.514113</td>\n",
              "    </tr>\n",
              "  </tbody>\n",
              "</table>\n",
              "</div>"
            ],
            "text/plain": [
              "    F1_Score       MCC              Modelling Algo  ROC_AUC_Scores\n",
              "0   0.078231  0.082211      RandomForestClassifier        0.524065\n",
              "1   0.057143  0.153488          AdaBoostClassifier        0.514756\n",
              "2   0.075758  0.095435           BaggingClassifier        0.521612\n",
              "3   0.057522  0.170857                   LinearSVC        0.514806\n",
              "4   0.008791  0.021232        KNeighborsClassifier        0.502041\n",
              "5   0.092672  0.078578      DecisionTreeClassifier        0.541431\n",
              "6   0.057522  0.170857          LogisticRegression        0.514806\n",
              "7   0.056522  0.133219  GradientBoostingClassifier        0.514671\n",
              "8   0.057522  0.170857               XGBClassifier        0.514806\n",
              "9   0.112476  0.114141                  GaussianNB        0.609183\n",
              "10  0.052738  0.079960                 BernoulliNB        0.514113"
            ]
          },
          "metadata": {
            "tags": []
          },
          "execution_count": 59
        }
      ]
    },
    {
      "cell_type": "code",
      "metadata": {
        "id": "TByrpc7IcnHh",
        "colab_type": "code",
        "colab": {}
      },
      "source": [
        ""
      ],
      "execution_count": 0,
      "outputs": []
    },
    {
      "cell_type": "markdown",
      "metadata": {
        "id": "0gpz_wrCe8Yj",
        "colab_type": "text"
      },
      "source": [
        "# ** Under Sampling**"
      ]
    },
    {
      "cell_type": "code",
      "metadata": {
        "id": "Z70FOGkwe8Ei",
        "colab_type": "code",
        "colab": {}
      },
      "source": [
        "from imblearn.under_sampling import RandomUnderSampler"
      ],
      "execution_count": 0,
      "outputs": []
    },
    {
      "cell_type": "code",
      "metadata": {
        "id": "dOyDrQFoftu_",
        "colab_type": "code",
        "colab": {}
      },
      "source": [
        "xx=x_train.values\n",
        "yy=y_train.values\n",
        "xx_testt=x_test.values\n",
        "yy_testt=y_test.values"
      ],
      "execution_count": 0,
      "outputs": []
    },
    {
      "cell_type": "code",
      "metadata": {
        "id": "Zt1L29B7gwZl",
        "colab_type": "code",
        "outputId": "5f5b5d15-05aa-4017-cbec-9d474dd81230",
        "colab": {
          "base_uri": "https://localhost:8080/",
          "height": 287
        }
      },
      "source": [
        "x_train.head()"
      ],
      "execution_count": 0,
      "outputs": [
        {
          "output_type": "execute_result",
          "data": {
            "text/html": [
              "<div>\n",
              "<style scoped>\n",
              "    .dataframe tbody tr th:only-of-type {\n",
              "        vertical-align: middle;\n",
              "    }\n",
              "\n",
              "    .dataframe tbody tr th {\n",
              "        vertical-align: top;\n",
              "    }\n",
              "\n",
              "    .dataframe thead th {\n",
              "        text-align: right;\n",
              "    }\n",
              "</style>\n",
              "<table border=\"1\" class=\"dataframe\">\n",
              "  <thead>\n",
              "    <tr style=\"text-align: right;\">\n",
              "      <th></th>\n",
              "      <th>gender_Male</th>\n",
              "      <th>gender_Other</th>\n",
              "      <th>smoking history_current</th>\n",
              "      <th>smoking history_ever</th>\n",
              "      <th>smoking history_former</th>\n",
              "      <th>smoking history_never</th>\n",
              "      <th>smoking history_not current</th>\n",
              "      <th>age</th>\n",
              "      <th>diabetes</th>\n",
              "      <th>hypertension</th>\n",
              "      <th>...</th>\n",
              "      <th>BMI</th>\n",
              "      <th>diabetes &amp; hypertension</th>\n",
              "      <th>diabetes &amp; srtoke</th>\n",
              "      <th>diabetes &amp; heart disease</th>\n",
              "      <th>hypertension &amp; stroke</th>\n",
              "      <th>hypertension &amp; heart disease</th>\n",
              "      <th>stroke &amp; heart disease</th>\n",
              "      <th>diabetes,hypertension,stroke</th>\n",
              "      <th>diabetes,hypertension,heart disease</th>\n",
              "      <th>hypertension,stroke,heart disease</th>\n",
              "    </tr>\n",
              "  </thead>\n",
              "  <tbody>\n",
              "    <tr>\n",
              "      <th>41446</th>\n",
              "      <td>0.0</td>\n",
              "      <td>0.0</td>\n",
              "      <td>0.0</td>\n",
              "      <td>0.0</td>\n",
              "      <td>0.0</td>\n",
              "      <td>0.0</td>\n",
              "      <td>0.0</td>\n",
              "      <td>7.0</td>\n",
              "      <td>0.0</td>\n",
              "      <td>0.0</td>\n",
              "      <td>...</td>\n",
              "      <td>20.430000</td>\n",
              "      <td>0.0</td>\n",
              "      <td>0.0</td>\n",
              "      <td>0.0</td>\n",
              "      <td>0.0</td>\n",
              "      <td>0.0</td>\n",
              "      <td>0.0</td>\n",
              "      <td>0.0</td>\n",
              "      <td>0.0</td>\n",
              "      <td>0.0</td>\n",
              "    </tr>\n",
              "    <tr>\n",
              "      <th>83682</th>\n",
              "      <td>1.0</td>\n",
              "      <td>0.0</td>\n",
              "      <td>0.0</td>\n",
              "      <td>0.0</td>\n",
              "      <td>0.0</td>\n",
              "      <td>1.0</td>\n",
              "      <td>0.0</td>\n",
              "      <td>39.0</td>\n",
              "      <td>0.0</td>\n",
              "      <td>0.0</td>\n",
              "      <td>...</td>\n",
              "      <td>33.079747</td>\n",
              "      <td>0.0</td>\n",
              "      <td>0.0</td>\n",
              "      <td>0.0</td>\n",
              "      <td>0.0</td>\n",
              "      <td>0.0</td>\n",
              "      <td>0.0</td>\n",
              "      <td>0.0</td>\n",
              "      <td>0.0</td>\n",
              "      <td>0.0</td>\n",
              "    </tr>\n",
              "    <tr>\n",
              "      <th>10698</th>\n",
              "      <td>1.0</td>\n",
              "      <td>0.0</td>\n",
              "      <td>0.0</td>\n",
              "      <td>0.0</td>\n",
              "      <td>0.0</td>\n",
              "      <td>0.0</td>\n",
              "      <td>0.0</td>\n",
              "      <td>3.0</td>\n",
              "      <td>0.0</td>\n",
              "      <td>0.0</td>\n",
              "      <td>...</td>\n",
              "      <td>16.930000</td>\n",
              "      <td>0.0</td>\n",
              "      <td>0.0</td>\n",
              "      <td>0.0</td>\n",
              "      <td>0.0</td>\n",
              "      <td>0.0</td>\n",
              "      <td>0.0</td>\n",
              "      <td>0.0</td>\n",
              "      <td>0.0</td>\n",
              "      <td>0.0</td>\n",
              "    </tr>\n",
              "    <tr>\n",
              "      <th>11748</th>\n",
              "      <td>0.0</td>\n",
              "      <td>0.0</td>\n",
              "      <td>0.0</td>\n",
              "      <td>0.0</td>\n",
              "      <td>0.0</td>\n",
              "      <td>1.0</td>\n",
              "      <td>0.0</td>\n",
              "      <td>19.0</td>\n",
              "      <td>0.0</td>\n",
              "      <td>0.0</td>\n",
              "      <td>...</td>\n",
              "      <td>20.300000</td>\n",
              "      <td>0.0</td>\n",
              "      <td>0.0</td>\n",
              "      <td>0.0</td>\n",
              "      <td>0.0</td>\n",
              "      <td>0.0</td>\n",
              "      <td>0.0</td>\n",
              "      <td>0.0</td>\n",
              "      <td>0.0</td>\n",
              "      <td>0.0</td>\n",
              "    </tr>\n",
              "    <tr>\n",
              "      <th>30672</th>\n",
              "      <td>0.0</td>\n",
              "      <td>0.0</td>\n",
              "      <td>0.0</td>\n",
              "      <td>0.0</td>\n",
              "      <td>0.0</td>\n",
              "      <td>0.0</td>\n",
              "      <td>0.0</td>\n",
              "      <td>27.0</td>\n",
              "      <td>0.0</td>\n",
              "      <td>0.0</td>\n",
              "      <td>...</td>\n",
              "      <td>26.368814</td>\n",
              "      <td>0.0</td>\n",
              "      <td>0.0</td>\n",
              "      <td>0.0</td>\n",
              "      <td>0.0</td>\n",
              "      <td>0.0</td>\n",
              "      <td>0.0</td>\n",
              "      <td>0.0</td>\n",
              "      <td>0.0</td>\n",
              "      <td>0.0</td>\n",
              "    </tr>\n",
              "  </tbody>\n",
              "</table>\n",
              "<p>5 rows × 21 columns</p>\n",
              "</div>"
            ],
            "text/plain": [
              "       gender_Male  gender_Other  smoking history_current  \\\n",
              "41446          0.0           0.0                      0.0   \n",
              "83682          1.0           0.0                      0.0   \n",
              "10698          1.0           0.0                      0.0   \n",
              "11748          0.0           0.0                      0.0   \n",
              "30672          0.0           0.0                      0.0   \n",
              "\n",
              "       smoking history_ever  smoking history_former  smoking history_never  \\\n",
              "41446                   0.0                     0.0                    0.0   \n",
              "83682                   0.0                     0.0                    1.0   \n",
              "10698                   0.0                     0.0                    0.0   \n",
              "11748                   0.0                     0.0                    1.0   \n",
              "30672                   0.0                     0.0                    0.0   \n",
              "\n",
              "       smoking history_not current   age  diabetes  hypertension  \\\n",
              "41446                          0.0   7.0       0.0           0.0   \n",
              "83682                          0.0  39.0       0.0           0.0   \n",
              "10698                          0.0   3.0       0.0           0.0   \n",
              "11748                          0.0  19.0       0.0           0.0   \n",
              "30672                          0.0  27.0       0.0           0.0   \n",
              "\n",
              "                     ...                        BMI  diabetes & hypertension  \\\n",
              "41446                ...                  20.430000                      0.0   \n",
              "83682                ...                  33.079747                      0.0   \n",
              "10698                ...                  16.930000                      0.0   \n",
              "11748                ...                  20.300000                      0.0   \n",
              "30672                ...                  26.368814                      0.0   \n",
              "\n",
              "       diabetes & srtoke  diabetes & heart disease  hypertension & stroke  \\\n",
              "41446                0.0                       0.0                    0.0   \n",
              "83682                0.0                       0.0                    0.0   \n",
              "10698                0.0                       0.0                    0.0   \n",
              "11748                0.0                       0.0                    0.0   \n",
              "30672                0.0                       0.0                    0.0   \n",
              "\n",
              "       hypertension & heart disease  stroke & heart disease  \\\n",
              "41446                           0.0                     0.0   \n",
              "83682                           0.0                     0.0   \n",
              "10698                           0.0                     0.0   \n",
              "11748                           0.0                     0.0   \n",
              "30672                           0.0                     0.0   \n",
              "\n",
              "       diabetes,hypertension,stroke  diabetes,hypertension,heart disease  \\\n",
              "41446                           0.0                                  0.0   \n",
              "83682                           0.0                                  0.0   \n",
              "10698                           0.0                                  0.0   \n",
              "11748                           0.0                                  0.0   \n",
              "30672                           0.0                                  0.0   \n",
              "\n",
              "       hypertension,stroke,heart disease  \n",
              "41446                                0.0  \n",
              "83682                                0.0  \n",
              "10698                                0.0  \n",
              "11748                                0.0  \n",
              "30672                                0.0  \n",
              "\n",
              "[5 rows x 21 columns]"
            ]
          },
          "metadata": {
            "tags": []
          },
          "execution_count": 75
        }
      ]
    },
    {
      "cell_type": "code",
      "metadata": {
        "id": "SQSbkxtlfQDY",
        "colab_type": "code",
        "colab": {}
      },
      "source": [
        "rus=RandomUnderSampler(return_indices=True)\n",
        "X_rus,y_rus,id_rus=rus.fit_sample(xx,yy)"
      ],
      "execution_count": 0,
      "outputs": []
    },
    {
      "cell_type": "code",
      "metadata": {
        "id": "hFwtVa9siviU",
        "colab_type": "code",
        "outputId": "aa6ef720-969c-4baa-f466-d99d97f89a1f",
        "colab": {
          "base_uri": "https://localhost:8080/",
          "height": 34
        }
      },
      "source": [
        "X_rus.shape"
      ],
      "execution_count": 0,
      "outputs": [
        {
          "output_type": "execute_result",
          "data": {
            "text/plain": [
              "(1986, 22)"
            ]
          },
          "metadata": {
            "tags": []
          },
          "execution_count": 49
        }
      ]
    },
    {
      "cell_type": "code",
      "metadata": {
        "id": "6hsh6sJKjJtF",
        "colab_type": "code",
        "outputId": "264e0bc9-0ae6-4744-c752-a299ac65b925",
        "colab": {
          "base_uri": "https://localhost:8080/",
          "height": 287
        }
      },
      "source": [
        "xxx=pd.DataFrame(X_rus)\n",
        "\n",
        "xxx.columns=x_train.columns\n",
        "xxx.head()"
      ],
      "execution_count": 0,
      "outputs": [
        {
          "output_type": "execute_result",
          "data": {
            "text/html": [
              "<div>\n",
              "<style scoped>\n",
              "    .dataframe tbody tr th:only-of-type {\n",
              "        vertical-align: middle;\n",
              "    }\n",
              "\n",
              "    .dataframe tbody tr th {\n",
              "        vertical-align: top;\n",
              "    }\n",
              "\n",
              "    .dataframe thead th {\n",
              "        text-align: right;\n",
              "    }\n",
              "</style>\n",
              "<table border=\"1\" class=\"dataframe\">\n",
              "  <thead>\n",
              "    <tr style=\"text-align: right;\">\n",
              "      <th></th>\n",
              "      <th>gender_Male</th>\n",
              "      <th>gender_Other</th>\n",
              "      <th>smoking history_current</th>\n",
              "      <th>smoking history_ever</th>\n",
              "      <th>smoking history_former</th>\n",
              "      <th>smoking history_never</th>\n",
              "      <th>smoking history_not current</th>\n",
              "      <th>age</th>\n",
              "      <th>diabetes</th>\n",
              "      <th>hypertension</th>\n",
              "      <th>...</th>\n",
              "      <th>diabetes &amp; hypertension</th>\n",
              "      <th>diabetes &amp; srtoke</th>\n",
              "      <th>diabetes &amp; heart disease</th>\n",
              "      <th>hypertension &amp; stroke</th>\n",
              "      <th>hypertension &amp; heart disease</th>\n",
              "      <th>stroke &amp; heart disease</th>\n",
              "      <th>diabetes,hypertension,stroke</th>\n",
              "      <th>diabetes,hypertension,heart disease</th>\n",
              "      <th>hypertension,stroke,heart disease</th>\n",
              "      <th>hypertension,stroke,heart disease,diabetes</th>\n",
              "    </tr>\n",
              "  </thead>\n",
              "  <tbody>\n",
              "    <tr>\n",
              "      <th>0</th>\n",
              "      <td>1.0</td>\n",
              "      <td>0.0</td>\n",
              "      <td>0.0</td>\n",
              "      <td>0.0</td>\n",
              "      <td>0.0</td>\n",
              "      <td>0.0</td>\n",
              "      <td>0.0</td>\n",
              "      <td>80.0</td>\n",
              "      <td>0.0</td>\n",
              "      <td>0.0</td>\n",
              "      <td>...</td>\n",
              "      <td>0.0</td>\n",
              "      <td>0.0</td>\n",
              "      <td>0.0</td>\n",
              "      <td>0.0</td>\n",
              "      <td>0.0</td>\n",
              "      <td>0.0</td>\n",
              "      <td>0.0</td>\n",
              "      <td>0.0</td>\n",
              "      <td>0.0</td>\n",
              "      <td>0.0</td>\n",
              "    </tr>\n",
              "    <tr>\n",
              "      <th>1</th>\n",
              "      <td>0.0</td>\n",
              "      <td>0.0</td>\n",
              "      <td>0.0</td>\n",
              "      <td>0.0</td>\n",
              "      <td>0.0</td>\n",
              "      <td>0.0</td>\n",
              "      <td>0.0</td>\n",
              "      <td>29.0</td>\n",
              "      <td>0.0</td>\n",
              "      <td>0.0</td>\n",
              "      <td>...</td>\n",
              "      <td>0.0</td>\n",
              "      <td>0.0</td>\n",
              "      <td>0.0</td>\n",
              "      <td>0.0</td>\n",
              "      <td>0.0</td>\n",
              "      <td>0.0</td>\n",
              "      <td>0.0</td>\n",
              "      <td>0.0</td>\n",
              "      <td>0.0</td>\n",
              "      <td>0.0</td>\n",
              "    </tr>\n",
              "    <tr>\n",
              "      <th>2</th>\n",
              "      <td>1.0</td>\n",
              "      <td>0.0</td>\n",
              "      <td>0.0</td>\n",
              "      <td>0.0</td>\n",
              "      <td>0.0</td>\n",
              "      <td>1.0</td>\n",
              "      <td>0.0</td>\n",
              "      <td>43.0</td>\n",
              "      <td>0.0</td>\n",
              "      <td>0.0</td>\n",
              "      <td>...</td>\n",
              "      <td>0.0</td>\n",
              "      <td>0.0</td>\n",
              "      <td>0.0</td>\n",
              "      <td>0.0</td>\n",
              "      <td>0.0</td>\n",
              "      <td>0.0</td>\n",
              "      <td>0.0</td>\n",
              "      <td>0.0</td>\n",
              "      <td>0.0</td>\n",
              "      <td>0.0</td>\n",
              "    </tr>\n",
              "    <tr>\n",
              "      <th>3</th>\n",
              "      <td>0.0</td>\n",
              "      <td>0.0</td>\n",
              "      <td>0.0</td>\n",
              "      <td>0.0</td>\n",
              "      <td>0.0</td>\n",
              "      <td>0.0</td>\n",
              "      <td>0.0</td>\n",
              "      <td>4.0</td>\n",
              "      <td>0.0</td>\n",
              "      <td>0.0</td>\n",
              "      <td>...</td>\n",
              "      <td>0.0</td>\n",
              "      <td>0.0</td>\n",
              "      <td>0.0</td>\n",
              "      <td>0.0</td>\n",
              "      <td>0.0</td>\n",
              "      <td>0.0</td>\n",
              "      <td>0.0</td>\n",
              "      <td>0.0</td>\n",
              "      <td>0.0</td>\n",
              "      <td>0.0</td>\n",
              "    </tr>\n",
              "    <tr>\n",
              "      <th>4</th>\n",
              "      <td>0.0</td>\n",
              "      <td>0.0</td>\n",
              "      <td>1.0</td>\n",
              "      <td>0.0</td>\n",
              "      <td>0.0</td>\n",
              "      <td>0.0</td>\n",
              "      <td>0.0</td>\n",
              "      <td>48.0</td>\n",
              "      <td>0.0</td>\n",
              "      <td>0.0</td>\n",
              "      <td>...</td>\n",
              "      <td>0.0</td>\n",
              "      <td>0.0</td>\n",
              "      <td>0.0</td>\n",
              "      <td>0.0</td>\n",
              "      <td>0.0</td>\n",
              "      <td>0.0</td>\n",
              "      <td>0.0</td>\n",
              "      <td>0.0</td>\n",
              "      <td>0.0</td>\n",
              "      <td>0.0</td>\n",
              "    </tr>\n",
              "  </tbody>\n",
              "</table>\n",
              "<p>5 rows × 22 columns</p>\n",
              "</div>"
            ],
            "text/plain": [
              "   gender_Male  gender_Other  smoking history_current  smoking history_ever  \\\n",
              "0          1.0           0.0                      0.0                   0.0   \n",
              "1          0.0           0.0                      0.0                   0.0   \n",
              "2          1.0           0.0                      0.0                   0.0   \n",
              "3          0.0           0.0                      0.0                   0.0   \n",
              "4          0.0           0.0                      1.0                   0.0   \n",
              "\n",
              "   smoking history_former  smoking history_never  smoking history_not current  \\\n",
              "0                     0.0                    0.0                          0.0   \n",
              "1                     0.0                    0.0                          0.0   \n",
              "2                     0.0                    1.0                          0.0   \n",
              "3                     0.0                    0.0                          0.0   \n",
              "4                     0.0                    0.0                          0.0   \n",
              "\n",
              "    age  diabetes  hypertension                     ...                      \\\n",
              "0  80.0       0.0           0.0                     ...                       \n",
              "1  29.0       0.0           0.0                     ...                       \n",
              "2  43.0       0.0           0.0                     ...                       \n",
              "3   4.0       0.0           0.0                     ...                       \n",
              "4  48.0       0.0           0.0                     ...                       \n",
              "\n",
              "   diabetes & hypertension  diabetes & srtoke  diabetes & heart disease  \\\n",
              "0                      0.0                0.0                       0.0   \n",
              "1                      0.0                0.0                       0.0   \n",
              "2                      0.0                0.0                       0.0   \n",
              "3                      0.0                0.0                       0.0   \n",
              "4                      0.0                0.0                       0.0   \n",
              "\n",
              "   hypertension & stroke  hypertension & heart disease  \\\n",
              "0                    0.0                           0.0   \n",
              "1                    0.0                           0.0   \n",
              "2                    0.0                           0.0   \n",
              "3                    0.0                           0.0   \n",
              "4                    0.0                           0.0   \n",
              "\n",
              "   stroke & heart disease  diabetes,hypertension,stroke  \\\n",
              "0                     0.0                           0.0   \n",
              "1                     0.0                           0.0   \n",
              "2                     0.0                           0.0   \n",
              "3                     0.0                           0.0   \n",
              "4                     0.0                           0.0   \n",
              "\n",
              "   diabetes,hypertension,heart disease  hypertension,stroke,heart disease  \\\n",
              "0                                  0.0                                0.0   \n",
              "1                                  0.0                                0.0   \n",
              "2                                  0.0                                0.0   \n",
              "3                                  0.0                                0.0   \n",
              "4                                  0.0                                0.0   \n",
              "\n",
              "   hypertension,stroke,heart disease,diabetes  \n",
              "0                                         0.0  \n",
              "1                                         0.0  \n",
              "2                                         0.0  \n",
              "3                                         0.0  \n",
              "4                                         0.0  \n",
              "\n",
              "[5 rows x 22 columns]"
            ]
          },
          "metadata": {
            "tags": []
          },
          "execution_count": 50
        }
      ]
    },
    {
      "cell_type": "code",
      "metadata": {
        "id": "QbsIfc93jPdY",
        "colab_type": "code",
        "outputId": "05dce8f7-1497-48bd-832b-66304559da5b",
        "colab": {
          "base_uri": "https://localhost:8080/",
          "height": 204
        }
      },
      "source": [
        "yyy=pd.DataFrame(y_rus,columns=['stroke'])\n",
        "yyy.head()\n"
      ],
      "execution_count": 0,
      "outputs": [
        {
          "output_type": "execute_result",
          "data": {
            "text/html": [
              "<div>\n",
              "<style scoped>\n",
              "    .dataframe tbody tr th:only-of-type {\n",
              "        vertical-align: middle;\n",
              "    }\n",
              "\n",
              "    .dataframe tbody tr th {\n",
              "        vertical-align: top;\n",
              "    }\n",
              "\n",
              "    .dataframe thead th {\n",
              "        text-align: right;\n",
              "    }\n",
              "</style>\n",
              "<table border=\"1\" class=\"dataframe\">\n",
              "  <thead>\n",
              "    <tr style=\"text-align: right;\">\n",
              "      <th></th>\n",
              "      <th>stroke</th>\n",
              "    </tr>\n",
              "  </thead>\n",
              "  <tbody>\n",
              "    <tr>\n",
              "      <th>0</th>\n",
              "      <td>0.0</td>\n",
              "    </tr>\n",
              "    <tr>\n",
              "      <th>1</th>\n",
              "      <td>0.0</td>\n",
              "    </tr>\n",
              "    <tr>\n",
              "      <th>2</th>\n",
              "      <td>0.0</td>\n",
              "    </tr>\n",
              "    <tr>\n",
              "      <th>3</th>\n",
              "      <td>0.0</td>\n",
              "    </tr>\n",
              "    <tr>\n",
              "      <th>4</th>\n",
              "      <td>0.0</td>\n",
              "    </tr>\n",
              "  </tbody>\n",
              "</table>\n",
              "</div>"
            ],
            "text/plain": [
              "   stroke\n",
              "0     0.0\n",
              "1     0.0\n",
              "2     0.0\n",
              "3     0.0\n",
              "4     0.0"
            ]
          },
          "metadata": {
            "tags": []
          },
          "execution_count": 52
        }
      ]
    },
    {
      "cell_type": "code",
      "metadata": {
        "id": "dl5HfeEcjcck",
        "colab_type": "code",
        "outputId": "c2b29fc2-d266-4cc3-e4f9-abb5d919e992",
        "colab": {
          "base_uri": "https://localhost:8080/",
          "height": 68
        }
      },
      "source": [
        "yyy['stroke'].value_counts()"
      ],
      "execution_count": 0,
      "outputs": [
        {
          "output_type": "execute_result",
          "data": {
            "text/plain": [
              "1.0    993\n",
              "0.0    993\n",
              "Name: stroke, dtype: int64"
            ]
          },
          "metadata": {
            "tags": []
          },
          "execution_count": 54
        }
      ]
    },
    {
      "cell_type": "code",
      "metadata": {
        "id": "3RkSF6yefozl",
        "colab_type": "code",
        "outputId": "015e66d9-accd-44bb-e459-feff31b4efb5",
        "colab": {
          "base_uri": "https://localhost:8080/",
          "height": 390
        }
      },
      "source": [
        "models=[RandomForestClassifier(),AdaBoostClassifier(),BaggingClassifier(),LinearSVC(),\n",
        "        KNeighborsClassifier(), DecisionTreeClassifier(),LogisticRegression(), GradientBoostingClassifier(), XGBClassifier(),GaussianNB(),BernoulliNB()]\n",
        "model_names=['RandomForestClassifier','AdaBoostClassifier','BaggingClassifier','LinearSVC',\n",
        "             'KNeighborsClassifier', 'DecisionTreeClassifier', 'LogisticRegression', \n",
        "             'GradientBoostingClassifier', 'XGBClassifier','GaussianNB','BernoulliNB']\n",
        "ROC_AUC_scores1 = []\n",
        "F1_score1=[]\n",
        "mcc1=[]\n",
        "\n",
        "d={}\n",
        "\n",
        "for model in range(len(models)):\n",
        "    m = models[model]\n",
        "    m.fit(xxx,yyy)\n",
        "    test_pred1 = m.predict(x_test)\n",
        "    ROC_AUC_scores1.append(roc_auc_score(y_test, test_pred1))\n",
        "    F1_score1.append(f1_score(y_test,test_pred1))\n",
        "    #ck.append(cohen_kappa_score(y_test,test_pred))\n",
        "    mcc1.append(matthews_corrcoef(y_test,test_pred1))\n",
        "    \n",
        "d={'Modelling Algo':model_names, 'ROC_AUC_Scores': ROC_AUC_scores1,'F1_Score':F1_score1,'MCC':mcc1}   \n",
        "df_models = pd.DataFrame(d)\n",
        "df_models"
      ],
      "execution_count": 0,
      "outputs": [
        {
          "output_type": "execute_result",
          "data": {
            "text/html": [
              "<div>\n",
              "<style scoped>\n",
              "    .dataframe tbody tr th:only-of-type {\n",
              "        vertical-align: middle;\n",
              "    }\n",
              "\n",
              "    .dataframe tbody tr th {\n",
              "        vertical-align: top;\n",
              "    }\n",
              "\n",
              "    .dataframe thead th {\n",
              "        text-align: right;\n",
              "    }\n",
              "</style>\n",
              "<table border=\"1\" class=\"dataframe\">\n",
              "  <thead>\n",
              "    <tr style=\"text-align: right;\">\n",
              "      <th></th>\n",
              "      <th>F1_Score</th>\n",
              "      <th>MCC</th>\n",
              "      <th>Modelling Algo</th>\n",
              "      <th>ROC_AUC_Scores</th>\n",
              "    </tr>\n",
              "  </thead>\n",
              "  <tbody>\n",
              "    <tr>\n",
              "      <th>0</th>\n",
              "      <td>0.132634</td>\n",
              "      <td>0.214023</td>\n",
              "      <td>RandomForestClassifier</td>\n",
              "      <td>0.831815</td>\n",
              "    </tr>\n",
              "    <tr>\n",
              "      <th>1</th>\n",
              "      <td>0.127305</td>\n",
              "      <td>0.219382</td>\n",
              "      <td>AdaBoostClassifier</td>\n",
              "      <td>0.860652</td>\n",
              "    </tr>\n",
              "    <tr>\n",
              "      <th>2</th>\n",
              "      <td>0.136923</td>\n",
              "      <td>0.219556</td>\n",
              "      <td>BaggingClassifier</td>\n",
              "      <td>0.836492</td>\n",
              "    </tr>\n",
              "    <tr>\n",
              "      <th>3</th>\n",
              "      <td>0.273581</td>\n",
              "      <td>0.341473</td>\n",
              "      <td>LinearSVC</td>\n",
              "      <td>0.858409</td>\n",
              "    </tr>\n",
              "    <tr>\n",
              "      <th>4</th>\n",
              "      <td>0.081718</td>\n",
              "      <td>0.141699</td>\n",
              "      <td>KNeighborsClassifier</td>\n",
              "      <td>0.759658</td>\n",
              "    </tr>\n",
              "    <tr>\n",
              "      <th>5</th>\n",
              "      <td>0.098536</td>\n",
              "      <td>0.170521</td>\n",
              "      <td>DecisionTreeClassifier</td>\n",
              "      <td>0.797264</td>\n",
              "    </tr>\n",
              "    <tr>\n",
              "      <th>6</th>\n",
              "      <td>0.156116</td>\n",
              "      <td>0.249152</td>\n",
              "      <td>LogisticRegression</td>\n",
              "      <td>0.871178</td>\n",
              "    </tr>\n",
              "    <tr>\n",
              "      <th>7</th>\n",
              "      <td>0.145482</td>\n",
              "      <td>0.238498</td>\n",
              "      <td>GradientBoostingClassifier</td>\n",
              "      <td>0.867962</td>\n",
              "    </tr>\n",
              "    <tr>\n",
              "      <th>8</th>\n",
              "      <td>0.165935</td>\n",
              "      <td>0.258528</td>\n",
              "      <td>XGBClassifier</td>\n",
              "      <td>0.873159</td>\n",
              "    </tr>\n",
              "    <tr>\n",
              "      <th>9</th>\n",
              "      <td>0.515710</td>\n",
              "      <td>0.509175</td>\n",
              "      <td>GaussianNB</td>\n",
              "      <td>0.770565</td>\n",
              "    </tr>\n",
              "    <tr>\n",
              "      <th>10</th>\n",
              "      <td>0.197020</td>\n",
              "      <td>0.235523</td>\n",
              "      <td>BernoulliNB</td>\n",
              "      <td>0.745318</td>\n",
              "    </tr>\n",
              "  </tbody>\n",
              "</table>\n",
              "</div>"
            ],
            "text/plain": [
              "    F1_Score       MCC              Modelling Algo  ROC_AUC_Scores\n",
              "0   0.132634  0.214023      RandomForestClassifier        0.831815\n",
              "1   0.127305  0.219382          AdaBoostClassifier        0.860652\n",
              "2   0.136923  0.219556           BaggingClassifier        0.836492\n",
              "3   0.273581  0.341473                   LinearSVC        0.858409\n",
              "4   0.081718  0.141699        KNeighborsClassifier        0.759658\n",
              "5   0.098536  0.170521      DecisionTreeClassifier        0.797264\n",
              "6   0.156116  0.249152          LogisticRegression        0.871178\n",
              "7   0.145482  0.238498  GradientBoostingClassifier        0.867962\n",
              "8   0.165935  0.258528               XGBClassifier        0.873159\n",
              "9   0.515710  0.509175                  GaussianNB        0.770565\n",
              "10  0.197020  0.235523                 BernoulliNB        0.745318"
            ]
          },
          "metadata": {
            "tags": []
          },
          "execution_count": 60
        }
      ]
    },
    {
      "cell_type": "code",
      "metadata": {
        "id": "9iNtYy4xVNTY",
        "colab_type": "code",
        "colab": {}
      },
      "source": [
        ""
      ],
      "execution_count": 0,
      "outputs": []
    }
  ]
}