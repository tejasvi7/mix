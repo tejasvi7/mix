{
  "nbformat": 4,
  "nbformat_minor": 0,
  "metadata": {
    "colab": {
      "name": "CNN_FinalCode.ipynb",
      "version": "0.3.2",
      "provenance": []
    },
    "kernelspec": {
      "name": "python3",
      "display_name": "Python 3"
    }
  },
  "cells": [
    {
      "cell_type": "code",
      "metadata": {
        "id": "SjFnbknGaxej",
        "colab_type": "code",
        "colab": {}
      },
      "source": [
        "import urllib as ul"
      ],
      "execution_count": 0,
      "outputs": []
    },
    {
      "cell_type": "code",
      "metadata": {
        "id": "DJ4yd-jqa456",
        "colab_type": "code",
        "outputId": "ac3eb5c6-c228-4801-b48a-3e27ace385e6",
        "colab": {
          "base_uri": "https://localhost:8080/",
          "height": 34
        }
      },
      "source": [
        "from google.colab import drive\n",
        "drive.mount('/content/drive')\n"
      ],
      "execution_count": 0,
      "outputs": [
        {
          "output_type": "stream",
          "text": [
            "Mounted at /content/drive\n"
          ],
          "name": "stdout"
        }
      ]
    },
    {
      "cell_type": "code",
      "metadata": {
        "id": "dtMLzwbEa9zg",
        "colab_type": "code",
        "outputId": "4aab9700-7cf7-433b-d6de-b655981d66bf",
        "colab": {
          "base_uri": "https://localhost:8080/",
          "height": 85
        }
      },
      "source": [
        "!pip install easycolab\n",
        "import easycolab as ec\n",
        "ec.mount()"
      ],
      "execution_count": 0,
      "outputs": [
        {
          "output_type": "stream",
          "text": [
            "Requirement already satisfied: easycolab in /usr/local/lib/python3.6/dist-packages (0.1b27)\n",
            "Mounted at /content/gdrive\n",
            "Opening 'My Drive' directory (/content/gdrive/My Drive/)\n",
            "Done!\n"
          ],
          "name": "stdout"
        }
      ]
    },
    {
      "cell_type": "code",
      "metadata": {
        "id": "RLCFKELAbaFb",
        "colab_type": "code",
        "outputId": "c24c8d4f-c438-4ed1-deb8-0e48e8a516d6",
        "colab": {
          "base_uri": "https://localhost:8080/",
          "height": 204
        }
      },
      "source": [
        "!wget http://www.robots.ox.ac.uk/~vgg/data/flowers/17/17flowers.tgz"
      ],
      "execution_count": 0,
      "outputs": [
        {
          "output_type": "stream",
          "text": [
            "--2019-03-21 18:57:47--  http://www.robots.ox.ac.uk/~vgg/data/flowers/17/17flowers.tgz\n",
            "Resolving www.robots.ox.ac.uk (www.robots.ox.ac.uk)... 129.67.94.2\n",
            "Connecting to www.robots.ox.ac.uk (www.robots.ox.ac.uk)|129.67.94.2|:80... connected.\n",
            "HTTP request sent, awaiting response... 200 OK\n",
            "Length: 60270631 (57M) [application/x-gzip]\n",
            "Saving to: ‘17flowers.tgz.1’\n",
            "\n",
            "17flowers.tgz.1     100%[===================>]  57.48M  15.8MB/s    in 4.2s    \n",
            "\n",
            "2019-03-21 18:57:52 (13.8 MB/s) - ‘17flowers.tgz.1’ saved [60270631/60270631]\n",
            "\n"
          ],
          "name": "stdout"
        }
      ]
    },
    {
      "cell_type": "code",
      "metadata": {
        "id": "H8jS6e3dhwvt",
        "colab_type": "code",
        "colab": {}
      },
      "source": [
        "train_dir = '/content/gdrive/My Drive/train'\n",
        "test_dir = '/content/gdrive/My Drive/test'\n"
      ],
      "execution_count": 0,
      "outputs": []
    },
    {
      "cell_type": "code",
      "metadata": {
        "id": "fTFE5xjxj21F",
        "colab_type": "code",
        "outputId": "2520a760-083b-43bd-a7d1-354b447ed558",
        "colab": {
          "base_uri": "https://localhost:8080/",
          "height": 34
        }
      },
      "source": [
        "from keras.layers import Conv2D, MaxPool2D, Input, Dense, Flatten, Dropout\n",
        "from keras.models import Model, K\n",
        "from keras.preprocessing.image import ImageDataGenerator\n",
        "import numpy as np"
      ],
      "execution_count": 0,
      "outputs": [
        {
          "output_type": "stream",
          "text": [
            "Using TensorFlow backend.\n"
          ],
          "name": "stderr"
        }
      ]
    },
    {
      "cell_type": "code",
      "metadata": {
        "id": "nVfKp4_Zj3hU",
        "colab_type": "code",
        "outputId": "3c1b85be-b8b2-4718-ffe9-51f47d65e8dd",
        "colab": {
          "base_uri": "https://localhost:8080/",
          "height": 476
        }
      },
      "source": [
        "K.clear_session()\n",
        "inp= Input(shape=[150,150,3], dtype= np.float32)\n",
        "x=Conv2D(filters=32, kernel_size=(3,3),strides=2,padding='same', activation='relu')(inp)\n",
        "x=MaxPool2D(pool_size=(2,2), strides=2, padding='same')(x)\n",
        "x=Conv2D(filters=48, kernel_size=(3,3),padding='valid',activation='relu')(x)\n",
        "x=MaxPool2D(pool_size=(2,2), strides=2, padding='valid')(x)\n",
        "x=Conv2D(filters=64, kernel_size=(3,3),padding='valid',activation='relu')(x)\n",
        "x=MaxPool2D(pool_size=(2,2), strides=2, padding='valid')(x)\n",
        "x=Flatten()(x)\n",
        "x=Dense(units=128, activation='relu')(x)\n",
        "x=Dense(1,activation='sigmoid')(x)\n",
        "model=Model(inp,x)\n",
        "model.summary()\n"
      ],
      "execution_count": 0,
      "outputs": [
        {
          "output_type": "stream",
          "text": [
            "_________________________________________________________________\n",
            "Layer (type)                 Output Shape              Param #   \n",
            "=================================================================\n",
            "input_1 (InputLayer)         (None, 150, 150, 3)       0         \n",
            "_________________________________________________________________\n",
            "conv2d_1 (Conv2D)            (None, 75, 75, 32)        896       \n",
            "_________________________________________________________________\n",
            "max_pooling2d_1 (MaxPooling2 (None, 38, 38, 32)        0         \n",
            "_________________________________________________________________\n",
            "conv2d_2 (Conv2D)            (None, 36, 36, 48)        13872     \n",
            "_________________________________________________________________\n",
            "max_pooling2d_2 (MaxPooling2 (None, 18, 18, 48)        0         \n",
            "_________________________________________________________________\n",
            "conv2d_3 (Conv2D)            (None, 16, 16, 64)        27712     \n",
            "_________________________________________________________________\n",
            "max_pooling2d_3 (MaxPooling2 (None, 8, 8, 64)          0         \n",
            "_________________________________________________________________\n",
            "flatten_1 (Flatten)          (None, 4096)              0         \n",
            "_________________________________________________________________\n",
            "dense_1 (Dense)              (None, 128)               524416    \n",
            "_________________________________________________________________\n",
            "dense_2 (Dense)              (None, 1)                 129       \n",
            "=================================================================\n",
            "Total params: 567,025\n",
            "Trainable params: 567,025\n",
            "Non-trainable params: 0\n",
            "_________________________________________________________________\n"
          ],
          "name": "stdout"
        }
      ]
    },
    {
      "cell_type": "code",
      "metadata": {
        "id": "I3bhf072j-Qi",
        "colab_type": "code",
        "colab": {}
      },
      "source": [
        "model.compile(optimizer='adam',loss='binary_crossentropy',metrics=['accuracy'])\n"
      ],
      "execution_count": 0,
      "outputs": []
    },
    {
      "cell_type": "code",
      "metadata": {
        "id": "0VSaZYtwm540",
        "colab_type": "code",
        "colab": {}
      },
      "source": [
        "generator_train=ImageDataGenerator(rescale=1./255,rotation_range=45,width_shift_range=0.1,height_shift_range=0.1,vertical_flip=True,horizontal_flip=True)\n",
        "\n",
        "generator_valid=ImageDataGenerator(rescale=1./255)"
      ],
      "execution_count": 0,
      "outputs": []
    },
    {
      "cell_type": "code",
      "metadata": {
        "id": "L0o3Tf5gkeJc",
        "colab_type": "code",
        "outputId": "f0187a4f-d809-4717-9bc2-3ec36e1eb14b",
        "colab": {
          "base_uri": "https://localhost:8080/",
          "height": 51
        }
      },
      "source": [
        "x= generator_train.flow_from_directory(directory=train_dir, batch_size=32,target_size=(150,150),class_mode='binary')\n",
        "v= generator_valid.flow_from_directory(directory= test_dir,batch_size=32,target_size=(150,150),class_mode='binary')"
      ],
      "execution_count": 0,
      "outputs": [
        {
          "output_type": "stream",
          "text": [
            "Found 120 images belonging to 2 classes.\n",
            "Found 40 images belonging to 2 classes.\n"
          ],
          "name": "stdout"
        }
      ]
    },
    {
      "cell_type": "code",
      "metadata": {
        "id": "OuBN_SlalcWU",
        "colab_type": "code",
        "outputId": "4f0c5b47-8bd1-41e6-f309-9b05aa9aac46",
        "colab": {
          "base_uri": "https://localhost:8080/",
          "height": 578
        }
      },
      "source": [
        "model.fit_generator(generator=x,\n",
        "                    steps_per_epoch=16,\n",
        "                    validation_data=v,\n",
        "                    validation_steps=8,\n",
        "                    epochs=16)"
      ],
      "execution_count": 0,
      "outputs": [
        {
          "output_type": "stream",
          "text": [
            "Epoch 1/16\n",
            "16/16 [==============================] - 46s 3s/step - loss: 0.3553 - acc: 0.8529 - val_loss: 0.4384 - val_acc: 0.8250\n",
            "Epoch 2/16\n",
            "16/16 [==============================] - 11s 686ms/step - loss: 0.1404 - acc: 0.9511 - val_loss: 0.2875 - val_acc: 0.8500\n",
            "Epoch 3/16\n",
            "16/16 [==============================] - 11s 688ms/step - loss: 0.0958 - acc: 0.9668 - val_loss: 0.2640 - val_acc: 0.8750\n",
            "Epoch 4/16\n",
            "16/16 [==============================] - 11s 681ms/step - loss: 0.0759 - acc: 0.9752 - val_loss: 0.1385 - val_acc: 0.9250\n",
            "Epoch 5/16\n",
            "16/16 [==============================] - 11s 693ms/step - loss: 0.0732 - acc: 0.9754 - val_loss: 0.1397 - val_acc: 0.9500\n",
            "Epoch 6/16\n",
            "16/16 [==============================] - 11s 681ms/step - loss: 0.0700 - acc: 0.9772 - val_loss: 0.2268 - val_acc: 0.9000\n",
            "Epoch 7/16\n",
            "16/16 [==============================] - 11s 677ms/step - loss: 0.0523 - acc: 0.9831 - val_loss: 0.1830 - val_acc: 0.9500\n",
            "Epoch 8/16\n",
            "16/16 [==============================] - 11s 693ms/step - loss: 0.0364 - acc: 0.9876 - val_loss: 0.2136 - val_acc: 0.9500\n",
            "Epoch 9/16\n",
            "16/16 [==============================] - 11s 677ms/step - loss: 0.0466 - acc: 0.9857 - val_loss: 0.2754 - val_acc: 0.8750\n",
            "Epoch 10/16\n",
            "16/16 [==============================] - 11s 679ms/step - loss: 0.0418 - acc: 0.9870 - val_loss: 0.1364 - val_acc: 0.9250\n",
            "Epoch 11/16\n",
            "16/16 [==============================] - 11s 682ms/step - loss: 0.0520 - acc: 0.9792 - val_loss: 0.1570 - val_acc: 0.9500\n",
            "Epoch 12/16\n",
            "16/16 [==============================] - 11s 686ms/step - loss: 0.0303 - acc: 0.9902 - val_loss: 0.1905 - val_acc: 0.9000\n",
            "Epoch 13/16\n",
            "16/16 [==============================] - 11s 680ms/step - loss: 0.0268 - acc: 0.9850 - val_loss: 0.2830 - val_acc: 0.8750\n",
            "Epoch 14/16\n",
            "16/16 [==============================] - 11s 687ms/step - loss: 0.0298 - acc: 0.9915 - val_loss: 0.0851 - val_acc: 0.9750\n",
            "Epoch 15/16\n",
            "16/16 [==============================] - 11s 693ms/step - loss: 0.0412 - acc: 0.9793 - val_loss: 1.4994 - val_acc: 0.7000\n",
            "Epoch 16/16\n",
            "16/16 [==============================] - 11s 691ms/step - loss: 0.0461 - acc: 0.9870 - val_loss: 0.2259 - val_acc: 0.9000\n"
          ],
          "name": "stdout"
        },
        {
          "output_type": "execute_result",
          "data": {
            "text/plain": [
              "<keras.callbacks.History at 0x7fa3d2442c18>"
            ]
          },
          "metadata": {
            "tags": []
          },
          "execution_count": 45
        }
      ]
    },
    {
      "cell_type": "code",
      "metadata": {
        "id": "aKWbguVUo_Ac",
        "colab_type": "code",
        "colab": {}
      },
      "source": [
        "model.save_weights('model_wieghts_sdg_class.h5')\n",
        "model.save('model_wieghts_sdg_class.h5')"
      ],
      "execution_count": 0,
      "outputs": []
    },
    {
      "cell_type": "code",
      "metadata": {
        "id": "I2LZj6XayRlM",
        "colab_type": "code",
        "colab": {}
      },
      "source": [
        "#!dir"
      ],
      "execution_count": 0,
      "outputs": []
    },
    {
      "cell_type": "code",
      "metadata": {
        "id": "WEJTsVsOyoMc",
        "colab_type": "code",
        "colab": {}
      },
      "source": [
        "model.load_weights('model_wieghts_sdg_class.h5')"
      ],
      "execution_count": 0,
      "outputs": []
    },
    {
      "cell_type": "code",
      "metadata": {
        "id": "pbgwStbS1Bvi",
        "colab_type": "code",
        "colab": {}
      },
      "source": [
        "#model.load_weights('/content/gdrive/My Drive/Copy of CNN_1.h5')"
      ],
      "execution_count": 0,
      "outputs": []
    },
    {
      "cell_type": "code",
      "metadata": {
        "id": "4Ke15hCwyvKo",
        "colab_type": "code",
        "colab": {}
      },
      "source": [
        "ml=Model(model.input,model.get_layer(name='max_pooling2d_3').output)"
      ],
      "execution_count": 0,
      "outputs": []
    },
    {
      "cell_type": "code",
      "metadata": {
        "id": "rvey1mKVyyKA",
        "colab_type": "code",
        "outputId": "abfaf55d-6c28-4e91-df2c-ab026830aaa3",
        "colab": {
          "base_uri": "https://localhost:8080/",
          "height": 374
        }
      },
      "source": [
        "ml.summary()"
      ],
      "execution_count": 0,
      "outputs": [
        {
          "output_type": "stream",
          "text": [
            "_________________________________________________________________\n",
            "Layer (type)                 Output Shape              Param #   \n",
            "=================================================================\n",
            "input_1 (InputLayer)         (None, 150, 150, 3)       0         \n",
            "_________________________________________________________________\n",
            "conv2d_1 (Conv2D)            (None, 75, 75, 32)        896       \n",
            "_________________________________________________________________\n",
            "max_pooling2d_1 (MaxPooling2 (None, 38, 38, 32)        0         \n",
            "_________________________________________________________________\n",
            "conv2d_2 (Conv2D)            (None, 36, 36, 48)        13872     \n",
            "_________________________________________________________________\n",
            "max_pooling2d_2 (MaxPooling2 (None, 18, 18, 48)        0         \n",
            "_________________________________________________________________\n",
            "conv2d_3 (Conv2D)            (None, 16, 16, 64)        27712     \n",
            "_________________________________________________________________\n",
            "max_pooling2d_3 (MaxPooling2 (None, 8, 8, 64)          0         \n",
            "=================================================================\n",
            "Total params: 42,480\n",
            "Trainable params: 42,480\n",
            "Non-trainable params: 0\n",
            "_________________________________________________________________\n"
          ],
          "name": "stdout"
        }
      ]
    },
    {
      "cell_type": "code",
      "metadata": {
        "id": "NAO0ghaey1kY",
        "colab_type": "code",
        "colab": {}
      },
      "source": [
        "l=ml.layers[0]"
      ],
      "execution_count": 0,
      "outputs": []
    },
    {
      "cell_type": "code",
      "metadata": {
        "id": "11TsUuTey7V3",
        "colab_type": "code",
        "colab": {}
      },
      "source": [
        "for i in range(7):\n",
        "  if i<=4:\n",
        "    ml.layers[i].trainable==False\n",
        "  "
      ],
      "execution_count": 0,
      "outputs": []
    },
    {
      "cell_type": "code",
      "metadata": {
        "id": "vuHUMIYwzAUY",
        "colab_type": "code",
        "colab": {}
      },
      "source": [
        "y=Flatten()(ml.output)\n",
        "y=Dense(512,activation='relu')(y) # On top of ml output I'm adding layers"
      ],
      "execution_count": 0,
      "outputs": []
    },
    {
      "cell_type": "code",
      "metadata": {
        "id": "sjg7cAiIzDUf",
        "colab_type": "code",
        "outputId": "66f3138e-2cdc-4b73-9193-93a5482ab00b",
        "colab": {
          "base_uri": "https://localhost:8080/",
          "height": 578
        }
      },
      "source": [
        "y=Dropout(0.4)(y)\n",
        "out1=Dense(1,activation='sigmoid')(y)\n",
        "m2=Dropout(0.5)(y)\n",
        "m2=Model(ml.input,out1)\n",
        "m2.compile(optimizer='adam',loss='binary_crossentropy',metrics=['accuracy'])\n",
        "m2.summary()"
      ],
      "execution_count": 0,
      "outputs": [
        {
          "output_type": "stream",
          "text": [
            "_________________________________________________________________\n",
            "Layer (type)                 Output Shape              Param #   \n",
            "=================================================================\n",
            "input_1 (InputLayer)         (None, 150, 150, 3)       0         \n",
            "_________________________________________________________________\n",
            "conv2d_1 (Conv2D)            (None, 75, 75, 32)        896       \n",
            "_________________________________________________________________\n",
            "max_pooling2d_1 (MaxPooling2 (None, 38, 38, 32)        0         \n",
            "_________________________________________________________________\n",
            "conv2d_2 (Conv2D)            (None, 36, 36, 48)        13872     \n",
            "_________________________________________________________________\n",
            "max_pooling2d_2 (MaxPooling2 (None, 18, 18, 48)        0         \n",
            "_________________________________________________________________\n",
            "conv2d_3 (Conv2D)            (None, 16, 16, 64)        27712     \n",
            "_________________________________________________________________\n",
            "max_pooling2d_3 (MaxPooling2 (None, 8, 8, 64)          0         \n",
            "_________________________________________________________________\n",
            "flatten_2 (Flatten)          (None, 4096)              0         \n",
            "_________________________________________________________________\n",
            "dense_3 (Dense)              (None, 512)               2097664   \n",
            "_________________________________________________________________\n",
            "dropout_1 (Dropout)          (None, 512)               0         \n",
            "_________________________________________________________________\n",
            "dropout_2 (Dropout)          (None, 512)               0         \n",
            "_________________________________________________________________\n",
            "dropout_3 (Dropout)          (None, 512)               0         \n",
            "_________________________________________________________________\n",
            "dense_6 (Dense)              (None, 1)                 513       \n",
            "=================================================================\n",
            "Total params: 2,140,657\n",
            "Trainable params: 2,140,657\n",
            "Non-trainable params: 0\n",
            "_________________________________________________________________\n"
          ],
          "name": "stdout"
        }
      ]
    },
    {
      "cell_type": "code",
      "metadata": {
        "id": "kxNVO4cpzrDi",
        "colab_type": "code",
        "colab": {}
      },
      "source": [
        "generator_train=ImageDataGenerator(rescale=1./255,rotation_range=45,width_shift_range=0.1,height_shift_range=0.1,vertical_flip=True,horizontal_flip=True)\n",
        "\n",
        "generator_valid=ImageDataGenerator(rescale=1./255)"
      ],
      "execution_count": 0,
      "outputs": []
    },
    {
      "cell_type": "code",
      "metadata": {
        "id": "rL--S1YEzuhA",
        "colab_type": "code",
        "outputId": "aca34179-761a-4234-c953-907034c60471",
        "colab": {
          "base_uri": "https://localhost:8080/",
          "height": 51
        }
      },
      "source": [
        "x= generator_train.flow_from_directory(directory=train_dir, batch_size=32,target_size=(150,150),class_mode='binary')\n",
        "v= generator_valid.flow_from_directory(directory= test_dir,batch_size=32,target_size=(150,150),class_mode='binary')"
      ],
      "execution_count": 0,
      "outputs": [
        {
          "output_type": "stream",
          "text": [
            "Found 120 images belonging to 2 classes.\n",
            "Found 40 images belonging to 2 classes.\n"
          ],
          "name": "stdout"
        }
      ]
    },
    {
      "cell_type": "code",
      "metadata": {
        "id": "oN0ogCZezwsI",
        "colab_type": "code",
        "outputId": "935548d1-25fc-46db-91ba-5c7c13920c70",
        "colab": {
          "base_uri": "https://localhost:8080/",
          "height": 578
        }
      },
      "source": [
        "model.fit_generator(generator=x,\n",
        "                    steps_per_epoch=16,\n",
        "                    validation_data=v,\n",
        "                    validation_steps=8,\n",
        "                    epochs=16)"
      ],
      "execution_count": 0,
      "outputs": [
        {
          "output_type": "stream",
          "text": [
            "Epoch 1/16\n",
            "16/16 [==============================] - 12s 719ms/step - loss: 0.0045 - acc: 1.0000 - val_loss: 0.4432 - val_acc: 0.9250\n",
            "Epoch 2/16\n",
            "16/16 [==============================] - 11s 683ms/step - loss: 0.0250 - acc: 0.9922 - val_loss: 0.4106 - val_acc: 0.9000\n",
            "Epoch 3/16\n",
            "16/16 [==============================] - 11s 687ms/step - loss: 0.0202 - acc: 0.9896 - val_loss: 0.9943 - val_acc: 0.8750\n",
            "Epoch 4/16\n",
            "16/16 [==============================] - 11s 685ms/step - loss: 0.0217 - acc: 0.9961 - val_loss: 0.6557 - val_acc: 0.9000\n",
            "Epoch 5/16\n",
            "16/16 [==============================] - 11s 683ms/step - loss: 0.0057 - acc: 0.9980 - val_loss: 0.4021 - val_acc: 0.9500\n",
            "Epoch 6/16\n",
            "16/16 [==============================] - 11s 674ms/step - loss: 0.0055 - acc: 0.9980 - val_loss: 0.4792 - val_acc: 0.9250\n",
            "Epoch 7/16\n",
            "16/16 [==============================] - 11s 688ms/step - loss: 0.0022 - acc: 1.0000 - val_loss: 0.5791 - val_acc: 0.9250\n",
            "Epoch 8/16\n",
            "16/16 [==============================] - 11s 695ms/step - loss: 0.0084 - acc: 0.9949 - val_loss: 0.8408 - val_acc: 0.8750\n",
            "Epoch 9/16\n",
            "16/16 [==============================] - 11s 682ms/step - loss: 0.0135 - acc: 0.9974 - val_loss: 0.1624 - val_acc: 0.9250\n",
            "Epoch 10/16\n",
            "16/16 [==============================] - 11s 683ms/step - loss: 0.0216 - acc: 0.9915 - val_loss: 0.3907 - val_acc: 0.9000\n",
            "Epoch 11/16\n",
            "16/16 [==============================] - 11s 684ms/step - loss: 0.0250 - acc: 0.9980 - val_loss: 0.1493 - val_acc: 0.9500\n",
            "Epoch 12/16\n",
            "16/16 [==============================] - 11s 677ms/step - loss: 0.0545 - acc: 0.9882 - val_loss: 0.0358 - val_acc: 0.9750\n",
            "Epoch 13/16\n",
            "16/16 [==============================] - 11s 684ms/step - loss: 0.0316 - acc: 0.9922 - val_loss: 0.1627 - val_acc: 0.9250\n",
            "Epoch 14/16\n",
            "16/16 [==============================] - 11s 693ms/step - loss: 0.0241 - acc: 0.9909 - val_loss: 0.3634 - val_acc: 0.9000\n",
            "Epoch 15/16\n",
            "16/16 [==============================] - 11s 688ms/step - loss: 0.0095 - acc: 0.9980 - val_loss: 0.3602 - val_acc: 0.9000\n",
            "Epoch 16/16\n",
            "16/16 [==============================] - 11s 686ms/step - loss: 0.0246 - acc: 0.9922 - val_loss: 0.1626 - val_acc: 0.9250\n"
          ],
          "name": "stdout"
        },
        {
          "output_type": "execute_result",
          "data": {
            "text/plain": [
              "<keras.callbacks.History at 0x7fa3f0cd5518>"
            ]
          },
          "metadata": {
            "tags": []
          },
          "execution_count": 60
        }
      ]
    }
  ]
}