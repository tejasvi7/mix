{
  "nbformat": 4,
  "nbformat_minor": 0,
  "metadata": {
    "colab": {
      "name": "autoencoders.ipynb",
      "version": "0.3.2",
      "provenance": []
    },
    "kernelspec": {
      "name": "python3",
      "display_name": "Python 3"
    },
    "accelerator": "GPU"
  },
  "cells": [
    {
      "cell_type": "code",
      "metadata": {
        "id": "tNAL_2PkKsCh",
        "colab_type": "code",
        "outputId": "b5708bab-e7a5-41dc-e485-83c8a75eeba1",
        "colab": {
          "base_uri": "https://localhost:8080/",
          "height": 34
        }
      },
      "source": [
        "from keras.layers import Dense, Input\n",
        "from keras.models import Model, K\n",
        "from keras.datasets import mnist\n",
        "import matplotlib.pyplot as plt\n",
        "%matplotlib inline"
      ],
      "execution_count": 0,
      "outputs": [
        {
          "output_type": "stream",
          "text": [
            "Using TensorFlow backend.\n"
          ],
          "name": "stderr"
        }
      ]
    },
    {
      "cell_type": "code",
      "metadata": {
        "id": "_WWnsAOxMGmg",
        "colab_type": "code",
        "outputId": "9f69e5c2-55d9-49f5-c431-d81fbfa420ab",
        "colab": {
          "base_uri": "https://localhost:8080/",
          "height": 1751
        }
      },
      "source": [
        "mnist.load_data()"
      ],
      "execution_count": 0,
      "outputs": [
        {
          "output_type": "stream",
          "text": [
            "Downloading data from https://s3.amazonaws.com/img-datasets/mnist.npz\n",
            "11493376/11490434 [==============================] - 0s 0us/step\n"
          ],
          "name": "stdout"
        },
        {
          "output_type": "execute_result",
          "data": {
            "text/plain": [
              "((array([[[0, 0, 0, ..., 0, 0, 0],\n",
              "          [0, 0, 0, ..., 0, 0, 0],\n",
              "          [0, 0, 0, ..., 0, 0, 0],\n",
              "          ...,\n",
              "          [0, 0, 0, ..., 0, 0, 0],\n",
              "          [0, 0, 0, ..., 0, 0, 0],\n",
              "          [0, 0, 0, ..., 0, 0, 0]],\n",
              "  \n",
              "         [[0, 0, 0, ..., 0, 0, 0],\n",
              "          [0, 0, 0, ..., 0, 0, 0],\n",
              "          [0, 0, 0, ..., 0, 0, 0],\n",
              "          ...,\n",
              "          [0, 0, 0, ..., 0, 0, 0],\n",
              "          [0, 0, 0, ..., 0, 0, 0],\n",
              "          [0, 0, 0, ..., 0, 0, 0]],\n",
              "  \n",
              "         [[0, 0, 0, ..., 0, 0, 0],\n",
              "          [0, 0, 0, ..., 0, 0, 0],\n",
              "          [0, 0, 0, ..., 0, 0, 0],\n",
              "          ...,\n",
              "          [0, 0, 0, ..., 0, 0, 0],\n",
              "          [0, 0, 0, ..., 0, 0, 0],\n",
              "          [0, 0, 0, ..., 0, 0, 0]],\n",
              "  \n",
              "         ...,\n",
              "  \n",
              "         [[0, 0, 0, ..., 0, 0, 0],\n",
              "          [0, 0, 0, ..., 0, 0, 0],\n",
              "          [0, 0, 0, ..., 0, 0, 0],\n",
              "          ...,\n",
              "          [0, 0, 0, ..., 0, 0, 0],\n",
              "          [0, 0, 0, ..., 0, 0, 0],\n",
              "          [0, 0, 0, ..., 0, 0, 0]],\n",
              "  \n",
              "         [[0, 0, 0, ..., 0, 0, 0],\n",
              "          [0, 0, 0, ..., 0, 0, 0],\n",
              "          [0, 0, 0, ..., 0, 0, 0],\n",
              "          ...,\n",
              "          [0, 0, 0, ..., 0, 0, 0],\n",
              "          [0, 0, 0, ..., 0, 0, 0],\n",
              "          [0, 0, 0, ..., 0, 0, 0]],\n",
              "  \n",
              "         [[0, 0, 0, ..., 0, 0, 0],\n",
              "          [0, 0, 0, ..., 0, 0, 0],\n",
              "          [0, 0, 0, ..., 0, 0, 0],\n",
              "          ...,\n",
              "          [0, 0, 0, ..., 0, 0, 0],\n",
              "          [0, 0, 0, ..., 0, 0, 0],\n",
              "          [0, 0, 0, ..., 0, 0, 0]]], dtype=uint8),\n",
              "  array([5, 0, 4, ..., 5, 6, 8], dtype=uint8)),\n",
              " (array([[[0, 0, 0, ..., 0, 0, 0],\n",
              "          [0, 0, 0, ..., 0, 0, 0],\n",
              "          [0, 0, 0, ..., 0, 0, 0],\n",
              "          ...,\n",
              "          [0, 0, 0, ..., 0, 0, 0],\n",
              "          [0, 0, 0, ..., 0, 0, 0],\n",
              "          [0, 0, 0, ..., 0, 0, 0]],\n",
              "  \n",
              "         [[0, 0, 0, ..., 0, 0, 0],\n",
              "          [0, 0, 0, ..., 0, 0, 0],\n",
              "          [0, 0, 0, ..., 0, 0, 0],\n",
              "          ...,\n",
              "          [0, 0, 0, ..., 0, 0, 0],\n",
              "          [0, 0, 0, ..., 0, 0, 0],\n",
              "          [0, 0, 0, ..., 0, 0, 0]],\n",
              "  \n",
              "         [[0, 0, 0, ..., 0, 0, 0],\n",
              "          [0, 0, 0, ..., 0, 0, 0],\n",
              "          [0, 0, 0, ..., 0, 0, 0],\n",
              "          ...,\n",
              "          [0, 0, 0, ..., 0, 0, 0],\n",
              "          [0, 0, 0, ..., 0, 0, 0],\n",
              "          [0, 0, 0, ..., 0, 0, 0]],\n",
              "  \n",
              "         ...,\n",
              "  \n",
              "         [[0, 0, 0, ..., 0, 0, 0],\n",
              "          [0, 0, 0, ..., 0, 0, 0],\n",
              "          [0, 0, 0, ..., 0, 0, 0],\n",
              "          ...,\n",
              "          [0, 0, 0, ..., 0, 0, 0],\n",
              "          [0, 0, 0, ..., 0, 0, 0],\n",
              "          [0, 0, 0, ..., 0, 0, 0]],\n",
              "  \n",
              "         [[0, 0, 0, ..., 0, 0, 0],\n",
              "          [0, 0, 0, ..., 0, 0, 0],\n",
              "          [0, 0, 0, ..., 0, 0, 0],\n",
              "          ...,\n",
              "          [0, 0, 0, ..., 0, 0, 0],\n",
              "          [0, 0, 0, ..., 0, 0, 0],\n",
              "          [0, 0, 0, ..., 0, 0, 0]],\n",
              "  \n",
              "         [[0, 0, 0, ..., 0, 0, 0],\n",
              "          [0, 0, 0, ..., 0, 0, 0],\n",
              "          [0, 0, 0, ..., 0, 0, 0],\n",
              "          ...,\n",
              "          [0, 0, 0, ..., 0, 0, 0],\n",
              "          [0, 0, 0, ..., 0, 0, 0],\n",
              "          [0, 0, 0, ..., 0, 0, 0]]], dtype=uint8),\n",
              "  array([7, 2, 1, ..., 4, 5, 6], dtype=uint8)))"
            ]
          },
          "metadata": {
            "tags": []
          },
          "execution_count": 2
        }
      ]
    },
    {
      "cell_type": "code",
      "metadata": {
        "id": "0zmP_knALIoN",
        "colab_type": "code",
        "colab": {}
      },
      "source": [
        "(x_train, y_train),(_,_) = mnist.load_data()\n",
        "#load_data has things in tuple.First tuple takes data"
      ],
      "execution_count": 0,
      "outputs": []
    },
    {
      "cell_type": "code",
      "metadata": {
        "id": "10WatvPhLQTY",
        "colab_type": "code",
        "outputId": "13355906-0b61-4680-fa46-938985dc51ae",
        "colab": {
          "base_uri": "https://localhost:8080/",
          "height": 34
        }
      },
      "source": [
        "x_train.shape"
      ],
      "execution_count": 0,
      "outputs": [
        {
          "output_type": "execute_result",
          "data": {
            "text/plain": [
              "(60000, 28, 28)"
            ]
          },
          "metadata": {
            "tags": []
          },
          "execution_count": 4
        }
      ]
    },
    {
      "cell_type": "code",
      "metadata": {
        "id": "_8zL0_8FLvpT",
        "colab_type": "code",
        "colab": {}
      },
      "source": [
        "X = x_train.reshape((-1,28*28))\n",
        "# -1 will take care of the third dimension\n",
        "X = X/255."
      ],
      "execution_count": 0,
      "outputs": []
    },
    {
      "cell_type": "code",
      "metadata": {
        "id": "ulsFVhAHMYvo",
        "colab_type": "code",
        "outputId": "fd433ff4-7aca-4a75-dce5-3dcd5d3d90fc",
        "colab": {
          "base_uri": "https://localhost:8080/",
          "height": 34
        }
      },
      "source": [
        "X.shape"
      ],
      "execution_count": 0,
      "outputs": [
        {
          "output_type": "execute_result",
          "data": {
            "text/plain": [
              "(60000, 784)"
            ]
          },
          "metadata": {
            "tags": []
          },
          "execution_count": 6
        }
      ]
    },
    {
      "cell_type": "code",
      "metadata": {
        "id": "2f118wJFMbSj",
        "colab_type": "code",
        "outputId": "8780322e-c568-4a07-cf06-04c8a5c5c5d0",
        "colab": {
          "base_uri": "https://localhost:8080/",
          "height": 445
        }
      },
      "source": [
        "input_layer = Input(shape=[28*28])\n",
        "x = Dense(300,activation='relu')(input_layer)\n",
        "x = Dense(100, activation='relu')(x)\n",
        "x = Dense(10)(x)\n",
        "x = Dense(100,activation='relu')(x)\n",
        "x = Dense(300,activation='relu')(x)\n",
        "output_layer = Dense(784)(x)\n",
        "simple_autoencoder = Model(input_layer, output_layer)\n",
        "simple_autoencoder.compile(optimizer='adam',loss='mean_squared_error')\n",
        "simple_autoencoder.summary()"
      ],
      "execution_count": 0,
      "outputs": [
        {
          "output_type": "stream",
          "text": [
            "WARNING:tensorflow:From /usr/local/lib/python3.6/dist-packages/tensorflow/python/framework/op_def_library.py:263: colocate_with (from tensorflow.python.framework.ops) is deprecated and will be removed in a future version.\n",
            "Instructions for updating:\n",
            "Colocations handled automatically by placer.\n",
            "_________________________________________________________________\n",
            "Layer (type)                 Output Shape              Param #   \n",
            "=================================================================\n",
            "input_1 (InputLayer)         (None, 784)               0         \n",
            "_________________________________________________________________\n",
            "dense_1 (Dense)              (None, 300)               235500    \n",
            "_________________________________________________________________\n",
            "dense_2 (Dense)              (None, 100)               30100     \n",
            "_________________________________________________________________\n",
            "dense_3 (Dense)              (None, 10)                1010      \n",
            "_________________________________________________________________\n",
            "dense_4 (Dense)              (None, 100)               1100      \n",
            "_________________________________________________________________\n",
            "dense_5 (Dense)              (None, 300)               30300     \n",
            "_________________________________________________________________\n",
            "dense_6 (Dense)              (None, 784)               235984    \n",
            "=================================================================\n",
            "Total params: 533,994\n",
            "Trainable params: 533,994\n",
            "Non-trainable params: 0\n",
            "_________________________________________________________________\n"
          ],
          "name": "stdout"
        }
      ]
    },
    {
      "cell_type": "code",
      "metadata": {
        "id": "CkHvkh1MNCMC",
        "colab_type": "code",
        "outputId": "16891476-ed08-40aa-a15e-48910569013b",
        "colab": {
          "base_uri": "https://localhost:8080/",
          "height": 802
        }
      },
      "source": [
        "simple_autoencoder.fit(x=X,y=X,batch_size=32,epochs=20,validation_split=0.2)"
      ],
      "execution_count": 0,
      "outputs": [
        {
          "output_type": "stream",
          "text": [
            "WARNING:tensorflow:From /usr/local/lib/python3.6/dist-packages/tensorflow/python/ops/math_ops.py:3066: to_int32 (from tensorflow.python.ops.math_ops) is deprecated and will be removed in a future version.\n",
            "Instructions for updating:\n",
            "Use tf.cast instead.\n",
            "Train on 48000 samples, validate on 12000 samples\n",
            "Epoch 1/20\n",
            "48000/48000 [==============================] - 11s 231us/step - loss: 0.0288 - val_loss: 0.0228\n",
            "Epoch 2/20\n",
            "48000/48000 [==============================] - 10s 217us/step - loss: 0.0217 - val_loss: 0.0207\n",
            "Epoch 3/20\n",
            "48000/48000 [==============================] - 10s 213us/step - loss: 0.0201 - val_loss: 0.0199\n",
            "Epoch 4/20\n",
            "48000/48000 [==============================] - 10s 212us/step - loss: 0.0192 - val_loss: 0.0192\n",
            "Epoch 5/20\n",
            "48000/48000 [==============================] - 10s 211us/step - loss: 0.0186 - val_loss: 0.0187\n",
            "Epoch 6/20\n",
            "48000/48000 [==============================] - 10s 210us/step - loss: 0.0182 - val_loss: 0.0182\n",
            "Epoch 7/20\n",
            "48000/48000 [==============================] - 10s 211us/step - loss: 0.0178 - val_loss: 0.0179\n",
            "Epoch 8/20\n",
            "48000/48000 [==============================] - 10s 211us/step - loss: 0.0175 - val_loss: 0.0177\n",
            "Epoch 9/20\n",
            "48000/48000 [==============================] - 10s 211us/step - loss: 0.0172 - val_loss: 0.0175\n",
            "Epoch 10/20\n",
            "48000/48000 [==============================] - 10s 212us/step - loss: 0.0170 - val_loss: 0.0173\n",
            "Epoch 11/20\n",
            "48000/48000 [==============================] - 10s 217us/step - loss: 0.0168 - val_loss: 0.0172\n",
            "Epoch 12/20\n",
            "48000/48000 [==============================] - 10s 212us/step - loss: 0.0167 - val_loss: 0.0170\n",
            "Epoch 13/20\n",
            "48000/48000 [==============================] - 10s 212us/step - loss: 0.0165 - val_loss: 0.0169\n",
            "Epoch 14/20\n",
            "48000/48000 [==============================] - 10s 213us/step - loss: 0.0164 - val_loss: 0.0168\n",
            "Epoch 15/20\n",
            "48000/48000 [==============================] - 10s 213us/step - loss: 0.0162 - val_loss: 0.0167\n",
            "Epoch 16/20\n",
            "48000/48000 [==============================] - 10s 211us/step - loss: 0.0161 - val_loss: 0.0167\n",
            "Epoch 17/20\n",
            "48000/48000 [==============================] - 10s 213us/step - loss: 0.0160 - val_loss: 0.0165\n",
            "Epoch 18/20\n",
            "48000/48000 [==============================] - 10s 209us/step - loss: 0.0159 - val_loss: 0.0164\n",
            "Epoch 19/20\n",
            "48000/48000 [==============================] - 10s 207us/step - loss: 0.0158 - val_loss: 0.0163\n",
            "Epoch 20/20\n",
            "48000/48000 [==============================] - 10s 206us/step - loss: 0.0157 - val_loss: 0.0164\n"
          ],
          "name": "stdout"
        },
        {
          "output_type": "execute_result",
          "data": {
            "text/plain": [
              "<keras.callbacks.History at 0x7f700eea8a20>"
            ]
          },
          "metadata": {
            "tags": []
          },
          "execution_count": 8
        }
      ]
    },
    {
      "cell_type": "code",
      "metadata": {
        "id": "678fcOUXPaxK",
        "colab_type": "code",
        "colab": {}
      },
      "source": [
        "x1 = simple_autoencoder.predict(X[7].reshape((1,784)))"
      ],
      "execution_count": 0,
      "outputs": []
    },
    {
      "cell_type": "code",
      "metadata": {
        "id": "rr1uHKgLRSDK",
        "colab_type": "code",
        "outputId": "f5a67924-161c-4d10-b4b0-8eeca10ec005",
        "colab": {
          "base_uri": "https://localhost:8080/",
          "height": 282
        }
      },
      "source": [
        "plt.imshow(x1.reshape((28,28)))"
      ],
      "execution_count": 0,
      "outputs": [
        {
          "output_type": "execute_result",
          "data": {
            "text/plain": [
              "<matplotlib.image.AxesImage at 0x7f70064106a0>"
            ]
          },
          "metadata": {
            "tags": []
          },
          "execution_count": 10
        },
        {
          "output_type": "display_data",
          "data": {
            "image/png": "[encoded data removed]",
            "text/plain": [
              "<Figure size 432x288 with 1 Axes>"
            ]
          },
          "metadata": {
            "tags": []
          }
        }
      ]
    },
    {
      "cell_type": "markdown",
      "metadata": {
        "id": "UymldPdSXEAX",
        "colab_type": "text"
      },
      "source": [
        "Apply the above technique with CNN"
      ]
    },
    {
      "cell_type": "code",
      "metadata": {
        "id": "XanGbu3XRdTP",
        "colab_type": "code",
        "colab": {}
      },
      "source": [
        "from keras.layers import Conv2D, MaxPool2D, Input, Dense, Flatten, Dropout\n",
        "from keras.models import Model, K\n",
        "from keras.preprocessing.image import ImageDataGenerator\n",
        "import numpy as np"
      ],
      "execution_count": 0,
      "outputs": []
    },
    {
      "cell_type": "code",
      "metadata": {
        "id": "7SUc6y9sW1fu",
        "colab_type": "code",
        "outputId": "ed8832eb-9563-41c3-9f4c-28793d452ce1",
        "colab": {
          "base_uri": "https://localhost:8080/",
          "height": 476
        }
      },
      "source": [
        "K.clear_session()\n",
        "inp = Input(shape = [150,150,3], dtype = np.float32)\n",
        "x = Conv2D(filters = 32, kernel_size = (3,3), strides = 1, padding = 'same', activation = 'relu')(inp)\n",
        "x = MaxPool2D(pool_size = (2,2), strides = 1, padding = 'same')(x)\n",
        "x = Conv2D(filters = 48, kernel_size = (3,3), strides = 2, padding = 'valid', activation = 'relu')(x)\n",
        "x = MaxPool2D(pool_size = (2,2), strides = 2, padding = 'same')(x)\n",
        "x = Conv2D(filters = 64, kernel_size = (3,3), strides = 2, padding = 'valid', activation = 'relu')(x)\n",
        "x = MaxPool2D(pool_size = (2,2), strides = 2, padding = 'same')(x)\n",
        "x = Flatten()(x)\n",
        "x = Dense(units = 128, activation = 'relu')(x)\n",
        "out = Dense(1, activation = 'sigmoid')(x)\n",
        "model = Model(inp, out)\n",
        "model.summary()"
      ],
      "execution_count": 0,
      "outputs": [
        {
          "output_type": "stream",
          "text": [
            "_________________________________________________________________\n",
            "Layer (type)                 Output Shape              Param #   \n",
            "=================================================================\n",
            "input_1 (InputLayer)         (None, 150, 150, 3)       0         \n",
            "_________________________________________________________________\n",
            "conv2d_1 (Conv2D)            (None, 150, 150, 32)      896       \n",
            "_________________________________________________________________\n",
            "max_pooling2d_1 (MaxPooling2 (None, 150, 150, 32)      0         \n",
            "_________________________________________________________________\n",
            "conv2d_2 (Conv2D)            (None, 74, 74, 48)        13872     \n",
            "_________________________________________________________________\n",
            "max_pooling2d_2 (MaxPooling2 (None, 37, 37, 48)        0         \n",
            "_________________________________________________________________\n",
            "conv2d_3 (Conv2D)            (None, 18, 18, 64)        27712     \n",
            "_________________________________________________________________\n",
            "max_pooling2d_3 (MaxPooling2 (None, 9, 9, 64)          0         \n",
            "_________________________________________________________________\n",
            "flatten_1 (Flatten)          (None, 5184)              0         \n",
            "_________________________________________________________________\n",
            "dense_1 (Dense)              (None, 128)               663680    \n",
            "_________________________________________________________________\n",
            "dense_2 (Dense)              (None, 1)                 129       \n",
            "=================================================================\n",
            "Total params: 706,289\n",
            "Trainable params: 706,289\n",
            "Non-trainable params: 0\n",
            "_________________________________________________________________\n"
          ],
          "name": "stdout"
        }
      ]
    },
    {
      "cell_type": "code",
      "metadata": {
        "id": "Jmmy88AWW1wP",
        "colab_type": "code",
        "colab": {}
      },
      "source": [
        ""
      ],
      "execution_count": 0,
      "outputs": []
    },
    {
      "cell_type": "code",
      "metadata": {
        "id": "hq63bZCaW12N",
        "colab_type": "code",
        "colab": {}
      },
      "source": [
        ""
      ],
      "execution_count": 0,
      "outputs": []
    }
  ]
}